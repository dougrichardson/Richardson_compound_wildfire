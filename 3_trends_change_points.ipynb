{
 "cells": [
  {
   "cell_type": "markdown",
   "id": "957ad687-bf3f-4abf-b8b7-73337e60d7d0",
   "metadata": {},
   "source": [
    "# Trends and change points in fire weather and drought"
   ]
  },
  {
   "cell_type": "code",
   "execution_count": 1,
   "id": "67f44cc6-cdb0-4e03-b367-6937584d33c2",
   "metadata": {},
   "outputs": [],
   "source": [
    "from dask_jobqueue import SLURMCluster\n",
    "from dask.distributed import Client"
   ]
  },
  {
   "cell_type": "markdown",
   "id": "650a73dc-04db-430f-b489-a722bb329ffc",
   "metadata": {},
   "source": [
    "On Pearcey, nodes have 20 cores, each with 6GB. More than 20 cores, need more than one worker. `processes` ensures the number of workers."
   ]
  },
  {
   "cell_type": "code",
   "execution_count": 2,
   "id": "336a4f06-0290-47a7-83f2-a2f384529f7c",
   "metadata": {},
   "outputs": [],
   "source": [
    "cluster = SLURMCluster(#processes=1,\n",
    "                       walltime='00:10:00',\n",
    "                       cores=5,\n",
    "                       memory='30GB',\n",
    "                       job_extra=['--qos=\"express\"'])"
   ]
  },
  {
   "cell_type": "code",
   "execution_count": 3,
   "id": "02f86f31-8a87-46c1-af6a-347f1a635225",
   "metadata": {},
   "outputs": [],
   "source": [
    "cluster.scale(jobs=1)"
   ]
  },
  {
   "cell_type": "code",
   "execution_count": 4,
   "id": "c01aedd6-71ee-46cc-9274-892d8a01146f",
   "metadata": {},
   "outputs": [
    {
     "data": {
      "text/html": [
       "<div>\n",
       "    <div style=\"width: 24px; height: 24px; background-color: #e1e1e1; border: 3px solid #9D9D9D; border-radius: 5px; position: absolute;\"> </div>\n",
       "    <div style=\"margin-left: 48px;\">\n",
       "        <h3 style=\"margin-bottom: 0px;\">Client</h3>\n",
       "        <p style=\"color: #9D9D9D; margin-bottom: 0px;\">Client-0e6d7df9-45af-11ec-9498-b82a72733d41</p>\n",
       "        <table style=\"width: 100%; text-align: left;\">\n",
       "\n",
       "        <tr>\n",
       "        \n",
       "            <td style=\"text-align: left;\"><strong>Connection method:</strong> Cluster object</td>\n",
       "            <td style=\"text-align: left;\"><strong>Cluster type:</strong> dask_jobqueue.SLURMCluster</td>\n",
       "        \n",
       "        </tr>\n",
       "\n",
       "        \n",
       "            <tr>\n",
       "                <td style=\"text-align: left;\">\n",
       "                    <strong>Dashboard: </strong> <a href=\"http://10.141.0.117:8787/status\" target=\"_blank\">http://10.141.0.117:8787/status</a>\n",
       "                </td>\n",
       "                <td style=\"text-align: left;\"></td>\n",
       "            </tr>\n",
       "        \n",
       "\n",
       "        </table>\n",
       "\n",
       "        \n",
       "            <details>\n",
       "            <summary style=\"margin-bottom: 20px;\"><h3 style=\"display: inline;\">Cluster Info</h3></summary>\n",
       "            <div class=\"jp-RenderedHTMLCommon jp-RenderedHTML jp-mod-trusted jp-OutputArea-output\">\n",
       "    <div style=\"width: 24px; height: 24px; background-color: #e1e1e1; border: 3px solid #9D9D9D; border-radius: 5px; position: absolute;\">\n",
       "    </div>\n",
       "    <div style=\"margin-left: 48px;\">\n",
       "        <h3 style=\"margin-bottom: 0px; margin-top: 0px;\">SLURMCluster</h3>\n",
       "        <p style=\"color: #9D9D9D; margin-bottom: 0px;\">6cf43e77</p>\n",
       "        <table style=\"width: 100%; text-align: left;\">\n",
       "            <tr>\n",
       "                <td style=\"text-align: left;\">\n",
       "                    <strong>Dashboard:</strong> <a href=\"http://10.141.0.117:8787/status\" target=\"_blank\">http://10.141.0.117:8787/status</a>\n",
       "                </td>\n",
       "                <td style=\"text-align: left;\">\n",
       "                    <strong>Workers:</strong> 0\n",
       "                </td>\n",
       "            </tr>\n",
       "            <tr>\n",
       "                <td style=\"text-align: left;\">\n",
       "                    <strong>Total threads:</strong> 0\n",
       "                </td>\n",
       "                <td style=\"text-align: left;\">\n",
       "                    <strong>Total memory:</strong> 0 B\n",
       "                </td>\n",
       "            </tr>\n",
       "            \n",
       "        </table>\n",
       "\n",
       "        <details>\n",
       "            <summary style=\"margin-bottom: 20px;\">\n",
       "                <h3 style=\"display: inline;\">Scheduler Info</h3>\n",
       "            </summary>\n",
       "\n",
       "            <div style=\"\">\n",
       "    <div>\n",
       "        <div style=\"width: 24px; height: 24px; background-color: #FFF7E5; border: 3px solid #FF6132; border-radius: 5px; position: absolute;\"> </div>\n",
       "        <div style=\"margin-left: 48px;\">\n",
       "            <h3 style=\"margin-bottom: 0px;\">Scheduler</h3>\n",
       "            <p style=\"color: #9D9D9D; margin-bottom: 0px;\">Scheduler-d456d626-7639-4cf8-8797-d07db4e39ce4</p>\n",
       "            <table style=\"width: 100%; text-align: left;\">\n",
       "                <tr>\n",
       "                    <td style=\"text-align: left;\">\n",
       "                        <strong>Comm:</strong> tcp://10.141.0.117:39545\n",
       "                    </td>\n",
       "                    <td style=\"text-align: left;\">\n",
       "                        <strong>Workers:</strong> 0\n",
       "                    </td>\n",
       "                </tr>\n",
       "                <tr>\n",
       "                    <td style=\"text-align: left;\">\n",
       "                        <strong>Dashboard:</strong> <a href=\"http://10.141.0.117:8787/status\" target=\"_blank\">http://10.141.0.117:8787/status</a>\n",
       "                    </td>\n",
       "                    <td style=\"text-align: left;\">\n",
       "                        <strong>Total threads:</strong> 0\n",
       "                    </td>\n",
       "                </tr>\n",
       "                <tr>\n",
       "                    <td style=\"text-align: left;\">\n",
       "                        <strong>Started:</strong> Just now\n",
       "                    </td>\n",
       "                    <td style=\"text-align: left;\">\n",
       "                        <strong>Total memory:</strong> 0 B\n",
       "                    </td>\n",
       "                </tr>\n",
       "            </table>\n",
       "        </div>\n",
       "    </div>\n",
       "\n",
       "    <details style=\"margin-left: 48px;\">\n",
       "        <summary style=\"margin-bottom: 20px;\">\n",
       "            <h3 style=\"display: inline;\">Workers</h3>\n",
       "        </summary>\n",
       "\n",
       "        \n",
       "\n",
       "    </details>\n",
       "</div>\n",
       "\n",
       "        </details>\n",
       "    </div>\n",
       "</div>\n",
       "            </details>\n",
       "        \n",
       "\n",
       "    </div>\n",
       "</div>"
      ],
      "text/plain": [
       "<Client: 'tcp://10.141.0.117:39545' processes=0 threads=0, memory=0 B>"
      ]
     },
     "execution_count": 4,
     "metadata": {},
     "output_type": "execute_result"
    }
   ],
   "source": [
    "client = Client(cluster)\n",
    "client"
   ]
  },
  {
   "cell_type": "code",
   "execution_count": 5,
   "id": "5bc86aa9-7ff5-4230-80d5-979da2443e86",
   "metadata": {},
   "outputs": [],
   "source": [
    "import xarray as xr\n",
    "import numpy as np\n",
    "import string\n",
    "import copy\n",
    "\n",
    "import matplotlib.pyplot as plt\n",
    "import matplotlib as mpl\n",
    "\n",
    "import cartopy\n",
    "import cartopy.crs as ccrs\n",
    "from cartopy.util import add_cyclic_point\n",
    "cartopy.config['pre_existing_data_dir'] = '/datasets/work/oa-dcfp/work/squ027/data/cartopy-data'\n",
    "cartopy.config['data_dir'] = '/datasets/work/oa-dcfp/work/squ027/data/cartopy-data'"
   ]
  },
  {
   "cell_type": "code",
   "execution_count": 6,
   "id": "edf41d56-f3d2-40b5-8756-c518e84b273b",
   "metadata": {},
   "outputs": [],
   "source": [
    "import functions as fn"
   ]
  },
  {
   "cell_type": "markdown",
   "id": "6c831a57-fcbf-4926-a971-780e39a69687",
   "metadata": {
    "tags": []
   },
   "source": [
    "# Plotting parameters"
   ]
  },
  {
   "cell_type": "code",
   "execution_count": 7,
   "id": "e6dee195-d5c7-405a-9c95-a3fea74b28b9",
   "metadata": {},
   "outputs": [],
   "source": [
    "fontsize = 7\n",
    "coastlines_lw = 0.5\n",
    "linewidth = 1.1\n",
    "patheffect_lw_add = linewidth * 1.8\n",
    "    \n",
    "plt_params = {'lines.linewidth': linewidth,\n",
    "              \n",
    "              'hatch.linewidth': 0.5,\n",
    "    \n",
    "              'font.size': fontsize,\n",
    "              \n",
    "              'legend.fontsize' : fontsize-1,\n",
    "              'legend.columnspacing': 0.7,\n",
    "              'legend.labelspacing' : 0.03,\n",
    "              'legend.handlelength' : 1.,\n",
    "             \n",
    "              'axes.linewidth': 0.5}\n",
    "\n",
    "# default colours\n",
    "prop_cycle = plt.rcParams['axes.prop_cycle']\n",
    "colors = prop_cycle.by_key()['color']\n",
    "\n",
    "letters = list(string.ascii_lowercase)\n",
    "\n",
    "# Custom cmap\n",
    "custom_cmap = fn.get_magma_waterlily_cmap()"
   ]
  },
  {
   "cell_type": "markdown",
   "id": "dc49e877-24dc-434a-99a8-0525ddda4742",
   "metadata": {},
   "source": [
    "# Load masks"
   ]
  },
  {
   "cell_type": "markdown",
   "id": "98d9e09b-80f2-4074-a7b3-599eb6e95d49",
   "metadata": {},
   "source": [
    "### JRA land mask"
   ]
  },
  {
   "cell_type": "code",
   "execution_count": 8,
   "id": "0a66b49b-391a-4745-a802-ab37d235ef19",
   "metadata": {},
   "outputs": [],
   "source": [
    "jra_mask = xr.open_zarr('/scratch1/ric368/projects/fire/data/masks/jra_land_mask.zarr',\n",
    "                        consolidated=True).land\n",
    "jra_mask = jra_mask.compute()"
   ]
  },
  {
   "cell_type": "markdown",
   "id": "47897e07-05f9-43c2-821a-1ce2b6c51c2f",
   "metadata": {},
   "source": [
    "### Burned area mask on JRA grid"
   ]
  },
  {
   "cell_type": "code",
   "execution_count": 9,
   "id": "061bf374-6e10-4b1c-a932-89f559d23bdb",
   "metadata": {},
   "outputs": [],
   "source": [
    "jra_ba_mask = xr.open_zarr('/scratch1/ric368/projects/fire/data/masks/jra_burned_area_mask.zarr',\n",
    "                            consolidated=True).burned_cells\n",
    "jra_ba_mask = jra_ba_mask.compute()"
   ]
  },
  {
   "cell_type": "markdown",
   "id": "148107f7-6627-44ad-8bcc-897e24c2c545",
   "metadata": {},
   "source": [
    "# Load FFDI and precipitation data"
   ]
  },
  {
   "cell_type": "code",
   "execution_count": 10,
   "id": "70c0a620-1fdb-4c57-b846-0cb8e7516cae",
   "metadata": {},
   "outputs": [],
   "source": [
    "# Extreme FFDI days per year\n",
    "grid_ex_dpy = xr.open_zarr('/scratch1/ric368/projects/fire/data/derived/jra_extreme_ffdi_dpy_global_1959_2020.zarr',\n",
    "                             consolidated=True).ffdi_dpy\n",
    "grid_ex_dpy = grid_ex_dpy.compute()"
   ]
  },
  {
   "cell_type": "code",
   "execution_count": 11,
   "id": "2aaa8f9d-1c84-4901-ab6c-175d8a62e243",
   "metadata": {},
   "outputs": [],
   "source": [
    "# Precipitation for fire year\n",
    "grid_ypr = xr.open_zarr('/scratch1/ric368/projects/fire/data/derived/gpcc_fire_year_precip_jra_grid_global_1959_2020.zarr',\n",
    "                         consolidated=True).precip\n",
    "grid_ypr = grid_ypr.sel(time=slice('1960', '2020')).compute()"
   ]
  },
  {
   "cell_type": "markdown",
   "id": "c52fd7e5-b376-418f-8437-c9759d76774f",
   "metadata": {
    "tags": []
   },
   "source": [
    "# Set period and number of bootstraps"
   ]
  },
  {
   "cell_type": "code",
   "execution_count": 12,
   "id": "32c25d6a-a199-4f54-ab4c-1013b922f39a",
   "metadata": {},
   "outputs": [],
   "source": [
    "reps = 1000\n",
    "fy = 1970\n",
    "ly = 2020"
   ]
  },
  {
   "cell_type": "code",
   "execution_count": 13,
   "id": "3ca24868-8eff-4b42-9b8e-f4d655f83de2",
   "metadata": {},
   "outputs": [],
   "source": [
    "grid_ex_dpy = grid_ex_dpy.sel(time=slice(str(fy), str(ly)))\n",
    "grid_ypr = grid_ypr.sel(time=slice(str(fy), str(ly)))"
   ]
  },
  {
   "cell_type": "code",
   "execution_count": 14,
   "id": "2cdc9a74-f47f-4bf7-903b-f64217ffbc47",
   "metadata": {},
   "outputs": [],
   "source": [
    "# Anomalise before trend and change point testing to remove spatial variability\n",
    "grid_ypr = (grid_ypr - grid_ypr.mean('time')) / grid_ypr.std('time')"
   ]
  },
  {
   "cell_type": "markdown",
   "id": "afb02b39-464d-43aa-9304-9f17979560ec",
   "metadata": {},
   "source": [
    "# Estimate block length for resampling"
   ]
  },
  {
   "cell_type": "code",
   "execution_count": 15,
   "id": "ee1df54f-548b-4f20-ab3f-964a80c7b377",
   "metadata": {},
   "outputs": [
    {
     "name": "stderr",
     "output_type": "stream",
     "text": [
      "/scratch1/ric368/.conda/envs/pangeo/lib/python3.9/site-packages/statsmodels/tsa/stattools.py:667: FutureWarning: fft=True will become the default after the release of the 0.12 release of statsmodels. To suppress this warning, explicitly set fft=False.\n",
      "  warnings.warn(\n",
      "/scratch1/ric368/.conda/envs/pangeo/lib/python3.9/site-packages/statsmodels/tsa/stattools.py:667: FutureWarning: fft=True will become the default after the release of the 0.12 release of statsmodels. To suppress this warning, explicitly set fft=False.\n",
      "  warnings.warn(\n"
     ]
    }
   ],
   "source": [
    "ffdi_L_da = fn.estimate_L(grid_ex_dpy.where(jra_mask == 1))\n",
    "gpcc_L_da = fn.estimate_L(grid_ypr.where(jra_mask == 1))"
   ]
  },
  {
   "cell_type": "code",
   "execution_count": 16,
   "id": "dc6fb4ef-badc-4312-9874-6b9167c617ff",
   "metadata": {},
   "outputs": [
    {
     "data": {
      "text/plain": [
       "11"
      ]
     },
     "execution_count": 16,
     "metadata": {},
     "output_type": "execute_result"
    }
   ],
   "source": [
    "# Range of block lengths needed\n",
    "ffdi_L_range = np.unique(ffdi_L_da)\n",
    "ffdi_L_range = ffdi_L_range[~np.isnan(ffdi_L_range)].astype('int16')\n",
    "ffdi_L_da = ffdi_L_da.rename('L')\n",
    "\n",
    "gpcc_L_range = np.unique(gpcc_L_da)\n",
    "gpcc_L_range = gpcc_L_range[~np.isnan(gpcc_L_range)].astype('int16')\n",
    "gpcc_L_da = gpcc_L_da.rename('L')\n",
    "\n",
    "max_L = np.max([np.max(np.abs(ffdi_L_range)), np.max(np.abs(gpcc_L_range))])\n",
    "max_L"
   ]
  },
  {
   "cell_type": "markdown",
   "id": "03c2f158-444f-4a7d-989c-9ae8ae66a761",
   "metadata": {},
   "source": [
    "# Figure S2: estimated block lengths for resampling"
   ]
  },
  {
   "cell_type": "code",
   "execution_count": 18,
   "id": "255e118f-7764-402a-84ca-090d8b0e3814",
   "metadata": {},
   "outputs": [
    {
     "data": {
      "image/png": "[encoded data removed]",
      "text/plain": [
       "<Figure size 496.8x144 with 3 Axes>"
      ]
     },
     "metadata": {
      "needs_background": "light"
     },
     "output_type": "display_data"
    }
   ],
   "source": [
    "with plt.rc_context(plt_params):\n",
    "    fig, ax = plt.subplots(1, 2, figsize = (6.9, 2), subplot_kw={'projection': ccrs.PlateCarree()})\n",
    "    \n",
    "    ax[0].coastlines(color='black', lw=coastlines_lw)\n",
    "    ffdi_L_da.plot(ax=ax[0], levels=range(max_L+1), add_colorbar=False, rasterized=True)\n",
    "    ax[0].set_title('')\n",
    "    ax[0].text(0.03, 0.2, 'Fire weather\\ndays', transform=ax[0].transAxes)\n",
    "\n",
    "    ax[1].coastlines(color='black', lw=coastlines_lw)\n",
    "    p = gpcc_L_da.plot(ax=ax[1], levels=range(max_L+1), add_colorbar=False, rasterized=True)\n",
    "    ax[1].set_title('')\n",
    "    ax[1].text(0.03, 0.2, 'Precipitation', transform=ax[1].transAxes)\n",
    "    \n",
    "    cb_ax = fig.add_axes([0.21, 0.1, 0.6, 0.03])\n",
    "    cb = fig.colorbar(p, cax=cb_ax, orientation='horizontal', ticks=np.arange(0.5,max_L+1.5))\n",
    "    cb.ax.set_xticklabels(range(1,max_L+1))\n",
    "    cb.ax.set_xlabel('Block length [years]')\n",
    "    \n",
    "    plt.subplots_adjust(wspace=0.01)\n",
    "    \n",
    "    plt.savefig('./figures/block_lengths_'+str(fy)+'-'+str(ly)+'.pdf', bbox_inches='tight', format='pdf', dpi=400)"
   ]
  },
  {
   "cell_type": "markdown",
   "id": "c128abce-9e1c-49aa-b32a-1cf01bcbbeab",
   "metadata": {},
   "source": [
    "# Pettitt test"
   ]
  },
  {
   "cell_type": "code",
   "execution_count": null,
   "id": "1f8cea8b-961a-45a9-980a-7d230dacbf7c",
   "metadata": {},
   "outputs": [],
   "source": [
    "compute = False"
   ]
  },
  {
   "cell_type": "markdown",
   "id": "4c20bc5e-0004-4dbb-80d1-1905dc00fa86",
   "metadata": {},
   "source": [
    "### FFDI"
   ]
  },
  {
   "cell_type": "markdown",
   "id": "32ff0b2b-4074-4cec-bd32-2b02e8c3a5be",
   "metadata": {},
   "source": [
    "#### Takes ~1.5 hours with 3 workers, each with 10 cores, 60GB"
   ]
  },
  {
   "cell_type": "code",
   "execution_count": null,
   "id": "c429a331-a758-4e34-9f08-2c0f6ec1f37e",
   "metadata": {},
   "outputs": [],
   "source": [
    "%%time\n",
    "if compute:\n",
    "    # Pettitt test for each block length\n",
    "    pettitt_ds_list = []\n",
    "    for L in ffdi_L_range:\n",
    "        print('Computing for L =', L)\n",
    "        da = grid_ex_dpy.where(ffdi_L_da == L)\n",
    "        pettitt_ds_list.append(fn.cp_map_pettitt_ufunc(da, reps, L, fy, ly).assign_coords({'L': L}))\n",
    "        \n",
    "    pettitt_ds = xr.concat(pettitt_ds_list, dim='L')\n",
    "    pettitt_ds.to_zarr('/scratch1/ric368/projects/fire/data/derived/jra_ffdi_global_pettitt_'+str(reps)+'_reps_'+str(fy)+'-'+str(ly)+'.zarr',\n",
    "                   mode='w',\n",
    "                   consolidated=True)"
   ]
  },
  {
   "cell_type": "code",
   "execution_count": null,
   "id": "9895bc66-2e55-4712-8036-c3c1ab326b67",
   "metadata": {},
   "outputs": [],
   "source": [
    "ffdi_pettitt_ds = xr.open_zarr('/scratch1/ric368/projects/fire/data/derived/jra_ffdi_global_pettitt_'+str(reps)+'_reps_'+str(fy)+'-'+str(ly)+'.zarr',\n",
    "                               consolidated=True)"
   ]
  },
  {
   "cell_type": "markdown",
   "id": "b937ba5d-ef8c-43f8-8a7c-5071d9594558",
   "metadata": {},
   "source": [
    "### Precipitation"
   ]
  },
  {
   "cell_type": "markdown",
   "id": "4dbd16be-22a8-4841-afac-62870f50ea3c",
   "metadata": {},
   "source": [
    "#### Takes ~1 hour with 3 workers, each with 10 cores, 60GB"
   ]
  },
  {
   "cell_type": "code",
   "execution_count": null,
   "id": "156a7a3c-f019-47dd-9589-4cbd2edc319b",
   "metadata": {},
   "outputs": [],
   "source": [
    "%%time\n",
    "if compute:\n",
    "    pettitt_ds_list = []\n",
    "    for L in gpcc_L_range:\n",
    "        print('Computing for L =', L)\n",
    "        da = grid_ypr.where(gpcc_L_da == L)\n",
    "        pettitt_ds_list.append(fn.cp_map_pettitt_ufunc(da, reps, L, fy, ly).assign_coords({'L': L}))\n",
    "        \n",
    "    pettitt_ds = xr.concat(pettitt_ds_list, dim='L')\n",
    "    pettitt_ds.to_zarr('/scratch1/ric368/projects/fire/data/derived/gpcc_precip_anoms_global_pettitt_'+str(reps)+'_reps_'+str(fy)+'-'+str(ly)+'.zarr',\n",
    "                   mode='w',\n",
    "                   consolidated=True)"
   ]
  },
  {
   "cell_type": "code",
   "execution_count": null,
   "id": "51fea52a-7f93-4dc8-93ae-6906e6b27037",
   "metadata": {},
   "outputs": [],
   "source": [
    "gpcc_pettitt_ds = xr.open_zarr('/scratch1/ric368/projects/fire/data/derived/gpcc_precip_anoms_global_pettitt_'+str(reps)+'_reps_'+str(fy)+'-'+str(ly)+'.zarr',\n",
    "                               consolidated=True)"
   ]
  },
  {
   "cell_type": "markdown",
   "id": "eaf1b00c-b58f-461e-a57d-69a75161877e",
   "metadata": {},
   "source": [
    "# Mann-Kendall trend test"
   ]
  },
  {
   "cell_type": "markdown",
   "id": "8a6de200-a827-4808-89b4-3240b969e051",
   "metadata": {},
   "source": [
    "For a time series $\\{x_{t}, t=1, 2, \\ldots, n\\}$, the test statistic $S$ is given by:\n",
    "\n",
    "$$S = \\sum_{i=1}^{n-1} \\sum_{j=i+1}^{n} \\mathrm{sgn}(x_{j} - x_{i})$$"
   ]
  },
  {
   "cell_type": "markdown",
   "id": "ca75ebf0-a89d-4935-8f67-16eca26e92cd",
   "metadata": {},
   "source": [
    "### FFDI"
   ]
  },
  {
   "cell_type": "markdown",
   "id": "b3526f95-6aca-4b1c-b722-8399ebe37ccf",
   "metadata": {},
   "source": [
    "#### Takes ~ 1.5 hours with 1 workers, each 20 cores, 120GB"
   ]
  },
  {
   "cell_type": "code",
   "execution_count": null,
   "id": "10c5f1e1-434d-4495-9f3e-cf97b9b122a0",
   "metadata": {},
   "outputs": [],
   "source": [
    "%%time\n",
    "if compute:\n",
    "    mk_ds_list = []\n",
    "    for L in ffdi_L_range:\n",
    "        print('Computing for L =', L)\n",
    "        da = grid_ex_dpy.where(ffdi_L_da == L)\n",
    "#         mk = fn.cp_map_mk_ufunc(da, reps, L, fy, ly).assign_coords({'L': L})\n",
    "#         mk.to_zarr('/scratch1/ric368/projects/fire/data/derived/mktest/jra_ffdi_global_mann_kendall_L'+str(L)+'_'+str(reps)+'_reps_'+str(fy)+'-'+str(ly)+'.zarr',\n",
    "#                   mode='w',\n",
    "#                   consolidated=True)\n",
    "        mk_ds_list.append(fn.cp_map_mk_ufunc(da, reps, L, fy, ly).assign_coords({'L': L}))\n",
    "        \n",
    "    mk_ds = xr.concat(mk_ds_list, dim='L')\n",
    "    mk_ds.to_zarr('/scratch1/ric368/projects/fire/data/derived/jra_ffdi_global_mann_kendall_'+str(reps)+'_reps_'+str(fy)+'-'+str(ly)+'.zarr',\n",
    "              mode='w',\n",
    "              consolidated=True)"
   ]
  },
  {
   "cell_type": "code",
   "execution_count": null,
   "id": "a5743ef5-418a-4e07-ad27-3dc11821c7b5",
   "metadata": {},
   "outputs": [],
   "source": [
    "ffdi_mk_ds = xr.open_zarr('/scratch1/ric368/projects/fire/data/derived/jra_ffdi_global_mann_kendall_'+str(reps)+'_reps_'+str(fy)+'-'+str(ly)+'.zarr',\n",
    "                          consolidated=True)"
   ]
  },
  {
   "cell_type": "markdown",
   "id": "25fcbcbe-b392-40ef-a3c0-30b93626b30f",
   "metadata": {},
   "source": [
    "### Precipitation"
   ]
  },
  {
   "cell_type": "markdown",
   "id": "6554d1b6-4485-41b2-b483-247a7ce47aef",
   "metadata": {},
   "source": [
    "#### Takes ~ 1 hour with 1 workers, each 10 cores, 60GB"
   ]
  },
  {
   "cell_type": "code",
   "execution_count": null,
   "id": "c4bb253a-eaf0-4f85-8e57-68d8ef3d8d46",
   "metadata": {},
   "outputs": [],
   "source": [
    "%%time\n",
    "if compute:\n",
    "    mk_ds_list = []\n",
    "    for L in gpcc_L_range:\n",
    "        print('Computing for L =', L)\n",
    "        da = grid_ypr.where(gpcc_L_da == L)\n",
    "        mk_ds_list.append(fn.cp_map_mk_ufunc(da, reps, L, fy, ly).assign_coords({'L': L}))\n",
    "        \n",
    "    mk_ds = xr.concat(mk_ds_list, dim='L')\n",
    "    mk_ds.to_zarr('/scratch1/ric368/projects/fire/data/derived/gpcc_precip_anoms_global_mann_kendall_'+str(reps)+'_reps_'+str(fy)+'-'+str(ly)+'.zarr',\n",
    "              mode='w',\n",
    "              consolidated=True)"
   ]
  },
  {
   "cell_type": "code",
   "execution_count": null,
   "id": "9b7ab7e0-ac9d-4253-a06c-ede63d8cd646",
   "metadata": {},
   "outputs": [],
   "source": [
    "gpcc_mk_ds = xr.open_zarr('/scratch1/ric368/projects/fire/data/derived/gpcc_precip_anoms_global_mann_kendall_'+str(reps)+'_reps_'+str(fy)+'-'+str(ly)+'.zarr',\n",
    "                          consolidated=True)"
   ]
  },
  {
   "cell_type": "markdown",
   "id": "096ef6e4-63ec-4c0a-93d7-a34100692584",
   "metadata": {},
   "source": [
    "# Aggregate results for all $L$"
   ]
  },
  {
   "cell_type": "code",
   "execution_count": null,
   "id": "48bd1207-5f27-4faf-bdac-015b2284f93e",
   "metadata": {},
   "outputs": [],
   "source": [
    "ffdi_pettitt_all = ffdi_pettitt_ds.sum(dim='L').where(jra_ba_mask == 1).compute()\n",
    "ffdi_mk_all = ffdi_mk_ds.sum(dim='L').where(jra_ba_mask == 1).compute()"
   ]
  },
  {
   "cell_type": "code",
   "execution_count": null,
   "id": "22500c56-9260-48fa-bf8c-257038f87615",
   "metadata": {},
   "outputs": [],
   "source": [
    "gpcc_pettitt_all = gpcc_pettitt_ds.sum(dim='L').where(jra_ba_mask == 1).compute()\n",
    "gpcc_mk_all = gpcc_mk_ds.sum(dim='L').where(jra_ba_mask == 1).compute()"
   ]
  },
  {
   "cell_type": "markdown",
   "id": "28b08bc9-e7d1-4a87-9990-7183b89d7e4b",
   "metadata": {},
   "source": [
    "# False discovery rate"
   ]
  },
  {
   "cell_type": "code",
   "execution_count": null,
   "id": "6f4aff59-0ee0-47fa-99ce-752603e5f88e",
   "metadata": {},
   "outputs": [],
   "source": [
    "ffdi_pettitt_all['fdr_10'] = fn.fdr(ffdi_pettitt_all.p_value)\n",
    "gpcc_pettitt_all['fdr_10'] = fn.fdr(gpcc_pettitt_all.p_value)\n",
    "\n",
    "ffdi_mk_all['fdr_10'] = fn.fdr(ffdi_mk_all.p_value)\n",
    "gpcc_mk_all['fdr_10'] = fn.fdr(gpcc_mk_all.p_value)"
   ]
  },
  {
   "cell_type": "markdown",
   "id": "ab9ba35e-935b-4234-bc84-0e3a11c76d36",
   "metadata": {},
   "source": [
    "# Figure 4: FFDI change point and trend, and GPCC trend"
   ]
  },
  {
   "cell_type": "code",
   "execution_count": null,
   "id": "fb882fde-0028-4002-aadd-3950f56f14e1",
   "metadata": {},
   "outputs": [],
   "source": [
    "figsize = (6.9,3.)\n",
    "\n",
    "# Colormap stuff\n",
    "rgb_val = 0.9\n",
    "bad_col = np.repeat(rgb_val, 3)\n",
    "\n",
    "ffdi_cmap = copy.copy(custom_cmap)\n",
    "ffdi_cmap.set_under(bad_col)\n",
    "\n",
    "pr_cmap = copy.copy(mpl.cm.get_cmap('BrBG'))\n",
    "pr_cmap.set_under(bad_col)\n",
    "\n",
    "# For change point years, use discrete colormap\n",
    "# select desired starting colours\n",
    "colours = np.asarray(plt.rcParams['axes.prop_cycle'].by_key()['color'])[[7,4,0,1,2,6]]\n",
    "# get three grads of lightness\n",
    "l_colours = [fn.adjust_lightness(c, a) for c in colours for a in [1.3, 0.9]]\n",
    "cmap = mpl.colors.ListedColormap(l_colours)\n",
    "norm = mpl.colors.BoundaryNorm(np.arange(12.01), cmap.N) \n",
    "idx = [11,0,1,2,3,6,7,4,5,9]\n",
    "l_colours = [l_colours[lc] for lc in idx]\n",
    "yr_cmap = mpl.colors.ListedColormap(l_colours)\n",
    "\n",
    "with mpl.rc_context(plt_params):\n",
    "    ffdi_lon = ffdi_pettitt_all.lon\n",
    "    ffdi_lat = ffdi_pettitt_all.lat\n",
    "    \n",
    "    gpcc_lon = gpcc_pettitt_all.lon\n",
    "    gpcc_lat = gpcc_pettitt_all.lat\n",
    "    \n",
    "    fig, ax = plt.subplots(2, 2, figsize=figsize, subplot_kw={'projection': ccrs.PlateCarree()})\n",
    "\n",
    "    # ================ Precip trend\n",
    "    mags = xr.where(gpcc_mk_all.ts_slope.isnull(), -999, gpcc_mk_all.ts_slope).values\n",
    "    cyclic_mags, cyclic_lon = add_cyclic_point(mags, coord=gpcc_lon)\n",
    "    # First plot without set_under so that the colorbar doesn't register it\n",
    "    p_pr_t = ax[0,0].pcolormesh(cyclic_lon, gpcc_lat, cyclic_mags, cmap='BrBG', zorder=1, vmin=-0.05, vmax=0.05, rasterized=True)\n",
    "    # Then plot the colors we want\n",
    "    ax[0,0].pcolormesh(cyclic_lon, gpcc_lat, cyclic_mags, cmap=pr_cmap, zorder=2, vmin=-0.05, vmax=0.05, rasterized=True)\n",
    "    \n",
    "    fdr = gpcc_mk_all.fdr_10\n",
    "    fdr = xr.where(fdr == 1, 1, np.nan).values\n",
    "    cyclic_fdr, cyclic_lon = add_cyclic_point(fdr, coord=gpcc_lon)\n",
    "    ax[0,0].pcolor(cyclic_lon, gpcc_lat, cyclic_fdr, hatch='//////', shading='auto', alpha=0, rasterized=False, zorder=3)\n",
    "    \n",
    "    # ================ FFDI trend\n",
    "    mags = xr.where(ffdi_mk_all.ts_slope.isnull(), -999, ffdi_mk_all.ts_slope).values\n",
    "    cyclic_mags, cyclic_lon = add_cyclic_point(mags, coord=ffdi_lon)\n",
    "    p_ffdi_t = ax[0,1].pcolormesh(cyclic_lon, ffdi_lat, cyclic_mags, cmap=ffdi_cmap, zorder=1, vmin=-0.9, vmax=0.9, rasterized=True)\n",
    "    \n",
    "    fdr = ffdi_mk_all.fdr_10\n",
    "    fdr = xr.where(fdr == 1, 1, np.nan).values\n",
    "    cyclic_fdr, cyclic_lon = add_cyclic_point(fdr, coord=ffdi_lon)\n",
    "    ax[0,1].pcolor(cyclic_lon, ffdi_lat, cyclic_fdr, hatch='//////', shading='auto', alpha=0, rasterized=False)\n",
    "\n",
    "    # ================ FFDI change point year\n",
    "    years = ffdi_pettitt_all.cp_year.where(ffdi_pettitt_all.cp_year > fy).values\n",
    "    \n",
    "    ax[1,0].add_feature(cartopy.feature.LAND, color=bad_col, zorder=0) # Ensures masked out areas are bad_col\n",
    "    cyclic_years, cyclic_lon = add_cyclic_point(years, coord=ffdi_lon)\n",
    "    p_ffdi_cp_y = ax[1,0].pcolormesh(cyclic_lon, ffdi_lat, cyclic_years, cmap=yr_cmap, zorder=1, vmin=fy, vmax=2020, rasterized=True)\n",
    "    \n",
    "    # ================ FFDI change point magnitude    \n",
    "    mags = xr.where(ffdi_pettitt_all.cp_magnitude.isnull(), -999, ffdi_pettitt_all.cp_magnitude).values\n",
    "    cyclic_mags, cyclic_lon = add_cyclic_point(mags, coord=ffdi_lon)\n",
    "    p_ffdi_cp_m = ax[1,1].pcolormesh(cyclic_lon, ffdi_lat, cyclic_mags, cmap=ffdi_cmap, zorder=1, vmin=-60, vmax=60, rasterized=True)\n",
    "    \n",
    "    fdr = ffdi_pettitt_all.fdr_10\n",
    "    fdr = xr.where(fdr == 1, 1, np.nan).values\n",
    "    cyclic_fdr, cyclic_lon = add_cyclic_point(fdr, coord=ffdi_lon)\n",
    "    ax[1,1].pcolor(cyclic_lon, ffdi_lat, cyclic_fdr, hatch='//////', shading='auto', alpha=0, rasterized=False)\n",
    "\n",
    "    for a, ax_label in zip(ax.flatten(), [r'$\\bf{a}$', r'$\\bf{b}$', r'$\\bf{c}$', r'$\\bf{d}$']):\n",
    "        a.coastlines(lw=coastlines_lw, zorder=6)\n",
    "        a.set_extent([-179.99, 180, 90, -60])\n",
    "        a.add_feature(cartopy.feature.OCEAN, color='w', zorder=4)\n",
    "        for k, spine in a.spines.items():  #ax.spines is a dictionary\n",
    "                spine.set_zorder(10)\n",
    "        a.text(0.01, 0.98, ax_label,\n",
    "            ha='left', va='top', transform=a.transAxes, zorder=12)\n",
    "        \n",
    "    cb_ax = fig.add_axes([0.111, 0.52, 0.01, 0.34])\n",
    "    cb = fig.colorbar(p_pr_t, cax=cb_ax, orientation='vertical', ticks=np.arange(-0.05, 0.051, 0.025), extend='neither')\n",
    "    cb.ax.yaxis.set_ticks_position('left')\n",
    "    cb.ax.set_ylabel(r\"$P_a ' / \\sigma_{P_a}$ trend [$\\sigma$ y$^{-1}$]\")\n",
    "    cb.ax.yaxis.set_label_position('left')\n",
    "    \n",
    "    cb_ax = fig.add_axes([0.905, 0.52, 0.01, 0.34])\n",
    "    cb = fig.colorbar(p_ffdi_t, cax=cb_ax, orientation='vertical', ticks=np.arange(-0.9, 0.91, 0.3))\n",
    "    cb.ax.set_ylabel(r'$\\mathrm{FWD}_f$ trend [d y$^{-1}$]')\n",
    "    \n",
    "    cb_ax = fig.add_axes([0.111, 0.135, 0.01, 0.34])\n",
    "    cb = fig.colorbar(p_ffdi_cp_y, cax=cb_ax, orientation='vertical')\n",
    "    cb.ax.yaxis.set_ticks(range(fy, 2021, 10))\n",
    "    cb.ax.yaxis.set_ticks_position('left')\n",
    "    cb.ax.set_ylabel('$\\mathrm{FWD}_f$ step change\\nyear')\n",
    "    cb.ax.yaxis.set_label_position('left')\n",
    "    \n",
    "    cb_ax = fig.add_axes([0.905, 0.135, 0.01, 0.34])\n",
    "    cb = fig.colorbar(p_ffdi_cp_m, cax=cb_ax, orientation='vertical', ticks=np.arange(-60, 61, 30))\n",
    "    cb.ax.set_ylabel('$\\mathrm{FWD}_f$ step change\\nmagnitude '+r'[d y$^{-1}$]')\n",
    "        \n",
    "    plt.subplots_adjust(hspace=0.015, wspace=0.02)\n",
    "    \n",
    "    plt.savefig('./figures/ffdi_precip_mk_pettitt_'+str(fy)+'-2020.pdf', format='pdf', dpi=400, bbox_inches='tight')"
   ]
  },
  {
   "cell_type": "markdown",
   "id": "d385e92d-986e-45df-a6de-1d9f435fd107",
   "metadata": {},
   "source": [
    "# Figure S3: Precipitation Pettitt test"
   ]
  },
  {
   "cell_type": "code",
   "execution_count": null,
   "id": "a92367af-56d6-42d1-a649-40bc73630341",
   "metadata": {},
   "outputs": [],
   "source": [
    "figsize = (6.9,1.5)\n",
    "\n",
    "# Colormap stuff\n",
    "rgb_val = 0.9\n",
    "bad_col = np.repeat(rgb_val, 3)\n",
    "\n",
    "# ffdi_cmap = copy.copy(custom_cmap)\n",
    "# ffdi_cmap.set_under(bad_col)\n",
    "\n",
    "pr_cmap = copy.copy(mpl.cm.get_cmap('BrBG'))\n",
    "pr_cmap.set_under(bad_col)\n",
    "\n",
    "# For change point years, use discrete colormap\n",
    "# select desired starting colours\n",
    "colours = np.asarray(plt.rcParams['axes.prop_cycle'].by_key()['color'])[[7,4,0,1,2,6]]\n",
    "# get three grads of lightness\n",
    "l_colours = [fn.adjust_lightness(c, a) for c in colours for a in [1.3, 0.9]]\n",
    "cmap = mpl.colors.ListedColormap(l_colours)\n",
    "norm = mpl.colors.BoundaryNorm(np.arange(12.01), cmap.N) \n",
    "idx = [11,0,1,2,3,6,7,4,5,9]\n",
    "l_colours = [l_colours[lc] for lc in idx]\n",
    "yr_cmap = mpl.colors.ListedColormap(l_colours)\n",
    "\n",
    "with mpl.rc_context(plt_params):\n",
    "    ffdi_lon = ffdi_pettitt_all.lon\n",
    "    ffdi_lat = ffdi_pettitt_all.lat\n",
    "    \n",
    "    gpcc_lon = gpcc_pettitt_all.lon\n",
    "    gpcc_lat = gpcc_pettitt_all.lat\n",
    "    \n",
    "    fig, ax = plt.subplots(1, 2, figsize=figsize, subplot_kw={'projection': ccrs.PlateCarree()})\n",
    "\n",
    "    # ================ Precip change point year\n",
    "    years = gpcc_pettitt_all.cp_year.where(gpcc_pettitt_all.cp_year > fy).values\n",
    "    \n",
    "    ax[0].add_feature(cartopy.feature.LAND, color=bad_col, zorder=0) # Ensures masked out areas are bad_col\n",
    "    cyclic_years, cyclic_lon = add_cyclic_point(years, coord=gpcc_lon)\n",
    "    p_gpcc_cp_y = ax[0].pcolormesh(cyclic_lon, gpcc_lat, cyclic_years, cmap=yr_cmap, zorder=1, vmin=fy, vmax=2020, rasterized=True)\n",
    "    \n",
    "    # ================ Precip change point magnitude    \n",
    "    mags = xr.where(gpcc_pettitt_all.cp_magnitude.isnull(), -999, gpcc_pettitt_all.cp_magnitude).values\n",
    "    cyclic_mags, cyclic_lon = add_cyclic_point(mags, coord=gpcc_lon)\n",
    "    p_gpcc_cp_m = ax[1].pcolormesh(cyclic_lon, gpcc_lat, cyclic_mags, cmap=pr_cmap, zorder=1, vmin=-3.2, vmax=3.2, rasterized=True)\n",
    "    \n",
    "    fdr = gpcc_pettitt_all.fdr_10\n",
    "    fdr = xr.where(fdr == 1, 1, np.nan).values\n",
    "    cyclic_fdr, cyclic_lon = add_cyclic_point(fdr, coord=gpcc_lon)\n",
    "    ax[1].pcolor(cyclic_lon, gpcc_lat, cyclic_fdr, hatch='//////', shading='auto', alpha=0, rasterized=False)\n",
    "\n",
    "    for a, ax_label in zip(ax, [r'$\\bf{a}$', r'$\\bf{b}$']):\n",
    "        a.coastlines(lw=coastlines_lw, zorder=6)\n",
    "        a.set_extent([-179.99, 180, 90, -60])\n",
    "        a.add_feature(cartopy.feature.OCEAN, color='w', zorder=4)\n",
    "        for k, spine in a.spines.items():  #ax.spines is a dictionary\n",
    "                spine.set_zorder(10)\n",
    "        a.text(0.01, 0.98, ax_label,\n",
    "            ha='left', va='top', transform=a.transAxes, zorder=12)\n",
    "    \n",
    "    cb_ax = fig.add_axes([0.111, 0.135, 0.01, 0.72])\n",
    "    cb = fig.colorbar(p_gpcc_cp_y, cax=cb_ax, orientation='vertical')\n",
    "    cb.ax.yaxis.set_ticks(range(fy, 2021, 10))\n",
    "    cb.ax.yaxis.set_ticks_position('left')\n",
    "    cb.ax.set_ylabel(r\"$P_a ' / \\sigma_{P_a}$\" + ' step change\\nyear')\n",
    "    cb.ax.yaxis.set_label_position('left')\n",
    "    \n",
    "    cb_ax = fig.add_axes([0.905, 0.135, 0.01, 0.72])\n",
    "    cb = fig.colorbar(p_gpcc_cp_m, cax=cb_ax, orientation='vertical', ticks=np.arange(-3.2, 3.3, 0.8))\n",
    "    cb.ax.set_ylabel(r\"$P_a ' / \\sigma_{P_a}$\" +' step change\\nmagnitude '+r'[$\\sigma$ y$^{-1}$]')\n",
    "        \n",
    "    plt.subplots_adjust(hspace=0.015, wspace=0.02)\n",
    "    \n",
    "    plt.savefig('./figures/precip_pettitt_'+str(fy)+'-2020.pdf', format='pdf', dpi=400, bbox_inches='tight')"
   ]
  },
  {
   "cell_type": "markdown",
   "id": "ada75fac-7e13-4017-8122-09a51ed78814",
   "metadata": {},
   "source": [
    "# Trends in temperature, relative humidity and wind speed"
   ]
  },
  {
   "cell_type": "markdown",
   "id": "e38aca2c-7e2d-42c4-987a-a2c55bfd16d4",
   "metadata": {},
   "source": [
    "#### Hack some functions from `functions.py` to speed things up"
   ]
  },
  {
   "cell_type": "code",
   "execution_count": null,
   "id": "69479e9f-b1f4-4989-b0c8-814f620e745c",
   "metadata": {},
   "outputs": [],
   "source": [
    "def theil_sen_1d(X):\n",
    "    \"\"\"Performs the Mann-Kendall trend test and calculates the Theil-Sen slope\"\"\"\n",
    "    \n",
    "    from scipy.stats import theilslopes\n",
    "    \n",
    "    X = X[~np.isnan(X)]    \n",
    "    ts_slope, ts_intercept = theilslopes(X)[:2] # First element is estimate of slope, second is intercept\n",
    "    \n",
    "    return (ts_slope, ts_intercept)\n",
    "\n",
    "def theil_sen_nan_wrap(X):\n",
    "    \"\"\"\n",
    "        Only run Mann-Kendall test on data that isn't just NaNs.\n",
    "    \"\"\"\n",
    "    if np.count_nonzero(~np.isnan(X)) > 0:\n",
    "        return theil_sen_1d(X)\n",
    "    else:\n",
    "        return (np.nan, np.nan)\n",
    "\n",
    "\n",
    "def apply_theil_sen(da):\n",
    "    \"\"\"\n",
    "        Applies Mann-Kendall test to every grid box in da.\n",
    "        Also calculates the Theil-Sen slope and intercept.\n",
    "        \n",
    "        Parameters\n",
    "        ----------\n",
    "        da : xarray DataArray\n",
    "            Array of values.\n",
    "            \n",
    "        Returns\n",
    "        -------\n",
    "        ds : xarray DataSet\n",
    "            DataSet with the variables S, ts_slope and ts_intercept.\n",
    "    \"\"\"\n",
    "    ts = xr.apply_ufunc(theil_sen_nan_wrap, da, input_core_dims=[['time']], output_core_dims=[[], []], dask='allowed', vectorize=True)\n",
    "    ds = ts[0].to_dataset(name='ts_slope').merge(ts[1].to_dataset(name='ts_intercept'))\n",
    "    \n",
    "    return ds"
   ]
  },
  {
   "cell_type": "markdown",
   "id": "d440296f-d609-4990-a81e-1ec7d98b5666",
   "metadata": {},
   "source": [
    "#### Relative humidity, maximum temperature and maximum wind speed"
   ]
  },
  {
   "cell_type": "code",
   "execution_count": null,
   "id": "d1f66d5e-eac0-4d67-812b-c2861e9b3174",
   "metadata": {},
   "outputs": [],
   "source": [
    "jra_rh = xr.open_zarr('/scratch1/ric368/projects/fire/data/jra_daily_rh_global_19580101_20201231.zarr',\n",
    "                      consolidated=True)\n",
    "jra_rh = jra_rh.rename({'RH_GDS0_HTGL': 'rh'}).rh.sel(time=slice(str(fy), str(ly)))\n",
    "jra_rh = jra_rh.chunk({'time': -1, 'lat': 30, 'lon': 50})"
   ]
  },
  {
   "cell_type": "code",
   "execution_count": null,
   "id": "a64549a0-12d5-4da5-820e-be441655050e",
   "metadata": {},
   "outputs": [],
   "source": [
    "jra_tmax = xr.open_zarr('/scratch1/ric368/projects/fire/data/jra_daily_tmax_global_19580101_20201231.zarr',\n",
    "                          consolidated=True)\n",
    "jra_tmax = jra_tmax.rename({'TMAX_GDS4_HTGL': 'tmax'}).tmax\n",
    "jra_tmax = jra_tmax.chunk({'time': -1, 'lat': 30, 'lon': 50})"
   ]
  },
  {
   "cell_type": "code",
   "execution_count": null,
   "id": "81ee70ad-55c4-4f2d-ac36-6f09b4cb3d74",
   "metadata": {},
   "outputs": [],
   "source": [
    "jra_wmax = xr.open_zarr('/scratch1/ric368/projects/fire/data/jra_daily_wmax_global_19580101_20201231.zarr',\n",
    "                          consolidated=True)\n",
    "jra_wmax = jra_wmax.rename({'WSMX_GDS4_HTGL': 'wmax'}).wmax\n",
    "jra_wmax = jra_wmax.chunk({'time': -1, 'lat': 30, 'lon': 50})"
   ]
  },
  {
   "cell_type": "markdown",
   "id": "9be04dde-ec49-4683-b349-a3ed1df7a212",
   "metadata": {},
   "source": [
    "#### Annual averages, where the year is the fire year"
   ]
  },
  {
   "cell_type": "code",
   "execution_count": null,
   "id": "cd71b384-c56e-4dde-88c2-75025c78ccde",
   "metadata": {},
   "outputs": [],
   "source": [
    "year_ends = xr.open_zarr('/scratch1/ric368/projects/fire/data/derived/jra_ffdi_fire_year_end_month.zarr',\n",
    "                         consolidated=True).month\n",
    "year_ends = year_ends.compute()"
   ]
  },
  {
   "cell_type": "code",
   "execution_count": null,
   "id": "1f7b07e0-6572-4efe-a7f6-932e2744d154",
   "metadata": {},
   "outputs": [],
   "source": [
    "%%time\n",
    "# Aggregate to monthly and compute (~100MB per array)\n",
    "rh_m = jra_rh.resample({'time': '1MS'}).mean().compute()\n",
    "tmax_m = jra_tmax.resample({'time': '1MS'}).mean().compute()\n",
    "wmax_m = jra_wmax.resample({'time': '1MS'}).mean().compute()"
   ]
  },
  {
   "cell_type": "code",
   "execution_count": null,
   "id": "72cb68f0-583e-4162-a378-c35bbef52eb5",
   "metadata": {},
   "outputs": [],
   "source": [
    "# Switch lons to -180-180\n",
    "rh_m = fn.switch_lons(rh_m)\n",
    "tmax_m = fn.switch_lons(tmax_m)\n",
    "wmax_m = fn.switch_lons(wmax_m)"
   ]
  },
  {
   "cell_type": "code",
   "execution_count": null,
   "id": "3ee1aeb3-a2b1-4298-be36-51b42df4b5ba",
   "metadata": {},
   "outputs": [],
   "source": [
    "# Can use fn.accumulate_to_year_end. We want 5 months centred on max FFDI month, so need to accumulate over 5 months and shift data forward 3 months\n",
    "# e.g. for a location where the max FFDI month is July, and hence year end is Dec, we want the data from Apr-Sep, so we need to shift this forwards 3 months\n",
    "shift = 3\n",
    "acc = 5\n",
    "rh_ann = fn.accumulate_to_year_end(rh_m, year_ends, shift=shift, accumulate=acc) / acc\n",
    "tmax_ann = fn.accumulate_to_year_end(tmax_m, year_ends, shift=shift, accumulate=acc) / acc\n",
    "wmax_ann = fn.accumulate_to_year_end(wmax_m, year_ends, shift=shift, accumulate=acc) / acc"
   ]
  },
  {
   "cell_type": "code",
   "execution_count": null,
   "id": "193f121d-c5bc-41e0-ba08-c2135bee3350",
   "metadata": {},
   "outputs": [],
   "source": [
    "%%time\n",
    "rh_ts = apply_theil_sen(rh_ann.where(jra_mask == 1))\n",
    "tmax_ts = apply_theil_sen(tmax_ann.where(jra_mask == 1))\n",
    "wmax_ts = apply_theil_sen(wmax_ann.where(jra_mask == 1))"
   ]
  },
  {
   "cell_type": "code",
   "execution_count": null,
   "id": "e94f3161-66b7-4ee3-bb67-ec5ebc6e7d3f",
   "metadata": {},
   "outputs": [],
   "source": [
    "# Plot data\n",
    "tmax_p = tmax_ts.ts_slope.sel(lat=slice(90,-60))\n",
    "rh_p = rh_ts.ts_slope.sel(lat=slice(90,-60))\n",
    "wmax_p = wmax_ts.ts_slope.sel(lat=slice(90,-60))"
   ]
  },
  {
   "cell_type": "code",
   "execution_count": null,
   "id": "f12080c6-f6dc-4d48-9ba7-3c6d1d6c5e99",
   "metadata": {},
   "outputs": [],
   "source": [
    "# Get max and min to choose limits\n",
    "print(tmax_p.min().values, tmax_p.max().values)\n",
    "print(rh_p.min().values, rh_p.max().values)\n",
    "print(wmax_p.min().values, wmax_p.max().values)"
   ]
  },
  {
   "cell_type": "markdown",
   "id": "2ba05c40-2c86-4d88-848d-cc36df5e395b",
   "metadata": {},
   "source": [
    "# Figure S4: FFDI components trend"
   ]
  },
  {
   "cell_type": "code",
   "execution_count": null,
   "id": "75a8d00b-0564-45a9-b343-8f1f0e5074f0",
   "metadata": {},
   "outputs": [],
   "source": [
    "with mpl.rc_context(plt_params):\n",
    "    \n",
    "    fig, ax = plt.subplots(2, 2, figsize=(6.9, 3), subplot_kw={'projection': ccrs.PlateCarree()})\n",
    "\n",
    "    # ================ Precip trend    \n",
    "    p1 = tmax_p.plot(ax=ax[0,0], cmap='RdBu_r', vmin=-0.12, vmax=0.12, rasterized=True, add_colorbar=False)\n",
    "    p2 = rh_p.plot(ax=ax[0,1], cmap='BrBG', vmin=-0.4, vmax=0.4, rasterized=True, add_colorbar=False)\n",
    "    p3 = wmax_p.plot(ax=ax[1,0], cmap='RdBu_r', vmin=-0.06, vmax=0.06, rasterized=True, add_colorbar=False)\n",
    "    \n",
    "    cb_ax = fig.add_axes([0.111, 0.52, 0.01, 0.34])\n",
    "    cb = fig.colorbar(p1, cax=cb_ax, orientation='vertical', ticks=np.arange(-0.24, 0.25, 0.06), extend='max')\n",
    "    cb.ax.yaxis.set_ticks_position('left')\n",
    "    cb.ax.set_ylabel(\"Maximum daily\\ntemperature \"+r\"[$^{\\circ}$C y$^{-1}$]\")\n",
    "    cb.ax.yaxis.set_label_position('left')\n",
    "    \n",
    "    cb_ax = fig.add_axes([0.905, 0.52, 0.01, 0.34])\n",
    "    cb = fig.colorbar(p2, cax=cb_ax, orientation='vertical', ticks=np.arange(-0.4, 0.41, 0.2), extend='min')\n",
    "    cb.ax.set_ylabel(\"Daily relative\\nhumidity \"+r\"[% y$^{-1}$]\")\n",
    "    \n",
    "    cb_ax = fig.add_axes([0.111, 0.135, 0.01, 0.34])\n",
    "    cb = fig.colorbar(p3, cax=cb_ax, orientation='vertical', ticks=np.arange(-0.06, 0.061, 0.02), extend='both')\n",
    "    cb.ax.yaxis.set_ticks_position('left')\n",
    "    cb.ax.set_ylabel(\"Maximum daily wind\\nspeed \"+r\"[m s$^{-1}$ y$^{-1}$]\")\n",
    "    cb.ax.yaxis.set_label_position('left')\n",
    "\n",
    "    p4 = ffdi_mk_ds.sel(lat=slice(90,-60)).sum('L').ts_slope.plot(ax=ax[1,1], cmap=custom_cmap, vmin=-1, vmax=1, rasterized=True, add_colorbar=False)\n",
    "    ax[1,1].set_title('')\n",
    "    \n",
    "    cb_ax = fig.add_axes([0.905, 0.135, 0.01, 0.34])\n",
    "    cb = fig.colorbar(p4, cax=cb_ax, orientation='vertical', ticks=np.arange(-1, 1.1, 0.5))\n",
    "    cb.ax.set_ylabel(r'$\\mathrm{FWD}_f$ [d y$^{-1}$]')\n",
    "    \n",
    "    for a, ax_label in zip(ax.flatten(), [r'$\\bf{a}$', r'$\\bf{b}$', r'$\\bf{c}$', r'$\\bf{d}$']):\n",
    "        a.coastlines(lw=coastlines_lw, zorder=6)\n",
    "        a.text(0.01, 0.98, ax_label,\n",
    "            ha='left', va='top', transform=a.transAxes, zorder=12)\n",
    "        \n",
    "    plt.subplots_adjust(hspace=0.015, wspace=0.02)\n",
    "    \n",
    "    plt.savefig('./figures/ffdi_components_trend_'+str(fy)+'-2020.pdf', format='pdf', dpi=400, bbox_inches='tight')"
   ]
  },
  {
   "cell_type": "markdown",
   "id": "5e405680-2eba-4c90-a6e7-7de9432ba100",
   "metadata": {
    "tags": []
   },
   "source": [
    "# Close cluster"
   ]
  },
  {
   "cell_type": "code",
   "execution_count": null,
   "id": "15d3d1b0-b08d-4c70-bbe3-81ef74c36544",
   "metadata": {},
   "outputs": [],
   "source": [
    "client.close()\n",
    "cluster.close()"
   ]
  },
  {
   "cell_type": "code",
   "execution_count": null,
   "id": "a6f14cc5-56b9-4f89-9cc4-bcde35e4ab11",
   "metadata": {},
   "outputs": [],
   "source": []
  }
 ],
 "metadata": {
  "kernelspec": {
   "display_name": "Python 3",
   "language": "python",
   "name": "python3"
  },
  "language_info": {
   "codemirror_mode": {
    "name": "ipython",
    "version": 3
   },
   "file_extension": ".py",
   "mimetype": "text/x-python",
   "name": "python",
   "nbconvert_exporter": "python",
   "pygments_lexer": "ipython3",
   "version": "3.9.4"
  }
 },
 "nbformat": 4,
 "nbformat_minor": 5
}
