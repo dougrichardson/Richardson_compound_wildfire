{
 "cells": [
  {
   "cell_type": "markdown",
   "id": "d54ddd8e-fd5c-4aff-a51a-b6afaa1f260c",
   "metadata": {},
   "source": [
    "# Spatially compounding drought and fire weather events for Western North America (WNA) and East Australia (EAU)"
   ]
  },
  {
   "cell_type": "code",
   "execution_count": null,
   "id": "3c2fc2b0-9067-45d9-96e2-d0b96c607b58",
   "metadata": {},
   "outputs": [],
   "source": [
    "from dask_jobqueue import SLURMCluster\n",
    "from dask.distributed import Client"
   ]
  },
  {
   "cell_type": "markdown",
   "id": "c66aa932-e94c-4d70-ad50-bd4e4a0c0392",
   "metadata": {},
   "source": [
    "On Pearcey, nodes have 20 cores, each with 6GB. More than 20 cores, need more than one worker. `processes` ensures the number of workers."
   ]
  },
  {
   "cell_type": "code",
   "execution_count": null,
   "id": "10b00fd3-32ba-4b06-a347-3c8c5df2e0e1",
   "metadata": {},
   "outputs": [],
   "source": [
    "cluster = SLURMCluster(processes=1,\n",
    "                       walltime='01:00:00',\n",
    "                       cores=3,\n",
    "                       memory='18GB',\n",
    "                       job_extra=['--qos=\"express\"'])"
   ]
  },
  {
   "cell_type": "code",
   "execution_count": null,
   "id": "c6957fea-e129-4a9c-82dd-e63d54a6e1a5",
   "metadata": {},
   "outputs": [],
   "source": [
    "cluster.scale(jobs=1)"
   ]
  },
  {
   "cell_type": "code",
   "execution_count": null,
   "id": "8bb99c1d-235f-4ddf-9c27-a09802d82843",
   "metadata": {},
   "outputs": [],
   "source": [
    "client = Client(cluster)\n",
    "client"
   ]
  },
  {
   "cell_type": "code",
   "execution_count": null,
   "id": "3940636a-3705-401f-898f-d5f4c0113638",
   "metadata": {},
   "outputs": [],
   "source": [
    "import xarray as xr\n",
    "import numpy as np\n",
    "import string\n",
    "import copy\n",
    "\n",
    "import matplotlib.pyplot as plt\n",
    "import matplotlib as mpl\n",
    "\n",
    "import cartopy\n",
    "import cartopy.crs as ccrs\n",
    "from cartopy.util import add_cyclic_point\n",
    "cartopy.config['pre_existing_data_dir'] = '/datasets/work/oa-dcfp/work/squ027/data/cartopy-data'\n",
    "cartopy.config['data_dir'] = '/datasets/work/oa-dcfp/work/squ027/data/cartopy-data'"
   ]
  },
  {
   "cell_type": "code",
   "execution_count": null,
   "id": "1ca15c21-fe61-4d8c-87a4-2a0306a34982",
   "metadata": {},
   "outputs": [],
   "source": [
    "import functions as fn"
   ]
  },
  {
   "cell_type": "markdown",
   "id": "d9365496-39a7-4505-b53b-f7395d7b4b11",
   "metadata": {},
   "source": [
    "# Plotting parameters"
   ]
  },
  {
   "cell_type": "code",
   "execution_count": null,
   "id": "e278d1e5-4d6a-4601-ae7b-c643f31c7438",
   "metadata": {},
   "outputs": [],
   "source": [
    "fontsize = 7\n",
    "coastlines_lw = 0.5\n",
    "linewidth = 1.3\n",
    "patheffect_lw_add = linewidth * 1.8\n",
    "    \n",
    "plt_params = {'lines.linewidth': linewidth,\n",
    "              \n",
    "              'hatch.linewidth': 0.5,\n",
    "    \n",
    "              'font.size': fontsize,\n",
    "              \n",
    "              'legend.fontsize' : fontsize-1,\n",
    "              'legend.columnspacing': 0.7,\n",
    "              'legend.labelspacing' : 0.03,\n",
    "              'legend.handlelength' : 1.,\n",
    "              'patch.linewidth': .5,\n",
    "             \n",
    "              'axes.linewidth': 0.5}\n",
    "\n",
    "# default colours\n",
    "prop_cycle = plt.rcParams['axes.prop_cycle']\n",
    "colors = prop_cycle.by_key()['color']"
   ]
  },
  {
   "cell_type": "markdown",
   "id": "238e6114-4f6a-477e-87b7-49f62883c130",
   "metadata": {},
   "source": [
    "# Process diagnostics"
   ]
  },
  {
   "cell_type": "markdown",
   "id": "b6e4b194-a91a-4c60-837c-24be5b4909de",
   "metadata": {
    "tags": []
   },
   "source": [
    "### JRA diagnostic data"
   ]
  },
  {
   "cell_type": "markdown",
   "id": "5cf8a79e-c2ab-4335-8c8c-8cee50164570",
   "metadata": {},
   "source": [
    "u300, v300, z200, z500, vpot200"
   ]
  },
  {
   "cell_type": "code",
   "execution_count": null,
   "id": "bdc05fda-f9d8-473e-aa10-007efb7b9e68",
   "metadata": {},
   "outputs": [],
   "source": [
    "jra_isobaric_ds = xr.open_zarr('/scratch1/projects/dcfp/data/csiro-dcfp-jra55/isobaric_month.zarr',\n",
    "                               consolidated=True)\n",
    "jra_isobaric_ds = jra_isobaric_ds.rename({'g0_lat_2': 'lat',\n",
    "                                          'g0_lon_3': 'lon',\n",
    "                                          'initial_time0_hours': 'time',\n",
    "                                          'lv_ISBL1': 'level'})"
   ]
  },
  {
   "cell_type": "code",
   "execution_count": null,
   "id": "528240db-b6ec-4ca2-8a99-ac2530bfb0f2",
   "metadata": {},
   "outputs": [],
   "source": [
    "u300 = jra_isobaric_ds['UGRD_GDS0_ISBL'].sel(level=300).rename('u300').compute()\n",
    "v300 = jra_isobaric_ds['VGRD_GDS0_ISBL'].sel(level=300).rename('v300').compute()"
   ]
  },
  {
   "cell_type": "code",
   "execution_count": null,
   "id": "733c298e-462d-4ef3-9b94-81b9d21d3dff",
   "metadata": {},
   "outputs": [],
   "source": [
    "z200 = jra_isobaric_ds['HGT_GDS0_ISBL'].sel(level=200).rename('z200').compute()"
   ]
  },
  {
   "cell_type": "code",
   "execution_count": null,
   "id": "17c7bc29-14e5-4f48-ba33-182662889b53",
   "metadata": {},
   "outputs": [],
   "source": [
    "z500 = jra_isobaric_ds['HGT_GDS0_ISBL'].sel(level=500).rename('z500').compute()"
   ]
  },
  {
   "cell_type": "code",
   "execution_count": null,
   "id": "887ea70e-07f0-4223-9a86-8db8f8ab7248",
   "metadata": {},
   "outputs": [],
   "source": [
    "vpot200 = jra_isobaric_ds['VPOT_GDS0_ISBL'].sel(level=200).rename('vpot200').compute()"
   ]
  },
  {
   "cell_type": "markdown",
   "id": "668e1725-e060-4c7b-99a1-7878decf0576",
   "metadata": {},
   "source": [
    "#### MSLP"
   ]
  },
  {
   "cell_type": "code",
   "execution_count": null,
   "id": "b91074ea-33d1-4ba8-b107-eb317b7aacd9",
   "metadata": {},
   "outputs": [],
   "source": [
    "jra_surface_ds = xr.open_zarr('/scratch1/projects/dcfp/data/csiro-dcfp-jra55/surface_month.zarr',\n",
    "                              consolidated=True)"
   ]
  },
  {
   "cell_type": "code",
   "execution_count": null,
   "id": "eb18e40e-a018-4420-89a0-cbcd3607c643",
   "metadata": {},
   "outputs": [],
   "source": [
    "mslp = jra_surface_ds['PRMSL_GDS0_MSL'].rename({'initial_time0_hours': 'time',\n",
    "                                                'g0_lat_1': 'lat',\n",
    "                                                'g0_lon_2': 'lon'})\n",
    "mslp = mslp.rename('mslp').compute()"
   ]
  },
  {
   "cell_type": "markdown",
   "id": "99d3a65d-13db-4302-96a8-893521b9a127",
   "metadata": {},
   "source": [
    "#### Combine"
   ]
  },
  {
   "cell_type": "code",
   "execution_count": null,
   "id": "54aed329-4fcf-4134-84b9-24b47acc5bfa",
   "metadata": {},
   "outputs": [],
   "source": [
    "jra_ds = xr.Dataset()\n",
    "jra_ds['u300'] = u300\n",
    "jra_ds['v300'] = v300\n",
    "jra_ds['z200'] = z200\n",
    "jra_ds['z500'] = z500\n",
    "jra_ds['vpot200'] = vpot200\n",
    "jra_ds['mslp'] = mslp"
   ]
  },
  {
   "cell_type": "markdown",
   "id": "af0da595-68e7-46f6-88c1-f84d4adfc93d",
   "metadata": {},
   "source": [
    "### Climatology and anomalies"
   ]
  },
  {
   "cell_type": "code",
   "execution_count": null,
   "id": "6cd4018c-a7f7-475f-8bd6-8b7f07c33a34",
   "metadata": {},
   "outputs": [],
   "source": [
    "jra_clim = fn.climatology_monthly(jra_ds)\n",
    "jra_anom = fn.anomalise_monthly(jra_ds)"
   ]
  },
  {
   "cell_type": "markdown",
   "id": "a82877df-810b-41fb-9cb3-8fb2dcf65b06",
   "metadata": {},
   "source": [
    "### HadISST data"
   ]
  },
  {
   "cell_type": "code",
   "execution_count": null,
   "id": "d74761f7-4b28-4204-bb2d-e5164dce2b14",
   "metadata": {},
   "outputs": [],
   "source": [
    "hadisst = xr.open_zarr('/scratch1/projects/dcfp/data/csiro-dcfp-hadisst/ocean_month.zarr')\n",
    "hadisst = hadisst['sst'].sel(time=slice('1958', '2020')).rename({'latitude': 'lat', 'longitude': 'lon'}).compute()\n",
    "hadisst = hadisst.where(hadisst > -10, np.nan)"
   ]
  },
  {
   "cell_type": "code",
   "execution_count": null,
   "id": "1187e30c-4c78-4825-ac3c-8e5c203eea0d",
   "metadata": {},
   "outputs": [],
   "source": [
    "sst_anom = fn.anomalise_monthly(hadisst, climatology_slice=slice('1958', '2020')).compute()"
   ]
  },
  {
   "cell_type": "markdown",
   "id": "f495799b-b574-41ab-91b4-9614c2b13900",
   "metadata": {},
   "source": [
    "# Climate mode indices"
   ]
  },
  {
   "cell_type": "markdown",
   "id": "b4174ec6-7046-4216-bd18-69389ae03574",
   "metadata": {},
   "source": [
    "Nino 3.4"
   ]
  },
  {
   "cell_type": "code",
   "execution_count": null,
   "id": "42a9fc9b-b99b-40aa-b32f-e20d05c4b49c",
   "metadata": {},
   "outputs": [],
   "source": [
    "nino34 = sst_anom.sel(lat=slice(5, -5), lon=slice(-170, -120)).mean(['lat','lon'])\n",
    "nino34_dt = fn.detrend_dim(nino34, 'time')"
   ]
  },
  {
   "cell_type": "markdown",
   "id": "c99e2333-4645-44e7-831c-64be89ecbfeb",
   "metadata": {},
   "source": [
    "IOD"
   ]
  },
  {
   "cell_type": "code",
   "execution_count": null,
   "id": "d1b6e2d1-62d1-46a7-9f13-1dc797a5296c",
   "metadata": {},
   "outputs": [],
   "source": [
    "dmi = fn.calc_dmi(sst_anom)\n",
    "dmi_dt = fn.detrend_dim(dmi, 'time')"
   ]
  },
  {
   "cell_type": "markdown",
   "id": "7842c945-4bc0-4b22-9426-971d538a1813",
   "metadata": {},
   "source": [
    "SAM"
   ]
  },
  {
   "cell_type": "code",
   "execution_count": null,
   "id": "a2bcba18-036a-49b6-80ee-c2ad4810b25f",
   "metadata": {},
   "outputs": [],
   "source": [
    "sam = fn.calc_sam(jra_ds['mslp'], clim_period=[jra_ds.time[0], jra_ds.time[-1]])\n",
    "sam_dt = fn.detrend_dim(sam, 'time')"
   ]
  },
  {
   "cell_type": "markdown",
   "id": "88d0c69d-3512-4a57-a207-6f954d14c3da",
   "metadata": {},
   "source": [
    "GAR: Gulf of Alaska ridge index: https://www.nature.com/articles/ncomms9657#Sec7"
   ]
  },
  {
   "cell_type": "code",
   "execution_count": null,
   "id": "d45cd38a-4ce9-4f2f-812d-4045761332b9",
   "metadata": {},
   "outputs": [],
   "source": [
    "gar = jra_anom['z200'].sel(lat=slice(55, 45), lon=slice(-145+360, -135+360)).mean(['lat', 'lon'])\n",
    "gar_dt = fn.detrend_dim(gar, 'time')"
   ]
  },
  {
   "cell_type": "markdown",
   "id": "b40c48f9-e0b0-4659-a5e4-97c0a37dc209",
   "metadata": {},
   "source": [
    "PNA"
   ]
  },
  {
   "cell_type": "code",
   "execution_count": null,
   "id": "0ca0a7b0-ed60-4513-8ff3-dfcbf7f17ba0",
   "metadata": {},
   "outputs": [],
   "source": [
    "pna = fn.calc_pna(jra_anom['z500'])\n",
    "pna_dt = fn.detrend_dim(pna, 'time')"
   ]
  },
  {
   "cell_type": "markdown",
   "id": "67232e10-2a5c-4b41-bfe6-8047b60256fb",
   "metadata": {},
   "source": [
    "# Load FFDI, precipitation and burned area data"
   ]
  },
  {
   "cell_type": "code",
   "execution_count": null,
   "id": "94e7a0c4-458c-46b0-a8a2-ad32db236f36",
   "metadata": {},
   "outputs": [],
   "source": [
    "# Regional extreme FFDI days per month\n",
    "ar6_ffdi_m = xr.open_zarr('/scratch1/ric368/projects/fire/data/derived/jra_ar6_extreme_ffdi_dpm_global_195801_202012.zarr',\n",
    "                         consolidated=True).ffdi_dpm\n",
    "ar6_ffdi_m = ar6_ffdi_m.compute()"
   ]
  },
  {
   "cell_type": "code",
   "execution_count": null,
   "id": "c8513894-0a48-45a1-a17d-4c18c021dff6",
   "metadata": {},
   "outputs": [],
   "source": [
    "# Regional monthly precip\n",
    "ar6_pr = xr.open_zarr('/scratch1/ric368/projects/fire/data/derived/gpcc_ar6_precip_monthly_global_1950_2020.zarr',\n",
    "                     consolidated=True).precip\n",
    "ar6_pr = ar6_pr.compute()"
   ]
  },
  {
   "cell_type": "code",
   "execution_count": null,
   "id": "4e5bbbb0-a133-45d0-a884-3272c5fd2a4e",
   "metadata": {},
   "outputs": [],
   "source": [
    "# Regional monthly burned area\n",
    "ar6_ba = xr.open_zarr('/scratch1/ric368/projects/fire/data/derived/cci_ar6_burned_area_monthly_global_200101_202012.zarr',\n",
    "                     consolidated=True).burned_area\n",
    "ar6_ba = ar6_ba.compute()"
   ]
  },
  {
   "cell_type": "markdown",
   "id": "167ff948-9fa0-49cd-a302-36444ccba1c1",
   "metadata": {},
   "source": [
    "# Which set of months should the modes be averaged over?"
   ]
  },
  {
   "cell_type": "markdown",
   "id": "beea1395-ac1c-4b18-a405-ba44dab8dc58",
   "metadata": {},
   "source": [
    "#### Correlation between 3 monthly fire season FFDI and modes - which month gives highest correlation?"
   ]
  },
  {
   "cell_type": "code",
   "execution_count": null,
   "id": "7fc585a0-8a67-4cf1-a94c-f1d360da7301",
   "metadata": {},
   "outputs": [],
   "source": [
    "ffdi_wna = ar6_ffdi_m.sel(region='WNA').rolling(time=3).sum()\n",
    "ffdi_eau = ar6_ffdi_m.sel(region='EAU').rolling(time=3).sum()"
   ]
  },
  {
   "cell_type": "markdown",
   "id": "6cf4b15a-295d-4076-90e9-b556e3eabe44",
   "metadata": {},
   "source": [
    "#### Choose month based on maximum 3-monthly FFDI\n",
    "\n",
    "- JJA for WNA\n",
    "- OND for EAU"
   ]
  },
  {
   "cell_type": "code",
   "execution_count": null,
   "id": "e4f48141-5618-45d2-9450-e7b168201c36",
   "metadata": {},
   "outputs": [],
   "source": [
    "ffdi_wna.groupby('time.month').mean().plot()\n",
    "ffdi_eau.groupby('time.month').mean().plot()"
   ]
  },
  {
   "cell_type": "code",
   "execution_count": null,
   "id": "3a176f7d-53c4-410f-b923-04b7a3e40abe",
   "metadata": {},
   "outputs": [],
   "source": [
    "modes = {'nino34': nino34,\n",
    "         'dmi': dmi,\n",
    "         'sam': sam.drop('level'),\n",
    "         'gar': gar.drop('level'),\n",
    "         'pna': pna.drop('level')}"
   ]
  },
  {
   "cell_type": "code",
   "execution_count": null,
   "id": "eb2ef2b7-7719-4868-b7e6-e5816010b1e9",
   "metadata": {},
   "outputs": [],
   "source": [
    "# Calculate correlation between FFDI and modes\n",
    "\n",
    "roll = 3\n",
    "\n",
    "ffdi_mode_cor = np.full((2, 12, len(modes.keys())), np.nan)\n",
    "\n",
    "for i, ffdi_da, ffdi_season in zip([0,1], [ffdi_wna, ffdi_eau], [8, 12]):\n",
    "    f_ = ffdi_da.rolling(time=3).sum()\n",
    "    for j, mode in enumerate(list(modes.keys())):\n",
    "        m_ = modes[mode].rolling(time=roll).mean()\n",
    "        \n",
    "        for month in range(1,13):\n",
    "            f = f_.isel(time=f_.groupby('time.month').groups[ffdi_season])                \n",
    "            m = m_.isel(time=m_.groupby('time.month').groups[month])\n",
    "            m = m.assign_coords({'time': f.time})\n",
    "            ffdi_mode_cor[i,month-1,j] = xr.corr(f, m, 'time').values"
   ]
  },
  {
   "cell_type": "code",
   "execution_count": null,
   "id": "f4142c9e-3dac-4f96-ab75-f1ca78bd28ca",
   "metadata": {},
   "outputs": [],
   "source": [
    "# Put into DataArray\n",
    "ffdi_mode_cor = xr.DataArray(ffdi_mode_cor,\n",
    "                             coords={'region': ['WNA', 'EAU'],\n",
    "                                     'month': range(1,13),\n",
    "                                     'mode': list(modes.keys())},\n",
    "                             dims=['region',\n",
    "                                   'month',\n",
    "                                   'mode'])"
   ]
  },
  {
   "cell_type": "code",
   "execution_count": null,
   "id": "8f54c981-8242-4e1f-9282-85a03d58c79c",
   "metadata": {},
   "outputs": [],
   "source": [
    "mode_titles = [r'Ni$\\mathrm{\\~n}$o3.4',\n",
    "               'DMI',\n",
    "               'SAM',\n",
    "               'GAR',\n",
    "               'PNA']\n",
    "\n",
    "with plt.rc_context(plt_params):\n",
    "    fig, ax = plt.subplots(2, 3, figsize=(6.9, 3))\n",
    "\n",
    "    for i, mode in enumerate(ffdi_mode_cor.mode):\n",
    "        for j, r in enumerate(ffdi_mode_cor.region):\n",
    "            d = ffdi_mode_cor.sel(region=r, mode=mode)\n",
    "\n",
    "            p = d.plot(ax=ax.flatten()[i], label=r.values)\n",
    "            ax.flatten()[i].axvline(np.where(abs(d) == abs(d).max())[0]+1, c=colors[j], alpha=0.2, lw=10)\n",
    "            ax.flatten()[i].set_title('')\n",
    "            ax.flatten()[i].text(0.03, 0.87, mode_titles[i], transform=ax.flatten()[i].transAxes)\n",
    "            ax.flatten()[i].axhline(0, ls='--', c='k')\n",
    "            ax.flatten()[i].set_xticks(range(1,13))\n",
    "            ax.flatten()[i].set_yticks(np.arange(-0.4, 0.41, 0.2))\n",
    "            ax.flatten()[i].set_xlabel('Month')\n",
    "            ax.flatten()[i].set_ylabel('Pearson correlation [-]')\n",
    "        if i == 0:\n",
    "            ax.flatten()[i].legend(loc=4)\n",
    "\n",
    "    ax[-1,-1].axis('off')\n",
    "    plt.tight_layout()\n",
    "    \n",
    "#     plt.savefig('./figures/mode_ffdi_correlation.pdf', bbox_inches='tight', format='pdf', dpi=400)"
   ]
  },
  {
   "cell_type": "markdown",
   "id": "8256e954-a6f4-439f-a7e2-767bfbc9a227",
   "metadata": {},
   "source": [
    "# Average modes over months of greatest correlation with FFDI, except PNA"
   ]
  },
  {
   "cell_type": "code",
   "execution_count": null,
   "id": "9ed8afb1-5c34-46d9-b5a3-f2f80caa6158",
   "metadata": {},
   "outputs": [],
   "source": [
    "OND_nino34 = nino34.rolling(time=3).mean()\n",
    "OND_nino34 = OND_nino34.isel(time=OND_nino34.groupby('time.month').groups[12])"
   ]
  },
  {
   "cell_type": "code",
   "execution_count": null,
   "id": "5a1d7f8c-a2d4-43ca-8f38-77f45b6b044b",
   "metadata": {},
   "outputs": [],
   "source": [
    "SON_dmi = dmi.rolling(time=3).mean()\n",
    "SON_dmi = SON_dmi.isel(time=SON_dmi.groupby('time.month').groups[11])"
   ]
  },
  {
   "cell_type": "code",
   "execution_count": null,
   "id": "27b6ae62-401c-4de3-a0ae-508c550fe78d",
   "metadata": {},
   "outputs": [],
   "source": [
    "ASO_sam = sam.rolling(time=3).mean()\n",
    "ASO_sam = ASO_sam.isel(time=ASO_sam.groupby('time.month').groups[10])"
   ]
  },
  {
   "cell_type": "code",
   "execution_count": null,
   "id": "fed22b17-0859-4ab4-ac7f-2a87cde6e103",
   "metadata": {},
   "outputs": [],
   "source": [
    "ASO_gar = gar.rolling(time=3).mean()\n",
    "ASO_gar = ASO_gar.isel(time=ASO_gar.groupby('time.month').groups[10])"
   ]
  },
  {
   "cell_type": "code",
   "execution_count": null,
   "id": "0440266d-d32d-48d5-966b-05b6405e138c",
   "metadata": {},
   "outputs": [],
   "source": [
    "DJF_pna = pna.rolling(time=3).mean()\n",
    "DJF_pna = DJF_pna.isel(time=DJF_pna.groupby('time.month').groups[2])"
   ]
  },
  {
   "cell_type": "code",
   "execution_count": null,
   "id": "4b85e5eb-1181-4edb-9b05-e6f8855f268a",
   "metadata": {},
   "outputs": [],
   "source": [
    "modes = {r'Ni$\\mathrm{\\~n}$o3.4 OND': OND_nino34 / OND_nino34.std('time'),\n",
    "        'DMI SON': SON_dmi / SON_dmi.std('time'),\n",
    "        'SAM ASO': ASO_sam / ASO_sam.std('time'),\n",
    "        'PNA DJF': DJF_pna / DJF_pna.std('time'),\n",
    "        'GAR ASO': ASO_gar / ASO_gar.std('time')}"
   ]
  },
  {
   "cell_type": "markdown",
   "id": "ca848282-19f4-4e55-bfe6-d4910502c6ab",
   "metadata": {},
   "source": [
    "# Figure 6: Time series of FFDI, precip, burned area and modes"
   ]
  },
  {
   "cell_type": "code",
   "execution_count": null,
   "id": "b3e0eed1-15bf-4a0e-94e0-d20bde272c79",
   "metadata": {},
   "outputs": [],
   "source": [
    "def intersperse(lst, item, truncate=False):\n",
    "    if truncate:\n",
    "        result = [item] * (len(lst) * 2 - 1)\n",
    "    else:\n",
    "        result = [item] * (len(lst) * 2)\n",
    "    result[0::2] = lst\n",
    "    return result"
   ]
  },
  {
   "cell_type": "code",
   "execution_count": null,
   "id": "072dcbc7-b929-4713-a0eb-fa04bd20d2ed",
   "metadata": {},
   "outputs": [],
   "source": [
    "detrend = False\n",
    "modes_array = np.full((len(ASO_sam.time), len(modes.keys())), np.nan)\n",
    "for i, v in enumerate(modes.values()):\n",
    "    if detrend:\n",
    "        modes_array[:,i] = fn.detrend_dim(v, 'time').values\n",
    "    else:\n",
    "        modes_array[:,i] = v.values"
   ]
  },
  {
   "cell_type": "code",
   "execution_count": null,
   "id": "3777762c-0066-4366-b2bf-132a185967ce",
   "metadata": {},
   "outputs": [],
   "source": [
    "np.nanmin(modes_array)"
   ]
  },
  {
   "cell_type": "code",
   "execution_count": null,
   "id": "d5eb5df7-f53d-4123-923d-257a773e9e09",
   "metadata": {},
   "outputs": [],
   "source": [
    "np.nanmax(modes_array)"
   ]
  },
  {
   "cell_type": "code",
   "execution_count": null,
   "id": "e28f19f9-2539-4eae-9c04-143ad7e084e8",
   "metadata": {},
   "outputs": [],
   "source": [
    "def extend_event_months(event_da, aggregation_length):\n",
    "    \"\"\"\n",
    "        Returns a binary dataArray indicating time points prior to events\n",
    "        that contributed to that event. E.g. for 12-month rainfall events\n",
    "        that constitude a drought, the preceding 11 months are labelled 1.\n",
    "    \"\"\"\n",
    "    d = xr.where(event_da.notnull(), 1, 0)\n",
    "    event_start = np.where(d.diff('time').values == 1)[0]\n",
    "    \n",
    "    prior_indices = []\n",
    "    for i in range(1,aggregation_length):\n",
    "        prior_indices.append(event_start - i)\n",
    "    indices = np.sort(np.unique(np.concatenate(prior_indices)))\n",
    "    \n",
    "    all_dates = np.full(len(d), np.nan)\n",
    "    all_dates[indices] = 1\n",
    "    \n",
    "    return xr.DataArray(all_dates, coords=d.coords, dims=d.dims)"
   ]
  },
  {
   "cell_type": "code",
   "execution_count": null,
   "id": "9ea2b838-6ddf-4ef5-b95a-fa195e077ba6",
   "metadata": {},
   "outputs": [],
   "source": [
    "def lego_modes(ffdi_da, ba_da, pr_da, m_array,\n",
    "               r1='WNA', r2='EAU', fy=1958, ly=2020,\n",
    "               fw_roll=3, pr_roll=12, min_months=3, q=0.9,\n",
    "               save_plot=True, filename='spatially_compounding_modes.pdf'):\n",
    "    \n",
    "    years = range(fy, ly+1)\n",
    "    \n",
    "    # ========= Prep data\n",
    "    # FFDI\n",
    "    # Shift data backwards 3 months so that Jan-Dec now actually shows Apr-Mar\n",
    "    ffdi_da1 = ffdi_da.sel(region=r1).rolling(time=fw_roll).sum().shift(time=-3)\n",
    "    ffdi_da2 = ffdi_da.sel(region=r2).rolling(time=fw_roll).sum().shift(time=-3)\n",
    "\n",
    "    # Burned area\n",
    "    ba_da1 = ba_da.sel(region=r1).rolling(time=fw_roll).sum().shift(time=-3)\n",
    "    ba_da2 = ba_da.sel(region=r2).rolling(time=fw_roll).sum().shift(time=-3)\n",
    "\n",
    "    # Precip\n",
    "    pr_da1 = pr_da.sel(region=r1).rolling(time=pr_roll).sum().shift(time=-3)\n",
    "    pr_da2 = pr_da.sel(region=r2).rolling(time=pr_roll).sum().shift(time=-3)\n",
    "\n",
    "    # Thresholds for events\n",
    "    ffdi_t_da1 = ffdi_da1.mean('time') + ffdi_da1.std('time') #ffdi_da1.quantile(q)\n",
    "    ffdi_t_da2 = ffdi_da2.mean('time') + ffdi_da2.std('time') #ffdi_da2.quantile(q)\n",
    "\n",
    "    ba_t_da1 = ba_da1.mean('time') + ba_da1.std('time')  #ba_da1.quantile(q)\n",
    "    ba_t_da2 = ba_da2.mean('time') + ba_da2.std('time')  #ba_da2.quantile(q)\n",
    "\n",
    "    pr_t_da1 = pr_da1.mean('time') - pr_da1.std('time')   #pr_da1.quantile(1-q)\n",
    "    pr_t_da2 = pr_da2.mean('time') - pr_da2.std('time')   #pr_da2.quantile(1-q)\n",
    "    \n",
    "    # Find years that start or end on a drought\n",
    "    start_drought1 = (pr_da1 < pr_t_da1).isel(time=pr_da1.groupby('time.month').groups[1])\n",
    "    start_drought2 = (pr_da2 < pr_t_da2).isel(time=pr_da2.groupby('time.month').groups[1])\n",
    "    end_drought1 = (pr_da1 < pr_t_da1).isel(time=pr_da1.groupby('time.month').groups[12])\n",
    "    end_drought2 = (pr_da2 < pr_t_da2).isel(time=pr_da2.groupby('time.month').groups[12])\n",
    "\n",
    "    with plt.rc_context(plt_params):\n",
    "\n",
    "        tick_length = 2\n",
    "        tick_width = .5\n",
    "        xticklabels = []\n",
    "        \n",
    "        da1_color = colors[0] #cm.get_cmap('magma')(0.3)\n",
    "        da2_color = colors[1]\n",
    "        both_color = colors[6]\n",
    "\n",
    "        fig = plt.figure(figsize=(7, 2))\n",
    "        gs = fig.add_gridspec(ncols=len(years), nrows=2, figure=fig,height_ratios=[1,1])\n",
    "\n",
    "        end_year_drought1 = 0 # 1 == end on drought, 0 otherwise\n",
    "        end_year_drought2 = 0\n",
    "        \n",
    "        for i, y in enumerate(years):\n",
    "            ax = fig.add_subplot(gs[0,i])\n",
    "\n",
    "            # ========== FFDI\n",
    "            y1 = range(len(ffdi_da1.sel(time=str(y)).time))\n",
    "            x1 = xr.where(ffdi_da1.sel(time=str(y)) > ffdi_t_da1, 1, 0)\n",
    "            p_ffdi1 = ax.barh(y1, x1, color=da1_color, alpha=0.5, zorder=1, label=r1+' FWE')\n",
    "\n",
    "            y2 = range(len(ffdi_da2.sel(time=str(y)).time))\n",
    "            x2 = xr.where(ffdi_da2.sel(time=str(y)) > ffdi_t_da2, 1, 0)\n",
    "            p_ffdi2 = ax.barh(y2, x2, color=da2_color, alpha=0.5, zorder=1, label=r2+' FWE')\n",
    "            \n",
    "            x3 = xr.where((x1 + x2) == 2, 1, 0)\n",
    "            ax.barh(y2, x3, color='w', zorder=1)\n",
    "            p_both = ax.barh(y2, x3, color=both_color, alpha=.55, zorder=2, label='Both FWE')\n",
    "            \n",
    "            # If number of FFDI events exceeds min_months for either/both regions, plot marker\n",
    "            x1_tot = x1.sum().values\n",
    "            x2_tot = x2.sum().values\n",
    "            \n",
    "            ec = 'none'\n",
    "            ms = 15\n",
    "            alpha = 0.8\n",
    "            \n",
    "            if (x1_tot >= min_months) & (x2_tot < min_months):\n",
    "                ax.scatter(0.5, y1[-1]+1.3, marker='v', s=ms, color=da1_color, alpha=alpha, edgecolor=ec, lw=.05, clip_on=False)\n",
    "                \n",
    "            if (x2_tot >= min_months) & (x1_tot < min_months):\n",
    "                ax.scatter(0.5, y1[-1]+1.3, marker='^', s=ms, color=da2_color, alpha=alpha, edgecolor=ec, lw=.05, clip_on=False)\n",
    "                \n",
    "            if (x1_tot >= min_months) & (x2_tot >= min_months):\n",
    "                ax.scatter(0.5, y1[-1]+1.3, marker='s', s=ms, color=both_color, alpha=alpha, edgecolor=ec, lw=.05, clip_on=False, label='XXX')\n",
    "\n",
    "            # ========== Burned area\n",
    "            if y > 2000:\n",
    "                x1 = xr.where(ba_da1.sel(time=str(y)) > ba_t_da1, 0.5, np.nan)\n",
    "                p_ba1 = ax.scatter(x1, y1, marker='o', lw=.5, s=10, facecolor='None', edgecolor=da1_color, alpha=1, zorder=5, label=r1+' burned area')\n",
    "\n",
    "                x2 = xr.where(ba_da2.sel(time=str(y)) > ba_t_da2, 0.5, np.nan)\n",
    "                ax.scatter(x2, y2, marker='o', s=6, facecolor='white', edgecolor='None', alpha=1, zorder=3)\n",
    "                p_ba2 = ax.scatter(x2, y2, marker='o', s=3, facecolor=da2_color, edgecolor='None', alpha=1, zorder=4, label=r2+' burned area')\n",
    "\n",
    "            # ========== Precip\n",
    "            x1 = xr.where(pr_da1.sel(time=str(y)) < pr_t_da1, 0.8, np.nan)\n",
    "            x2 = xr.where(pr_da2.sel(time=str(y)) < pr_t_da2, 0.2, np.nan)\n",
    "                \n",
    "            # If drought extends into this year, extend the line backwards\n",
    "            if end_year_drought1 == 1:\n",
    "                y1 = np.append(-1, y1)\n",
    "                x1 = np.append(0.8, x1)\n",
    "            if end_year_drought2 == 1:\n",
    "                y2 = np.append(-1, y2)\n",
    "                x2 = np.append(0.2, x2)\n",
    "                \n",
    "            if y < 2020:\n",
    "                # Set whether this year ends on a drought\n",
    "                end_year_drought1 = end_drought1.sel(time=str(y)).values # 1 == end on drought, 0 otherwise\n",
    "                end_year_drought2 = end_drought2.sel(time=str(y)).values\n",
    "\n",
    "                # If drought extends into next year, extend the line forwards\n",
    "                next_year_drought1 = start_drought1.sel(time=str(y+1)).values\n",
    "                next_year_drought2 = start_drought2.sel(time=str(y+1)).values\n",
    "                if next_year_drought1 == 1:\n",
    "                    y1 = np.append(y1, np.max(y1)+1)\n",
    "                    x1 = np.append(x1, 0.8)\n",
    "                if next_year_drought2 == 1:\n",
    "                    y2 = np.append(y2, np.max(y2)+1)\n",
    "                    x2 = np.append(x2, 0.2)\n",
    "\n",
    "            p_pr1 = ax.plot(x1, y1, color=da1_color, marker='x', ms=1.5, markeredgewidth=.5, lw=.5, alpha=1, zorder=2, label=r1+' drought')\n",
    "            p_pr2 = ax.plot(x2, y2, color=da2_color, marker='x', ms=1.5, markeredgewidth=.5, lw=.5, alpha=1, zorder=2, label=r2+' drought')\n",
    "            \n",
    "            # Fill JFM in grey as data ends in 2020\n",
    "            if y == 2020:\n",
    "                ax.axhspan(y1[-3]-.5, y1[-1]+.5, color='gray')\n",
    "\n",
    "            ax.set_xlim(0, 1)\n",
    "            ax.set_xticks([0.5])\n",
    "            \n",
    "            ax.xaxis.tick_top()\n",
    "            if y % 5 == 0:\n",
    "                ax.tick_params(axis='x', length=tick_length * 2, width=tick_width)\n",
    "                ax.set_xticklabels([str(y)+'/'+str(y+1)[-2:]], fontsize=plt_params['font.size']-1)\n",
    "                xticklabels.append(y)\n",
    "            else:\n",
    "                ax.tick_params(axis='x', length=tick_length, width=tick_width)\n",
    "                ax.set_xticklabels('')\n",
    "                xticklabels.append('')\n",
    "\n",
    "            ax.set_ylim(-0.4, 11.4)\n",
    "            ax.set_yticks([])\n",
    "            ax.set_yticklabels('')  \n",
    "            if i == 0:\n",
    "                yticks = range(12)\n",
    "                ax.set_yticks(yticks)\n",
    "                ax.tick_params(axis='y', length=tick_length, width=tick_width)\n",
    "                ax.set_yticklabels(['Apr', '', 'Jun', '', 'Aug', '', 'Oct', '', 'Dec', '', 'Feb', ''], fontsize=plt_params['font.size']-1)\n",
    "                ax.set_ylabel('Month')\n",
    "                ax.plot((-1.5,0.), (12.3, 12.3), color='k', lw=tick_width, clip_on=False)\n",
    "                ax.text(-1.6, 12.2, '$\\geq3$ FWE', fontsize=plt_params['font.size']-1, clip_on=False, ha='right', va='center')\n",
    "                \n",
    "            ax.invert_yaxis()\n",
    "\n",
    "            if y == 2020:\n",
    "                yticks = range(12)\n",
    "                ax.legend(ncol=4, loc='lower left', bbox_to_anchor=(-62.5, -1.6, 42, 1), mode='expand')\n",
    "                ax.set_yticks(yticks)\n",
    "                ax.tick_params(axis='y', length=tick_length, width=tick_width)\n",
    "                ax.set_yticklabels(['Apr', '', 'Jun', '', 'Aug', '', 'Oct', '', 'Dec', '', 'Feb', ''], fontsize=plt_params['font.size']-1)\n",
    "                ax.yaxis.tick_right()\n",
    "\n",
    "        ### ========================= Modes plot\n",
    "        current_cmap = copy.copy(mpl.cm.get_cmap('RdBu_r'))\n",
    "        current_cmap.set_bad('gray')\n",
    "        ax2 = fig.add_subplot(gs[1,:])\n",
    "        p = ax2.imshow(m_array.T, cmap=current_cmap, vmin=-2.7, vmax=2.7)\n",
    "\n",
    "        ax2.set_xticks(range(len(years)))\n",
    "        ax2.tick_params(axis='both', length=tick_length, width=tick_width)\n",
    "        ax2.set_xticklabels(xticklabels, fontsize=plt_params['font.size']-1)\n",
    "        ax2.set_xlabel('Year')\n",
    "\n",
    "        ax2.set_yticks(range(len(modes.keys())))\n",
    "        ax2.set_yticklabels(modes.keys(), rotation=0, fontsize=plt_params['font.size']-1)\n",
    "        ax2.yaxis.set_ticks_position('both')\n",
    "        ax2.tick_params(labelright=True)\n",
    "        \n",
    "        cb_ax = fig.add_axes([0.65, 0.015, 0.25, 0.03])\n",
    "        cb = fig.colorbar(p, cax=cb_ax, orientation='horizontal', ticks=[-2.7, -1.8, -0.9, 0, 0.9, 1.8, 2.7], extend='neither')\n",
    "        cb.set_label('Anomaly [-]', fontsize=plt_params['font.size']-1)\n",
    "        cb.ax.tick_params(labelsize=plt_params['font.size']-1) \n",
    "\n",
    "        plt.subplots_adjust(wspace=0.0, hspace=0.)\n",
    "        \n",
    "        if save_plot:\n",
    "            plt.savefig('./figures/'+filename, bbox_inches='tight', format='pdf', dpi=400)"
   ]
  },
  {
   "cell_type": "code",
   "execution_count": null,
   "id": "24f936b2-2847-4096-9f07-6436559ad357",
   "metadata": {},
   "outputs": [],
   "source": [
    "%%time\n",
    "lego_modes(ar6_ffdi_m, ar6_ba, ar6_pr, modes_array, save_plot=True)"
   ]
  },
  {
   "cell_type": "markdown",
   "id": "54d2eb18-eead-4b87-a781-b835a7c95a5a",
   "metadata": {},
   "source": [
    "# Close cluster"
   ]
  },
  {
   "cell_type": "code",
   "execution_count": null,
   "id": "f7b6fdf2-5426-4670-b4f7-7c40eefdf86f",
   "metadata": {},
   "outputs": [],
   "source": [
    "client.close()\n",
    "cluster.close()"
   ]
  }
 ],
 "metadata": {
  "kernelspec": {
   "display_name": "Python 3",
   "language": "python",
   "name": "python3"
  },
  "language_info": {
   "codemirror_mode": {
    "name": "ipython",
    "version": 3
   },
   "file_extension": ".py",
   "mimetype": "text/x-python",
   "name": "python",
   "nbconvert_exporter": "python",
   "pygments_lexer": "ipython3",
   "version": "3.9.4"
  }
 },
 "nbformat": 4,
 "nbformat_minor": 5
}
