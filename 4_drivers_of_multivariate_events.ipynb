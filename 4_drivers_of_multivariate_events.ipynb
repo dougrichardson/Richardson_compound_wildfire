{
 "cells": [
  {
   "cell_type": "markdown",
   "id": "04290aa4-f1ab-4620-a230-c1c67280dddd",
   "metadata": {},
   "source": [
    "# Climate diagnostics of multivariate drought and fire weather events"
   ]
  },
  {
   "cell_type": "code",
   "execution_count": null,
   "id": "43f50eea-2ba3-4139-abd6-e78a45b47e38",
   "metadata": {},
   "outputs": [],
   "source": [
    "from dask_jobqueue import SLURMCluster\n",
    "from dask.distributed import Client"
   ]
  },
  {
   "cell_type": "markdown",
   "id": "989b6efa-c188-463d-9dfd-c0a657ebdd15",
   "metadata": {},
   "source": [
    "On Pearcey, nodes have 20 cores, each with 6GB. More than 20 cores, need more than one worker. `processes` ensures the number of workers."
   ]
  },
  {
   "cell_type": "code",
   "execution_count": null,
   "id": "11ef2b85-c241-4bc6-be3f-35ff25e4d1c6",
   "metadata": {},
   "outputs": [],
   "source": [
    "cluster = SLURMCluster(processes=1,\n",
    "                       walltime='01:30:00',\n",
    "                       cores=3,\n",
    "                       memory='36GB',\n",
    "                       job_extra=['--qos=\"express\"'])"
   ]
  },
  {
   "cell_type": "code",
   "execution_count": null,
   "id": "c75b32ac-df14-4676-ba87-4a09579eee39",
   "metadata": {},
   "outputs": [],
   "source": [
    "cluster.scale(jobs=1)"
   ]
  },
  {
   "cell_type": "code",
   "execution_count": null,
   "id": "685e8b91-2c91-4cc2-9a57-56342d47b044",
   "metadata": {},
   "outputs": [],
   "source": [
    "client = Client(cluster)\n",
    "client"
   ]
  },
  {
   "cell_type": "code",
   "execution_count": null,
   "id": "a810dd51-9927-4c16-b722-62100690b565",
   "metadata": {},
   "outputs": [],
   "source": [
    "import xarray as xr\n",
    "import numpy as np\n",
    "import copy\n",
    "import math\n",
    "import string\n",
    "\n",
    "import matplotlib.pyplot as plt\n",
    "import matplotlib as mpl\n",
    "\n",
    "import cartopy\n",
    "import cartopy.crs as ccrs\n",
    "cartopy.config['pre_existing_data_dir'] = '/datasets/work/oa-dcfp/work/squ027/data/cartopy-data'\n",
    "cartopy.config['data_dir'] = '/datasets/work/oa-dcfp/work/squ027/data/cartopy-data'"
   ]
  },
  {
   "cell_type": "code",
   "execution_count": null,
   "id": "8fb3d199-0e45-4d6d-acb8-d3364c9d8d6d",
   "metadata": {},
   "outputs": [],
   "source": [
    "import functions as fn"
   ]
  },
  {
   "cell_type": "markdown",
   "id": "4e00f8c2-a194-4033-ae23-0716aadadab4",
   "metadata": {},
   "source": [
    "# Plotting parameters"
   ]
  },
  {
   "cell_type": "code",
   "execution_count": null,
   "id": "47cbbf5e-cd02-419f-91a4-2e101ffbfb53",
   "metadata": {},
   "outputs": [],
   "source": [
    "fontsize = 7\n",
    "coastlines_lw = 0.5\n",
    "linewidth = 1.1\n",
    "patheffect_lw_add = linewidth * 1.8\n",
    "    \n",
    "plt_params = {'lines.linewidth': linewidth,\n",
    "              \n",
    "              'hatch.linewidth': 0.5,\n",
    "    \n",
    "              'font.size': fontsize,\n",
    "              \n",
    "              'legend.fontsize' : fontsize-1,\n",
    "              'legend.columnspacing': 0.7,\n",
    "              'legend.labelspacing' : 0.03,\n",
    "              'legend.handlelength' : 1.,\n",
    "             \n",
    "              'axes.linewidth': 0.5}\n",
    "\n",
    "# default colours\n",
    "prop_cycle = plt.rcParams['axes.prop_cycle']\n",
    "colors = prop_cycle.by_key()['color']\n",
    "\n",
    "letters = list(string.ascii_lowercase)\n",
    "\n",
    "# Custom cmap\n",
    "custom_cmap = fn.get_magma_waterlily_cmap()"
   ]
  },
  {
   "cell_type": "markdown",
   "id": "414629de-a04c-4678-ac00-7ca2a54008b8",
   "metadata": {},
   "source": [
    "# Load masks"
   ]
  },
  {
   "cell_type": "code",
   "execution_count": null,
   "id": "365e4f89-d1a4-47cd-b593-7cd823fe8144",
   "metadata": {},
   "outputs": [],
   "source": [
    "# Burned area on JRA grid\n",
    "jra_ba_mask = xr.open_zarr('/scratch1/ric368/projects/fire/data/masks/jra_burned_area_mask.zarr',\n",
    "                            consolidated=True).burned_cells"
   ]
  },
  {
   "cell_type": "code",
   "execution_count": null,
   "id": "03a1d99b-d8e5-4d4a-b6eb-467bd914fb31",
   "metadata": {},
   "outputs": [],
   "source": [
    "# Jra grid cell area\n",
    "jra_grid_area = xr.open_zarr('/scratch1/ric368/projects/fire/data/masks/jra_grid_area.zarr').cell_area\n",
    "jra_grid_area = jra_grid_area.compute()"
   ]
  },
  {
   "cell_type": "markdown",
   "id": "8f2d145f-1519-48e6-b222-a0776427a831",
   "metadata": {},
   "source": [
    "# Load FFDI, precip"
   ]
  },
  {
   "cell_type": "code",
   "execution_count": null,
   "id": "032ec4b6-0b1b-4800-999d-e6c2a2107d68",
   "metadata": {},
   "outputs": [],
   "source": [
    "# Extreme FFDI days per year\n",
    "grid_ex_dpy = xr.open_zarr('/scratch1/ric368/projects/fire/data/derived/jra_extreme_ffdi_dpy_global_1959_2020.zarr',\n",
    "                             consolidated=True).ffdi_dpy"
   ]
  },
  {
   "cell_type": "code",
   "execution_count": null,
   "id": "fe81eb8d-435b-4628-9cba-d7adacdfdeea",
   "metadata": {},
   "outputs": [],
   "source": [
    "# End month of fire year\n",
    "grid_year_end = xr.open_zarr('/scratch1/ric368/projects/fire/data/derived/jra_ffdi_fire_year_end_month.zarr',\n",
    "                             consolidated=True).month"
   ]
  },
  {
   "cell_type": "code",
   "execution_count": null,
   "id": "2232c3ea-45d6-4c61-93f2-b81af30b3c7c",
   "metadata": {},
   "outputs": [],
   "source": [
    "# Precipitation for fire year\n",
    "grid_ypr = xr.open_zarr('/scratch1/ric368/projects/fire/data/derived/gpcc_fire_year_precip_jra_grid_global_1959_2020.zarr',\n",
    "                         consolidated=True).precip"
   ]
  },
  {
   "cell_type": "markdown",
   "id": "f953bb92-f614-4eb5-850f-7915507a7af5",
   "metadata": {},
   "source": [
    "# Process diagnistics"
   ]
  },
  {
   "cell_type": "markdown",
   "id": "e112e532-0dc4-4598-9ed1-3f22be20aff0",
   "metadata": {},
   "source": [
    "### JRA diagnostic data\n",
    "u300, v300, z200, z500, vpot200"
   ]
  },
  {
   "cell_type": "code",
   "execution_count": null,
   "id": "66925370-da7c-4bb2-9ca4-bd421b39ab82",
   "metadata": {},
   "outputs": [],
   "source": [
    "jra_isobaric_ds = xr.open_zarr('/scratch1/projects/dcfp/data/csiro-dcfp-jra55/isobaric_month.zarr',\n",
    "                               consolidated=True)\n",
    "jra_isobaric_ds = jra_isobaric_ds.rename({'g0_lat_2': 'lat',\n",
    "                                          'g0_lon_3': 'lon',\n",
    "                                          'initial_time0_hours': 'time',\n",
    "                                          'lv_ISBL1': 'level'})"
   ]
  },
  {
   "cell_type": "code",
   "execution_count": null,
   "id": "3ccf7568-8f0c-4cd0-9787-68b58c8858f7",
   "metadata": {},
   "outputs": [],
   "source": [
    "u300 = jra_isobaric_ds['UGRD_GDS0_ISBL'].sel(level=300).rename('u300').compute()\n",
    "v300 = jra_isobaric_ds['VGRD_GDS0_ISBL'].sel(level=300).rename('v300').compute()\n",
    "z200 = jra_isobaric_ds['HGT_GDS0_ISBL'].sel(level=200).rename('z200').compute()\n",
    "z500 = jra_isobaric_ds['HGT_GDS0_ISBL'].sel(level=500).rename('z500').compute()\n",
    "vpot200 = jra_isobaric_ds['VPOT_GDS0_ISBL'].sel(level=200).rename('vpot200').compute()"
   ]
  },
  {
   "cell_type": "markdown",
   "id": "dbef66e8-ef2d-47f4-9d0d-53f6c25887b7",
   "metadata": {},
   "source": [
    "### MSLP"
   ]
  },
  {
   "cell_type": "code",
   "execution_count": null,
   "id": "70e3c733-39ab-429a-b291-f299039e3105",
   "metadata": {},
   "outputs": [],
   "source": [
    "jra_surface_ds = xr.open_zarr('/scratch1/projects/dcfp/data/csiro-dcfp-jra55/surface_month.zarr',\n",
    "                              consolidated=True)"
   ]
  },
  {
   "cell_type": "code",
   "execution_count": null,
   "id": "a9c1b5b4-3499-4b2b-bb77-b30fb79d000b",
   "metadata": {},
   "outputs": [],
   "source": [
    "mslp = jra_surface_ds['PRMSL_GDS0_MSL'].rename({'initial_time0_hours': 'time',\n",
    "                                                'g0_lat_1': 'lat',\n",
    "                                                'g0_lon_2': 'lon'})\n",
    "mslp = mslp.rename('mslp').compute()"
   ]
  },
  {
   "cell_type": "markdown",
   "id": "e0e65260-5d61-4de8-96dd-2fe8e3b57339",
   "metadata": {},
   "source": [
    "#### Combine"
   ]
  },
  {
   "cell_type": "code",
   "execution_count": null,
   "id": "8b2011ce-79c6-4741-8e7b-01469dee404d",
   "metadata": {},
   "outputs": [],
   "source": [
    "jra_ds = xr.Dataset()\n",
    "jra_ds['u300'] = u300\n",
    "jra_ds['v300'] = v300\n",
    "jra_ds['z200'] = z200\n",
    "jra_ds['z500'] = z500\n",
    "jra_ds['vpot200'] = vpot200\n",
    "jra_ds['mslp'] = mslp"
   ]
  },
  {
   "cell_type": "markdown",
   "id": "48a941c1-dc79-4ded-a71c-09af72b99905",
   "metadata": {},
   "source": [
    "### Climatology and anomalies"
   ]
  },
  {
   "cell_type": "code",
   "execution_count": null,
   "id": "99d13a6b-bc67-4036-b81a-22f838839436",
   "metadata": {},
   "outputs": [],
   "source": [
    "jra_clim = fn.climatology_monthly(jra_ds)\n",
    "jra_anom = fn.anomalise_monthly(jra_ds)"
   ]
  },
  {
   "cell_type": "markdown",
   "id": "105a449a-f5bb-4c98-991a-a125c74ebb3c",
   "metadata": {},
   "source": [
    "# HadISST data"
   ]
  },
  {
   "cell_type": "code",
   "execution_count": null,
   "id": "4bae778f-1d6f-473b-8b73-5d60e99a252e",
   "metadata": {},
   "outputs": [],
   "source": [
    "hadisst = xr.open_zarr('/scratch1/projects/dcfp/data/csiro-dcfp-hadisst/ocean_month.zarr')\n",
    "hadisst = hadisst['sst'].sel(time=slice('1958', '2020')).rename({'latitude': 'lat', 'longitude': 'lon'}).compute()\n",
    "hadisst = hadisst.where(hadisst > -10, np.nan)"
   ]
  },
  {
   "cell_type": "code",
   "execution_count": null,
   "id": "15e2d51e-676a-4089-a8f3-492e04977738",
   "metadata": {},
   "outputs": [],
   "source": [
    "sst_anom = fn.anomalise_monthly(hadisst, climatology_slice=slice('1958', '2020')).compute()"
   ]
  },
  {
   "cell_type": "markdown",
   "id": "827b282c-88b4-47c7-9644-b7c025c32724",
   "metadata": {},
   "source": [
    "# Composites on spatially extensive compound years"
   ]
  },
  {
   "cell_type": "markdown",
   "id": "0b651af7-8028-455b-8aaf-20c15ceb9a6f",
   "metadata": {},
   "source": [
    "### Grid cell compound events dataArray"
   ]
  },
  {
   "cell_type": "code",
   "execution_count": null,
   "id": "cbc82fed-74f0-4b07-9338-a60cdeb0ca0c",
   "metadata": {},
   "outputs": [],
   "source": [
    "pr = grid_ypr.sel(time=slice('1959', '2020'))\n",
    "\n",
    "ffdi_thresh = grid_ex_dpy.mean(dim='time') + grid_ex_dpy.std(dim='time')\n",
    "pr_thresh = pr.mean(dim='time') - pr.std(dim='time')\n",
    "\n",
    "# Compound (multivariate) events\n",
    "cc_da = xr.where((pr < pr_thresh) &\n",
    "                 (grid_ex_dpy > ffdi_thresh),\n",
    "                 1,\n",
    "                 0)"
   ]
  },
  {
   "cell_type": "markdown",
   "id": "5bbec1a1-476d-4d19-8a52-d82ab47a5ca2",
   "metadata": {},
   "source": [
    "### Annual precip and FFDI anomalies"
   ]
  },
  {
   "cell_type": "code",
   "execution_count": null,
   "id": "726fcb65-bcba-4d29-a834-1df1dc485491",
   "metadata": {},
   "outputs": [],
   "source": [
    "ffdi_anoms = grid_ex_dpy - grid_ex_dpy.mean('time')"
   ]
  },
  {
   "cell_type": "code",
   "execution_count": null,
   "id": "dfbb0c1a-ee90-4d51-8725-76d1e707a4d5",
   "metadata": {},
   "outputs": [],
   "source": [
    "pr_anoms = (pr - pr.mean('time')) / pr.std('time')"
   ]
  },
  {
   "cell_type": "code",
   "execution_count": null,
   "id": "4099193f-0d9c-4b53-9c65-3edc40ce8ff4",
   "metadata": {},
   "outputs": [],
   "source": [
    "# Split data into Northern Hemisphere, Tropics and Southern Hemisphere at the Tropics of Cancer and Capricorn\n",
    "nh_lim = 23.44\n",
    "sh_lim = -23.44\n",
    "\n",
    "r_slices = {'N. Hem.': slice(90, nh_lim),\n",
    "            'Tropics': slice(nh_lim, sh_lim),\n",
    "            'S. Hem.': slice(sh_lim, -60)}"
   ]
  },
  {
   "cell_type": "markdown",
   "id": "973ea5a3-fb6d-4b71-a44b-06f246b1056b",
   "metadata": {},
   "source": [
    "### Choose averaging period for diagnostics\n",
    "\n",
    "- FFDI and precip are done on grid cell basis.\n",
    "- We want the best 12 month period to suit the FW and precip years"
   ]
  },
  {
   "cell_type": "code",
   "execution_count": null,
   "id": "3761ed90-4d66-420d-bdc6-e39bdce58a09",
   "metadata": {},
   "outputs": [],
   "source": [
    "# Month of fire year end\n",
    "ye = grid_year_end.where(jra_ba_mask == 1)\n",
    "year_ends = {}\n",
    "for r in r_slices.keys():\n",
    "    y = ye.sel(lat=r_slices[r]).values.flatten()\n",
    "    y = y[~np.isnan(y)].astype('int')\n",
    "    c = np.bincount(y)\n",
    "    modal_y = np.where(c == max(c))[0][0]\n",
    "    year_ends[r] = modal_y\n",
    "    print('Modal year end month for',r,'is',modal_y)\n",
    "    print(c[1:])"
   ]
  },
  {
   "cell_type": "code",
   "execution_count": null,
   "id": "25ef608a-af9e-408c-a8c5-90720c96968a",
   "metadata": {},
   "outputs": [],
   "source": [
    "def get_composite_plot_data(event_da, ffdi_da, pr_da, jra_ff_da, jra_anoms_da, sst_anom_da, region_dict, year_ends_dict, mask):\n",
    "    \n",
    "    plot_data = {}\n",
    "\n",
    "    for i, (r, r_s) in enumerate(zip(region_dict.keys(), region_dict.values())):\n",
    "\n",
    "        plot_data[r] = {}\n",
    "\n",
    "        # Total area in region\n",
    "        r_tot = jra_grid_area.where(mask == 1).sel(lat=r_s).sum()\n",
    "        # Proportion of area with events\n",
    "        d = ((event_da.where(mask == 1).sel(lat=r_s) * jra_grid_area.sel(lat=r_s)).sum(['lat', 'lon']) / r_tot).sel(time=slice('1960', '2020'))\n",
    "        # Top 10% years\n",
    "        years_da = xr.where(d > d.quantile(0.9, 'time'), 1, np.nan) \n",
    "        i_years = np.where(years_da.values == 1)[0]\n",
    "        years = [str(i) for i in years_da.time.dt.year.values[i_years]]\n",
    "        plot_data[r]['years_str1'] = ', '.join(years[:3])\n",
    "        plot_data[r]['years_str2'] = ', '.join(years[3:])\n",
    "        \n",
    "        # Adjust diagnostic data for correct set of months\n",
    "        # Shift data forward 5 months so that you can select on year_end\n",
    "        # For 3 month data, shift forward one less month so that chosen 3 months are centred on the peak FFDI month\n",
    "        # Only keep data from 1960, as prior years do not always have the requisite samples on z500 for a 12m average\n",
    "        year_end = year_ends_dict[r]\n",
    "        \n",
    "        jra_a_3 = jra_anoms_da['z500'].shift(time=4).rolling(time=3).mean().isel(time=jra_anoms_da.groupby('time.month').groups[year_end]).sel(time=slice('1960', '2020'))\n",
    "        jra_a_12_vpot = jra_anoms_da['vpot200'].shift(time=5).rolling(time=12).mean().isel(time=jra_anoms_da.groupby('time.month').groups[year_end]).sel(time=slice('1960', '2020'))\n",
    "        jra_a_12_z500 = jra_anoms_da['z500'].shift(time=5).rolling(time=12).mean().isel(time=jra_anoms_da.groupby('time.month').groups[year_end]).sel(time=slice('1960', '2020'))\n",
    "        sst_a_3 = sst_anom_da.shift(time=4).rolling(time=3).mean().isel(time=sst_anom_da.groupby('time.month').groups[year_end]).sel(time=slice('1960', '2020'))\n",
    "        sst_a_12 = sst_anom_da.shift(time=5).rolling(time=12).mean().isel(time=sst_anom_da.groupby('time.month').groups[year_end]).sel(time=slice('1960', '2020'))\n",
    "\n",
    "        p_ffdi = ffdi_da.isel(time=i_years).mean('time').where(mask==1)\n",
    "        plot_data[r]['ffdi'] = xr.where(p_ffdi.isnull(), -999, p_ffdi)\n",
    "\n",
    "        p_pr = pr_da.isel(time=i_years).mean('time').where(mask==1)\n",
    "        plot_data[r]['pr'] = xr.where(p_pr.isnull(), -999, p_pr)\n",
    "        \n",
    "        p_sst_3 = sst_a_3.isel(time=i_years).mean('time')\n",
    "        plot_data[r]['sst3'] = xr.where(p_sst_3.isnull(), -999, p_sst_3)\n",
    "    \n",
    "        p_sst_12 = sst_a_12.isel(time=i_years).mean('time')\n",
    "        plot_data[r]['sst12'] = xr.where(p_sst_12.isnull(), -999, p_sst_12)\n",
    "\n",
    "        plot_data[r]['jra3'] = jra_a_3.isel(time=i_years).mean('time')\n",
    "\n",
    "        plot_data[r]['jra12_vpot'] = jra_a_12_vpot.isel(time=i_years).mean('time')\n",
    "        plot_data[r]['jra12_z500'] = jra_a_12_z500.isel(time=i_years).mean('time')\n",
    "        \n",
    "    return plot_data"
   ]
  },
  {
   "cell_type": "code",
   "execution_count": null,
   "id": "531117b2-05e7-4425-b3a6-831c638e76e5",
   "metadata": {},
   "outputs": [],
   "source": [
    "%%time\n",
    "plt_dict_compound = get_composite_plot_data(cc_da, ffdi_anoms, pr_anoms, jra_ds, jra_anom, sst_anom, r_slices, year_ends, mask=jra_ba_mask)\n",
    "\n",
    "da = xr.where(grid_ex_dpy > ffdi_thresh, 1, 0)\n",
    "plt_dict_fw = get_composite_plot_data(da, ffdi_anoms, pr_anoms, jra_ds, jra_anom, sst_anom, r_slices, year_ends, mask=jra_ba_mask)\n",
    "\n",
    "da = xr.where(pr < pr_thresh, 1, 0)\n",
    "plt_dict_pr = get_composite_plot_data(da, ffdi_anoms, pr_anoms, jra_ds, jra_anom, sst_anom, r_slices, year_ends, mask=jra_ba_mask)"
   ]
  },
  {
   "cell_type": "code",
   "execution_count": null,
   "id": "6b95aa0d-d191-4dfe-a093-e38fe950e67f",
   "metadata": {},
   "outputs": [],
   "source": [
    "levels_dict = {}\n",
    "for event, d in zip(['compound', 'ffdi', 'pr'], [plt_dict_compound, plt_dict_fw, plt_dict_pr]):\n",
    "    levels_dict[event] = {}\n",
    "    for var in ['ffdi', 'pr', 'sst3', 'sst12', 'jra3', 'jra12_vpot', 'jra12_z500']:\n",
    "        maxs = []\n",
    "        for r in r_slices.keys():\n",
    "            maxs.append(np.max(abs(xr.where(d[r][var] == -999, np.nan, d[r][var]))).values)\n",
    "        levels_dict[event][var] = max(maxs)"
   ]
  },
  {
   "cell_type": "code",
   "execution_count": null,
   "id": "ae989eda-ef74-4124-9e65-6000a8c1d6d6",
   "metadata": {},
   "outputs": [],
   "source": [
    "levels_dict['compound']"
   ]
  },
  {
   "cell_type": "markdown",
   "id": "bbf16f2d-e9cc-4659-a888-1f2c2507bebb",
   "metadata": {},
   "source": [
    "# Figure 5: composites on widespread compound event years"
   ]
  },
  {
   "cell_type": "code",
   "execution_count": null,
   "id": "86ae0056-c9cc-4383-9228-5c3b9023765e",
   "metadata": {},
   "outputs": [],
   "source": [
    "def plot_composites(event_name, plt_dict, region_dict, levels_dict, year_ends_dict):\n",
    "        \n",
    "    def roundup(x, ceil):\n",
    "        \"\"\"Round x up to nearest ceil\"\"\"\n",
    "        return int(math.ceil(x / ceil)) * ceil\n",
    "    \n",
    "    months = ['Jan', 'Feb', 'Mar', 'Apr', 'May', 'Jun', 'Jul', 'Aug', 'Sep', 'Oct', 'Nov', 'Dec']\n",
    "\n",
    "    figsize = (6.9, 5.4)\n",
    "    \n",
    "    # Colormap stuff\n",
    "    rgb_val = 0.9\n",
    "    bad_col = np.repeat(rgb_val, 3)\n",
    "    \n",
    "    ffdi_cmap = custom_cmap\n",
    "    ffdi_cmap.set_under(bad_col)\n",
    "    \n",
    "    pr_cmap = copy.copy(mpl.cm.get_cmap('BrBG'))\n",
    "    pr_cmap.set_under(bad_col)\n",
    "    \n",
    "    sst_cmap = copy.copy(mpl.cm.get_cmap('RdBu_r'))\n",
    "    sst_cmap.set_under(bad_col, alpha=0)\n",
    "    \n",
    "    add_cbar = False\n",
    "\n",
    "    with plt.rc_context(plt_params):\n",
    "        fig, ax = plt.subplots(3, 2, figsize=figsize, subplot_kw={'projection': ccrs.PlateCarree(central_longitude=180)})\n",
    "\n",
    "        for i, (r, r_s) in enumerate(zip(region_dict.keys(), region_dict.values())):\n",
    "            \n",
    "            # === Plot\n",
    "            # Precip\n",
    "            m_pr = roundup(levels_dict['pr'], .5)\n",
    "            p_pr = plt_dict[r]['pr'].plot(ax=ax[i,0],\n",
    "                                          transform=ccrs.PlateCarree(),\n",
    "                                          vmin=-m_pr,\n",
    "                                          vmax=m_pr,\n",
    "                                          cmap=pr_cmap,\n",
    "                                          add_colorbar=add_cbar,\n",
    "                                          zorder=3,\n",
    "                                          rasterized=True)\n",
    "            \n",
    "            # SST 12m\n",
    "            m_sst = roundup(levels_dict['sst12'], .5)\n",
    "            p_sst12 = plt_dict[r]['sst12'].plot(ax=ax[i,0],\n",
    "                                            transform=ccrs.PlateCarree(),\n",
    "                                            vmin=-m_sst,\n",
    "                                            vmax=m_sst,\n",
    "                                            cmap=sst_cmap,\n",
    "                                            add_colorbar=add_cbar,\n",
    "                                            zorder=4,\n",
    "                                            rasterized=True)\n",
    "            \n",
    "            # VPOT\n",
    "            m = roundup(levels_dict['jra12_vpot'], 1e6)\n",
    "            levels = np.arange(-m, m+1, .5e6)\n",
    "            levels = [i for i in levels if i != 0]\n",
    "            print('VPOT levels:', levels)\n",
    "            plt_dict[r]['jra12_vpot'].plot.contour(ax=ax[i,0],\n",
    "                                                   transform=ccrs.PlateCarree(),\n",
    "                                                   levels=levels,\n",
    "                                                   colors=colors[6],\n",
    "                                                   linewidths=.8,\n",
    "                                                   zorder=6)\n",
    "            \n",
    "            # 12m Z500\n",
    "            m = roundup(levels_dict['jra12_z500'], 15)\n",
    "            levels = np.arange(-m, m+1, 10)\n",
    "            levels = [i for i in levels if i != 0]\n",
    "            print('12 month z500 levels:', levels)\n",
    "            plt_dict[r]['jra12_z500'].plot.contour(ax=ax[i,0],\n",
    "                                                   transform=ccrs.PlateCarree(),\n",
    "                                                   levels=levels,\n",
    "                                                   colors='k',\n",
    "                                                   linewidths=.6,\n",
    "                                                   zorder=6)\n",
    "            \n",
    "            # FFDI\n",
    "            m_ffdi = roundup(levels_dict['ffdi'], 5)\n",
    "            p_ffdi = plt_dict[r]['ffdi'].plot(ax=ax[i,1],\n",
    "                                              transform=ccrs.PlateCarree(),\n",
    "                                              vmin=-m_ffdi,\n",
    "                                              vmax=m_ffdi,\n",
    "                                              cmap=ffdi_cmap,\n",
    "                                              add_colorbar=add_cbar,\n",
    "                                              zorder=1,\n",
    "                                              rasterized=True)\n",
    "            \n",
    "            # 3m Z500\n",
    "            m = roundup(levels_dict['jra3'], 65)\n",
    "            levels = np.arange(-m, m+1, 10)\n",
    "            levels = [i for i in levels if i != 0]\n",
    "            print('3 month z500 levels:', levels)\n",
    "            plt_dict[r]['jra3'].plot.contour(ax=ax[i,1],\n",
    "                                             transform=ccrs.PlateCarree(),\n",
    "                                             levels=levels,\n",
    "                                             colors='k',\n",
    "                                             linewidths=.6,\n",
    "                                             zorder=6)\n",
    "            \n",
    "            # === Titles and labels\n",
    "            ax[i,0].text(-0.08,\n",
    "                         0.5,\n",
    "                         r+'\\nModal peak FFDI: '+months[(year_ends_dict[r] - 6) % 12]+'\\n'+plt_dict[r]['years_str1']+'\\n'+plt_dict[r]['years_str2'],\n",
    "                         transform=ax[i,0].transAxes,\n",
    "                         rotation=90,\n",
    "                         ha='center',\n",
    "                         va='center',\n",
    "                         fontsize=plt_params['font.size']-1)\n",
    "              \n",
    "        # === Axis stuff\n",
    "        labels = [r'$\\bf{'+letter+'}$' for letter in letters]\n",
    "        props = dict(facecolor='w', edgecolor='w', pad=0.8)\n",
    "        for a, label in zip(ax.flatten(), labels):\n",
    "            a.coastlines(color='black', lw=coastlines_lw, zorder=5)\n",
    "            a.set_global()\n",
    "            a.add_feature(cartopy.feature.LAND, color=bad_col, zorder=0)\n",
    "            a.add_feature(cartopy.feature.OCEAN, color='w', zorder=2)\n",
    "            for k, spine in a.spines.items():  #ax.spines is a dictionary\n",
    "                spine.set_zorder(10)\n",
    "            a.set_title('')\n",
    "            a.text(0.01, 0.98, label, bbox=props,\n",
    "                    ha='left', va='top', transform=a.transAxes, zorder=12)\n",
    "\n",
    "        # === Colorbars\n",
    "        cb_ax = fig.add_axes([0.14, 0.11, 0.35, 0.01])\n",
    "        cb = fig.colorbar(p_pr, cax=cb_ax, orientation='horizontal', extend='neither', ticks=np.arange(-m_pr, m_pr+0.001, 0.5))\n",
    "        cb.ax.set_xlabel(r'$P_a / \\sigma_{P_a}$ anomaly [-]')\n",
    "    \n",
    "        cb_ax = fig.add_axes([0.14, 0.03, 0.35, 0.01])\n",
    "        cb = fig.colorbar(p_sst12, cax=cb_ax, orientation='horizontal', extend='neither', ticks=np.arange(-m_sst, m_sst+0.001, 0.5))\n",
    "        cb.ax.set_xlabel(r'$\\mathrm{SST}$ anomaly [K]')\n",
    "        \n",
    "        cb_ax = fig.add_axes([0.535, 0.11, 0.35, 0.01])\n",
    "        cb = fig.colorbar(p_ffdi, cax=cb_ax, orientation='horizontal', extend='neither', ticks=np.arange(-m_ffdi, m_ffdi+0.001, 10))\n",
    "        cb.ax.set_xlabel(r'$\\mathrm{FWD}_f$ anomaly [days]', )\n",
    "    \n",
    "    plt.subplots_adjust(hspace=0.02, wspace=0.02)\n",
    "    \n",
    "    plt.savefig('./figures/extreme_years_composite_'+event_name+'.pdf', bbox_inches='tight', format='pdf', dpi=400)"
   ]
  },
  {
   "cell_type": "code",
   "execution_count": null,
   "id": "beeecc87-9bf8-4eaa-a470-8dfb5972c29d",
   "metadata": {},
   "outputs": [],
   "source": [
    "%%time\n",
    "plot_composites('compound_ba_mask', plt_dict_compound, r_slices, levels_dict['compound'], year_ends)"
   ]
  },
  {
   "cell_type": "markdown",
   "id": "55a6b0bb-231f-4232-8d92-87d870285d69",
   "metadata": {},
   "source": [
    "# Figures S5, S6, S7: composites for each year\n",
    "- Note some code repetition"
   ]
  },
  {
   "cell_type": "code",
   "execution_count": null,
   "id": "821533f3-e670-4fcd-a12d-1debee8bbba8",
   "metadata": {},
   "outputs": [],
   "source": [
    "def plot_yearly_composites(zone, mask, cbar_extends):\n",
    "    \n",
    "    rgb_val = 0.9\n",
    "    bad_col = np.repeat(rgb_val, 3)\n",
    "    ffdi_cmap = custom_cmap\n",
    "    ffdi_cmap.set_under(bad_col)\n",
    "    pr_cmap = copy.copy(mpl.cm.get_cmap('BrBG'))\n",
    "    pr_cmap.set_under(bad_col)\n",
    "    sst_cmap = copy.copy(mpl.cm.get_cmap('RdBu_r'))\n",
    "    sst_cmap.set_under(bad_col, alpha=0)\n",
    "    add_cbar=False\n",
    "    \n",
    "    ### =================== Get years\n",
    "    r_s = r_slices[zone]\n",
    "    # Total area in region\n",
    "    r_tot = jra_grid_area.where(mask == 1).sel(lat=r_s).sum()\n",
    "    # Proportion of area with events\n",
    "    d = ((cc_da.where(mask == 1).sel(lat=r_s) * jra_grid_area.sel(lat=r_s)).sum(['lat', 'lon']) / r_tot).sel(time=slice('1960', '2020'))\n",
    "    # Top 10% years\n",
    "    years_da = xr.where(d > d.quantile(0.9, 'time'), 1, np.nan) \n",
    "    i_years = np.where(years_da.values == 1)[0]\n",
    "    years = [str(i) for i in years_da.time.dt.year.values[i_years]]\n",
    "    \n",
    "    year_end = year_ends[zone]\n",
    "    \n",
    "    ### ================== Plot\n",
    "    with plt.rc_context(plt_params):\n",
    "        fig, ax = plt.subplots(len(years), 3, figsize=(6.9,7.5), subplot_kw={'projection': ccrs.PlateCarree(central_longitude=180)})\n",
    "\n",
    "        for i,year in enumerate(years):\n",
    "\n",
    "            # Precip\n",
    "            m_pr = 3\n",
    "            # Dummy plot to ensure cbar doesn't include NaNs\n",
    "            p_pr = pr_anoms.sel(time=year).plot(ax=ax[i,0],\n",
    "                                          transform=ccrs.PlateCarree(),\n",
    "                                          vmin=-m_pr,\n",
    "                                          vmax=m_pr,\n",
    "                                          cmap='BrBG',\n",
    "                                          add_colorbar=add_cbar,\n",
    "                                          zorder=0,\n",
    "                          rasterized=True)\n",
    "            pr = pr_anoms.sel(time=year).where(mask==1).squeeze()\n",
    "    #         print(pr.min().values, pr.max().values)\n",
    "            pr.plot(ax=ax[i,0],\n",
    "                                          transform=ccrs.PlateCarree(),\n",
    "                                          vmin=-m_pr,\n",
    "                                          vmax=m_pr,\n",
    "                                          cmap=pr_cmap,\n",
    "                                          add_colorbar=add_cbar,\n",
    "                                          zorder=3,\n",
    "                          rasterized=True)\n",
    "\n",
    "            # SST 12m\n",
    "            m_sst = 3\n",
    "            sst_a_12 = sst_anom.shift(time=5).rolling(time=12).mean().isel(time=sst_anom.groupby('time.month').groups[year_end]).sel(time=slice('1960', '2020'))\n",
    "            sst_a_12 = sst_a_12.sel(time=year).squeeze()\n",
    "    #         print(sst_a_12.min().values, sst_a_12.max().values)\n",
    "            p_sst12 = sst_a_12.plot(ax=ax[i,0],\n",
    "                                            transform=ccrs.PlateCarree(),\n",
    "                                            vmin=-m_sst,\n",
    "                                            vmax=m_sst,\n",
    "                                            cmap=sst_cmap,\n",
    "                                            add_colorbar=add_cbar,\n",
    "                                            zorder=4,\n",
    "                          rasterized=True)\n",
    "\n",
    "            # VPOT\n",
    "            jra_a_12_vpot = jra_anom['vpot200'].shift(time=5).rolling(time=12).mean().isel(time=jra_anom.groupby('time.month').groups[year_end]).sel(time=slice('1960', '2020'))\n",
    "            jra_a_12_vpot = jra_a_12_vpot.sel(time=year).squeeze()\n",
    "            levels = np.arange(-6e6, 6.1e6, 1e6)\n",
    "            levels = [i for i in levels if i != 0]\n",
    "            jra_a_12_vpot.plot.contour(ax=ax[i,0],\n",
    "                                                   transform=ccrs.PlateCarree(),\n",
    "                                                   levels=levels,\n",
    "                                                   colors=colors[6],\n",
    "                                                   linewidths=.8,\n",
    "                                                   zorder=6)\n",
    "\n",
    "            # 12m Z500\n",
    "            jra_a_12_z500 = jra_anom['z500'].shift(time=5).rolling(time=12).mean().isel(time=jra_anom.groupby('time.month').groups[year_end]).sel(time=slice('1960', '2020'))\n",
    "            jra_a_12_z500 = jra_a_12_z500.sel(time=year).squeeze()\n",
    "            levels = np.arange(-120, 121, 15)\n",
    "            levels = [i for i in levels if i != 0]\n",
    "            jra_a_12_z500.plot.contour(ax=ax[i,0],\n",
    "                                                   transform=ccrs.PlateCarree(),\n",
    "                                                   levels=levels,\n",
    "                                                   colors='k',\n",
    "                                                   linewidths=.6,\n",
    "                                                   zorder=6)\n",
    "\n",
    "            # FFDI\n",
    "            ffdi = ffdi_anoms.sel(time=year).where(mask==1).squeeze()\n",
    "            m_ffdi = 50 #roundup(levels_dict['ffdi'], 1)\n",
    "    #         print(ffdi.min().values, ffdi.max().values)\n",
    "            p_ffdi = ffdi.plot(ax=ax[i,1],\n",
    "                                              transform=ccrs.PlateCarree(),\n",
    "                                              vmin=-m_ffdi,\n",
    "                                              vmax=m_ffdi,\n",
    "                                              cmap=ffdi_cmap,\n",
    "                                              add_colorbar=add_cbar,\n",
    "                                              zorder=1,\n",
    "                          rasterized=True)\n",
    "\n",
    "            # 3m Z500\n",
    "            jra_a_3 = jra_anom['z500'].shift(time=4).rolling(time=3).mean().isel(time=jra_anom.groupby('time.month').groups[year_end]).sel(time=slice('1960', '2020'))\n",
    "            jra_a_3 = jra_a_3.sel(time=year).squeeze()\n",
    "            levels = np.arange(-120, 121, 20)\n",
    "            levels = [i for i in levels if i != 0]\n",
    "            jra_a_3.plot.contour(ax=ax[i,1],\n",
    "                                             transform=ccrs.PlateCarree(),\n",
    "                                             levels=levels,\n",
    "                                             colors='k',\n",
    "                                             linewidths=.6,\n",
    "                                             zorder=6)\n",
    "\n",
    "            # 3m u300\n",
    "            jra_a_3_u300 = jra_ds['u300'].shift(time=4).rolling(time=3).mean().isel(time=jra_ds.groupby('time.month').groups[year_end]).sel(time=slice('1960', '2020'))\n",
    "            jra_a_3_u300 = jra_a_3_u300.sel(time=year).squeeze()\n",
    "            levels = np.arange(-100,101,10)\n",
    "            levels = [i for i in levels if i != 0]\n",
    "            jra_a_3_u300.plot.contour(ax=ax[i,2], transform=ccrs.PlateCarree(),\n",
    "                                             levels=levels,\n",
    "                                             colors='k',\n",
    "                                             linewidths=.6,\n",
    "                                             zorder=6)\n",
    "\n",
    "            # 3m v300\n",
    "    #         jra_a_3_v300 = jra_anom['v300'].shift(time=4).rolling(time=3).mean().isel(time=jra_anom.groupby('time.month').groups[year_end]).sel(time=slice('1960', '2020'))\n",
    "            jra_a_3_v300 = jra_ds['v300'].shift(time=4).rolling(time=3).mean().isel(time=jra_ds.groupby('time.month').groups[year_end]).sel(time=slice('1960', '2020'))\n",
    "            jra_a_3_v300 = jra_a_3_v300.sel(time=year).squeeze()\n",
    "    #         print(jra_a_3_v300.min().values, jra_a_3_v300.max().values)\n",
    "    #         print()\n",
    "            m_v300 = 15\n",
    "            p_v300 = jra_a_3_v300.plot(ax=ax[i,2], transform=ccrs.PlateCarree(),\n",
    "                                              vmin=-m_v300,\n",
    "                                              vmax=m_v300,\n",
    "                                              cmap='RdBu_r',\n",
    "                                              add_colorbar=add_cbar,\n",
    "                                              zorder=3,\n",
    "                          rasterized=True)\n",
    "\n",
    "            ax[i,0].text(-0.05, 0.5, year, ha='left', va='center', rotation=90, transform=ax[i,0].transAxes, fontsize=plt_params['font.size']-2)\n",
    "\n",
    "\n",
    "        for a in ax.flatten():\n",
    "            a.coastlines(color='black', lw=coastlines_lw, zorder=5)\n",
    "            a.set_global()\n",
    "            a.add_feature(cartopy.feature.LAND, color=bad_col, zorder=0)\n",
    "            a.add_feature(cartopy.feature.OCEAN, color='w', zorder=2)\n",
    "            for k, spine in a.spines.items():  #ax.spines is a dictionary\n",
    "                spine.set_zorder(10)\n",
    "            a.set_title('')\n",
    "\n",
    "        # === Colorbars\n",
    "        cb_ax = fig.add_axes([0.14, 0.11, 0.22, 0.01])\n",
    "        cb = fig.colorbar(p_pr, cax=cb_ax, orientation='horizontal', extend=cbar_extends[0], ticks=np.arange(-m_pr, m_pr+0.001, 1))\n",
    "        cb.ax.set_xlabel(r'$P_a / \\sigma_{P_a}$ anomaly [-]', fontsize=plt_params['font.size']-2)\n",
    "        cb.ax.tick_params(labelsize=5) \n",
    "\n",
    "        cb_ax = fig.add_axes([0.14, 0.04, 0.22, 0.01])\n",
    "        cb = fig.colorbar(p_sst12, cax=cb_ax, orientation='horizontal', extend=cbar_extends[1], ticks=np.arange(-m_sst, m_sst+0.001, 1))\n",
    "        cb.ax.set_xlabel(r'$\\mathrm{SST}$ anomaly [K]', fontsize=plt_params['font.size']-2)\n",
    "        cb.ax.tick_params(labelsize=5)\n",
    "\n",
    "        cb_ax = fig.add_axes([0.4, 0.11, 0.22, 0.01])\n",
    "        cb = fig.colorbar(p_ffdi, cax=cb_ax, orientation='horizontal', extend=cbar_extends[2], ticks=np.arange(-m_ffdi, m_ffdi+0.001, 20))\n",
    "        cb.ax.set_xlabel(r'$\\mathrm{FWD}_f$ anomaly [days]', fontsize=plt_params['font.size']-2)\n",
    "        cb.ax.tick_params(labelsize=5)\n",
    "\n",
    "        cb_ax = fig.add_axes([0.66, 0.11, 0.22, 0.01])\n",
    "        cb = fig.colorbar(p_v300, cax=cb_ax, orientation='horizontal', extend=cbar_extends[3], ticks=np.arange(-m_v300, m_v300+0.001, 6))\n",
    "        cb.ax.set_xlabel(r\"$v_{300}$ [m s$^{-1}$]\", fontsize=plt_params['font.size']-2)\n",
    "        cb.ax.tick_params(labelsize=5)\n",
    "\n",
    "        plt.subplots_adjust(hspace=0.02, wspace=0.02)\n",
    "\n",
    "        plt.savefig('./figures/extreme_years_individual_'+zone.replace(' ', '')+'.pdf', bbox_inches='tight', format='pdf', dpi=400)"
   ]
  },
  {
   "cell_type": "code",
   "execution_count": null,
   "id": "df6d5e5a-7a57-4df7-8ce4-fcbba6ad0fdb",
   "metadata": {},
   "outputs": [],
   "source": [
    "plot_yearly_composites('N. Hem.', jra_ba_mask, cbar_extends=['both', 'max', 'max', 'neither'])"
   ]
  },
  {
   "cell_type": "code",
   "execution_count": null,
   "id": "56744782-5f76-4390-acf4-e203e03ccf55",
   "metadata": {},
   "outputs": [],
   "source": [
    "plot_yearly_composites('Tropics', jra_ba_mask, cbar_extends=['both', 'max', 'max', 'neither'])"
   ]
  },
  {
   "cell_type": "code",
   "execution_count": null,
   "id": "f762801a-9967-458d-971a-d1ffa9da0db3",
   "metadata": {},
   "outputs": [],
   "source": [
    "plot_yearly_composites('S. Hem.', jra_ba_mask, cbar_extends=['both', 'max', 'max', 'both'])"
   ]
  },
  {
   "cell_type": "markdown",
   "id": "4b924cc9-84ea-46e9-aa8e-c35deee57c50",
   "metadata": {},
   "source": [
    "# Close cluster"
   ]
  },
  {
   "cell_type": "code",
   "execution_count": null,
   "id": "cf219563-31c5-4141-9493-ea2cd597a232",
   "metadata": {},
   "outputs": [],
   "source": [
    "client.close()\n",
    "cluster.close()"
   ]
  }
 ],
 "metadata": {
  "kernelspec": {
   "display_name": "Python 3",
   "language": "python",
   "name": "python3"
  },
  "language_info": {
   "codemirror_mode": {
    "name": "ipython",
    "version": 3
   },
   "file_extension": ".py",
   "mimetype": "text/x-python",
   "name": "python",
   "nbconvert_exporter": "python",
   "pygments_lexer": "ipython3",
   "version": "3.9.4"
  }
 },
 "nbformat": 4,
 "nbformat_minor": 5
}
