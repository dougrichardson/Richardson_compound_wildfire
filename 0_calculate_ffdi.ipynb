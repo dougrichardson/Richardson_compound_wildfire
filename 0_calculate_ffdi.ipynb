{
 "cells": [
  {
   "cell_type": "markdown",
   "id": "40a75d37-eda6-4848-ac71-af8c6e213a2b",
   "metadata": {},
   "source": [
    "# Calculate daily FFDI"
   ]
  },
  {
   "cell_type": "code",
   "execution_count": null,
   "id": "c28edbda-8bf0-4a67-b0db-52af0b20656c",
   "metadata": {},
   "outputs": [],
   "source": [
    "from dask_jobqueue import SLURMCluster\n",
    "from dask.distributed import Client"
   ]
  },
  {
   "cell_type": "markdown",
   "id": "373165e0-fe0d-4ad3-b9bb-1a5cf6fa5f23",
   "metadata": {},
   "source": [
    "On Pearcey, nodes have 20 cores, each with 6GB. More than 20 cores, need more than one worker. `processes` ensures the number of workers."
   ]
  },
  {
   "cell_type": "code",
   "execution_count": null,
   "id": "722e4765-d180-47af-9cee-80905f255f81",
   "metadata": {},
   "outputs": [],
   "source": [
    "cluster = SLURMCluster(processes=1,\n",
    "                       walltime='00:20:00',\n",
    "                       cores=15,\n",
    "                       memory='90GB',\n",
    "                       job_extra=['--qos=\"express\"'])"
   ]
  },
  {
   "cell_type": "code",
   "execution_count": null,
   "id": "f3a96881-6fbd-491e-9849-224ca6f4f6ff",
   "metadata": {},
   "outputs": [],
   "source": [
    "cluster.scale(jobs=1)"
   ]
  },
  {
   "cell_type": "code",
   "execution_count": null,
   "id": "c95d6a6d-b05f-4885-bb4a-17da9dbadc95",
   "metadata": {},
   "outputs": [],
   "source": [
    "client = Client(cluster)\n",
    "client"
   ]
  },
  {
   "cell_type": "code",
   "execution_count": null,
   "id": "20f3a192-cbcf-4929-b3a2-8cf0eb76ba18",
   "metadata": {},
   "outputs": [],
   "source": [
    "import xarray as xr\n",
    "import numpy as np\n",
    "import dask\n",
    "\n",
    "import os\n",
    "\n",
    "import matplotlib.pyplot as plt"
   ]
  },
  {
   "cell_type": "code",
   "execution_count": null,
   "id": "62cf0ebd-c5ee-434f-b834-9b1106a23ef4",
   "metadata": {},
   "outputs": [],
   "source": [
    "jra_path = '/scratch1/projects/dcfp/data/csiro-dcfp-jra55/'\n",
    "my_scratch_path = '/scratch1/ric368/projects/fire/data/'"
   ]
  },
  {
   "cell_type": "code",
   "execution_count": null,
   "id": "ceb55578-4e76-490a-8289-df7af9f40055",
   "metadata": {},
   "outputs": [],
   "source": [
    "def write_and_read(ds, filename):\n",
    "    \"\"\" Write to zarr and read back in.\n",
    "        If filepath exists, just read.\"\"\"\n",
    "    if isinstance(ds, xr.DataArray):\n",
    "        is_DataArray = True\n",
    "        name = ds.name\n",
    "        ds = ds.to_dataset(name=name)\n",
    "    else:\n",
    "        is_DataArray = False\n",
    "            \n",
    "#     if not os.path.exists(filename):\n",
    "#         ds.to_zarr(filename, consolidated=True, mode='w')\n",
    "    ds.to_zarr(filename, consolidated=True, mode='w')\n",
    "    ds = xr.open_zarr(filename, consolidated=True)\n",
    "    \n",
    "    return ds[name] if is_DataArray else ds"
   ]
  },
  {
   "cell_type": "markdown",
   "id": "d85c250e-ac5a-4282-9204-dc3227369c1b",
   "metadata": {},
   "source": [
    "# Prepare input data"
   ]
  },
  {
   "cell_type": "code",
   "execution_count": null,
   "id": "78e1a9b4-4cd5-4ae9-979b-f0934e90e2a7",
   "metadata": {},
   "outputs": [],
   "source": [
    "jra_sfc = xr.open_zarr(jra_path+'surface_daily.zarr', consolidated=True)\n",
    "jra_sfc = jra_sfc.rename({'initial_time0_hours': 'time'})"
   ]
  },
  {
   "cell_type": "markdown",
   "id": "c1fb6943-6f51-4861-b6d8-656da926e565",
   "metadata": {},
   "source": [
    "### Drought factor"
   ]
  },
  {
   "cell_type": "code",
   "execution_count": null,
   "id": "9d2f6cf9-5883-4f2a-b487-08e104445ffe",
   "metadata": {},
   "outputs": [],
   "source": [
    "%%time\n",
    "jra_tprat = jra_sfc['TPRAT_GDS0_SFC']\n",
    "jra_tprat = jra_tprat.rename({'g0_lat_2': 'lat',\n",
    "                              'g0_lon_3': 'lon'})\n",
    "jra_tprat = write_and_read(jra_tprat, '/scratch1/ric368/projects/fire/data/jra_daily_tprat_global_19580101_20201231.zarr')"
   ]
  },
  {
   "cell_type": "code",
   "execution_count": null,
   "id": "14a5f855-662e-49e2-aecf-ca2b896fbcf2",
   "metadata": {},
   "outputs": [],
   "source": [
    "%%time\n",
    "# This step benefits from one worker only (I used 10 cores, 60GB)\n",
    "jra_tprat = jra_tprat.chunk({'time': -1, 'lat': 25, 'lon': 50})\n",
    "jra_tprat = jra_tprat.rolling(time=20).sum()\n",
    "jra_tprat = write_and_read(jra_tprat, '/scratch1/ric368/projects/fire/data/jra_daily_tprat20d_global_19580101_20201231.zarr')"
   ]
  },
  {
   "cell_type": "code",
   "execution_count": null,
   "id": "c709257d-ef6e-49f4-a0f8-0ab57bf0b345",
   "metadata": {},
   "outputs": [],
   "source": [
    "%%time\n",
    "jra_df = -10 * ((jra_tprat - jra_tprat.min('time')) / (jra_tprat.max('time') - jra_tprat.min('time'))) + 10\n",
    "jra_df = write_and_read(jra_df, '/scratch1/ric368/projects/fire/data/jra_daily_drought_factor_global_19580101_20201231.zarr')"
   ]
  },
  {
   "cell_type": "markdown",
   "id": "d1389506-e87b-4257-9743-6c1d08abdf02",
   "metadata": {},
   "source": [
    "### Relative humidity, maximum temperature and maximum wind speed"
   ]
  },
  {
   "cell_type": "code",
   "execution_count": null,
   "id": "3615268b-754d-4576-870b-8fbe62ff8850",
   "metadata": {},
   "outputs": [],
   "source": [
    "%%time\n",
    "jra_rh = jra_sfc['RH_GDS0_HTGL']\n",
    "jra_rh = jra_rh.rename({'g0_lat_1': 'lat',\n",
    "                        'g0_lon_2': 'lon'})\n",
    "jra_rh = write_and_read(jra_rh, '/scratch1/ric368/projects/fire/data/jra_daily_rh_global_19580101_20201231.zarr')"
   ]
  },
  {
   "cell_type": "code",
   "execution_count": null,
   "id": "64939b77-59cf-477c-be20-cbbfe8fc6a58",
   "metadata": {},
   "outputs": [],
   "source": [
    "%%time\n",
    "jra_tmax = jra_sfc['TMAX_GDS4_HTGL']\n",
    "jra_tmax = jra_tmax.rename({'g0_lat_1': 'lat',\n",
    "                            'g0_lon_2': 'lon'})\n",
    "jra_tmax = jra_tmax - 273.15 # K to C\n",
    "jra_tmax = write_and_read(jra_tmax, '/scratch1/ric368/projects/fire/data/jra_daily_tmax_global_19580101_20201231.zarr')"
   ]
  },
  {
   "cell_type": "code",
   "execution_count": null,
   "id": "d14202fe-0aec-4a9a-be71-018dd909fe19",
   "metadata": {},
   "outputs": [],
   "source": [
    "%%time\n",
    "jra_wmax = jra_sfc['WSMX_GDS4_HTGL']\n",
    "jra_wmax = jra_wmax.rename({'g0_lat_1': 'lat',\n",
    "                            'g0_lon_2': 'lon'})\n",
    "jra_wmax = jra_wmax * 3.6 # m/s to km/h\n",
    "jra_wmax = write_and_read(jra_wmax, '/scratch1/ric368/projects/fire/data/jra_daily_wmax_global_19580101_20201231.zarr')"
   ]
  },
  {
   "cell_type": "code",
   "execution_count": null,
   "id": "0f2ccb08-572f-4cb2-be7a-f6a33aa58933",
   "metadata": {},
   "outputs": [],
   "source": [
    "ffdi_ds = jra_df.chunk(jra_tmax.chunks).to_dataset(name='DF')\n",
    "ffdi_ds['Tmax'] = jra_tmax\n",
    "ffdi_ds['Wmax'] = jra_wmax\n",
    "ffdi_ds['RH'] = jra_rh"
   ]
  },
  {
   "cell_type": "markdown",
   "id": "985f964f-6f5f-4c9a-8a83-e7c45d0c941e",
   "metadata": {},
   "source": [
    "### FFDI"
   ]
  },
  {
   "cell_type": "code",
   "execution_count": null,
   "id": "69264070-9950-4542-84fe-d42659d76180",
   "metadata": {},
   "outputs": [],
   "source": [
    "ffdi_ds['FFDI'] = ffdi_ds['DF']**0.987 * np.exp(0.0338*ffdi_ds['Tmax'] - 0.0345*ffdi_ds['RH'] + 0.0234*ffdi_ds['Wmax'] + 0.243147)"
   ]
  },
  {
   "cell_type": "code",
   "execution_count": null,
   "id": "cd5bfc96-9bcf-42bc-a0a7-3cf17a8673ae",
   "metadata": {},
   "outputs": [],
   "source": [
    "# empty attribute encoding\n",
    "for var in ffdi_ds.variables:\n",
    "    ffdi_ds[var].encoding = {}"
   ]
  },
  {
   "cell_type": "code",
   "execution_count": null,
   "id": "70833194-e554-4dcd-9c5e-b0b642cc7b93",
   "metadata": {},
   "outputs": [],
   "source": [
    "%%time\n",
    "# 15 cores, 90GB\n",
    "ffdi_ds.to_zarr('/scratch1/ric368/projects/fire/data/jra_daily_ffdi_global_19580101_20201231.zarr', consolidated=True, mode='w')"
   ]
  },
  {
   "cell_type": "markdown",
   "id": "ec3812c0-96ed-47cb-8f2b-54d8d8d8d328",
   "metadata": {},
   "source": [
    "# Close cluster"
   ]
  },
  {
   "cell_type": "code",
   "execution_count": null,
   "id": "99e57cad-18f7-4229-b187-1a30cd231c62",
   "metadata": {},
   "outputs": [],
   "source": [
    "client.close()\n",
    "cluster.close()"
   ]
  },
  {
   "cell_type": "code",
   "execution_count": null,
   "id": "f22c8cdb-b7af-45de-b0f7-aa12537a8808",
   "metadata": {},
   "outputs": [],
   "source": []
  }
 ],
 "metadata": {
  "kernelspec": {
   "display_name": "Python 3",
   "language": "python",
   "name": "python3"
  },
  "language_info": {
   "codemirror_mode": {
    "name": "ipython",
    "version": 3
   },
   "file_extension": ".py",
   "mimetype": "text/x-python",
   "name": "python",
   "nbconvert_exporter": "python",
   "pygments_lexer": "ipython3",
   "version": "3.9.4"
  }
 },
 "nbformat": 4,
 "nbformat_minor": 5
}
