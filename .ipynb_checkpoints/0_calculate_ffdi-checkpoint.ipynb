{
 "cells": [
  {
   "cell_type": "markdown",
   "id": "40a75d37-eda6-4848-ac71-af8c6e213a2b",
   "metadata": {},
   "source": [
    "# Calculate daily FFDI"
   ]
  },
  {
   "cell_type": "code",
   "execution_count": 1,
   "id": "c28edbda-8bf0-4a67-b0db-52af0b20656c",
   "metadata": {},
   "outputs": [],
   "source": [
    "from dask_jobqueue import SLURMCluster\n",
    "from dask.distributed import Client"
   ]
  },
  {
   "cell_type": "markdown",
   "id": "373165e0-fe0d-4ad3-b9bb-1a5cf6fa5f23",
   "metadata": {},
   "source": [
    "On Pearcey, nodes have 20 cores, each with 6GB. More than 20 cores, need more than one worker. `processes` ensures the number of workers."
   ]
  },
  {
   "cell_type": "code",
   "execution_count": 66,
   "id": "722e4765-d180-47af-9cee-80905f255f81",
   "metadata": {},
   "outputs": [
    {
     "name": "stderr",
     "output_type": "stream",
     "text": [
      "/scratch1/ric368/.conda/envs/pangeo/lib/python3.9/site-packages/distributed/node.py:160: UserWarning: Port 8787 is already in use.\n",
      "Perhaps you already have a cluster running?\n",
      "Hosting the HTTP server on port 44217 instead\n",
      "  warnings.warn(\n"
     ]
    }
   ],
   "source": [
    "cluster = SLURMCluster(processes=1,\n",
    "                       walltime='00:20:00',\n",
    "                       cores=15,\n",
    "                       memory='90GB',\n",
    "                       job_extra=['--qos=\"express\"'])"
   ]
  },
  {
   "cell_type": "code",
   "execution_count": 13,
   "id": "f3a96881-6fbd-491e-9849-224ca6f4f6ff",
   "metadata": {},
   "outputs": [],
   "source": [
    "cluster.scale(jobs=1)"
   ]
  },
  {
   "cell_type": "code",
   "execution_count": 14,
   "id": "c95d6a6d-b05f-4885-bb4a-17da9dbadc95",
   "metadata": {},
   "outputs": [
    {
     "data": {
      "text/html": [
       "<div>\n",
       "    <div style=\"width: 24px; height: 24px; background-color: #e1e1e1; border: 3px solid #9D9D9D; border-radius: 5px; position: absolute;\"> </div>\n",
       "    <div style=\"margin-left: 48px;\">\n",
       "        <h3 style=\"margin-bottom: 0px;\">Client</h3>\n",
       "        <p style=\"color: #9D9D9D; margin-bottom: 0px;\">Client-a3af7501-24ba-11ec-b930-4c76254de1c3</p>\n",
       "        <table style=\"width: 100%; text-align: left;\">\n",
       "\n",
       "        <tr>\n",
       "        \n",
       "            <td style=\"text-align: left;\"><strong>Connection method:</strong> Cluster object</td>\n",
       "            <td style=\"text-align: left;\"><strong>Cluster type:</strong> dask_jobqueue.SLURMCluster</td>\n",
       "        \n",
       "        </tr>\n",
       "\n",
       "        \n",
       "            <tr>\n",
       "                <td style=\"text-align: left;\">\n",
       "                    <strong>Dashboard: </strong> <a href=\"http://10.141.3.75:8787/status\" target=\"_blank\">http://10.141.3.75:8787/status</a>\n",
       "                </td>\n",
       "                <td style=\"text-align: left;\"></td>\n",
       "            </tr>\n",
       "        \n",
       "\n",
       "        </table>\n",
       "\n",
       "        \n",
       "            <details>\n",
       "            <summary style=\"margin-bottom: 20px;\"><h3 style=\"display: inline;\">Cluster Info</h3></summary>\n",
       "            <div class=\"jp-RenderedHTMLCommon jp-RenderedHTML jp-mod-trusted jp-OutputArea-output\">\n",
       "    <div style=\"width: 24px; height: 24px; background-color: #e1e1e1; border: 3px solid #9D9D9D; border-radius: 5px; position: absolute;\">\n",
       "    </div>\n",
       "    <div style=\"margin-left: 48px;\">\n",
       "        <h3 style=\"margin-bottom: 0px; margin-top: 0px;\">SLURMCluster</h3>\n",
       "        <p style=\"color: #9D9D9D; margin-bottom: 0px;\">baf6b7d6</p>\n",
       "        <table style=\"width: 100%; text-align: left;\">\n",
       "            <tr>\n",
       "                <td style=\"text-align: left;\">\n",
       "                    <strong>Dashboard:</strong> <a href=\"http://10.141.3.75:8787/status\" target=\"_blank\">http://10.141.3.75:8787/status</a>\n",
       "                </td>\n",
       "                <td style=\"text-align: left;\">\n",
       "                    <strong>Workers:</strong> 0\n",
       "                </td>\n",
       "            </tr>\n",
       "            <tr>\n",
       "                <td style=\"text-align: left;\">\n",
       "                    <strong>Total threads:</strong> 0\n",
       "                </td>\n",
       "                <td style=\"text-align: left;\">\n",
       "                    <strong>Total memory:</strong> 0 B\n",
       "                </td>\n",
       "            </tr>\n",
       "            \n",
       "        </table>\n",
       "\n",
       "        <details>\n",
       "            <summary style=\"margin-bottom: 20px;\">\n",
       "                <h3 style=\"display: inline;\">Scheduler Info</h3>\n",
       "            </summary>\n",
       "\n",
       "            <div style=\"\">\n",
       "    <div>\n",
       "        <div style=\"width: 24px; height: 24px; background-color: #FFF7E5; border: 3px solid #FF6132; border-radius: 5px; position: absolute;\"> </div>\n",
       "        <div style=\"margin-left: 48px;\">\n",
       "            <h3 style=\"margin-bottom: 0px;\">Scheduler</h3>\n",
       "            <p style=\"color: #9D9D9D; margin-bottom: 0px;\">Scheduler-eeabc3d9-e58a-4d85-8a73-de7c60caa43c</p>\n",
       "            <table style=\"width: 100%; text-align: left;\">\n",
       "                <tr>\n",
       "                    <td style=\"text-align: left;\">\n",
       "                        <strong>Comm:</strong> tcp://10.141.3.75:44993\n",
       "                    </td>\n",
       "                    <td style=\"text-align: left;\">\n",
       "                        <strong>Workers:</strong> 0\n",
       "                    </td>\n",
       "                </tr>\n",
       "                <tr>\n",
       "                    <td style=\"text-align: left;\">\n",
       "                        <strong>Dashboard:</strong> <a href=\"http://10.141.3.75:8787/status\" target=\"_blank\">http://10.141.3.75:8787/status</a>\n",
       "                    </td>\n",
       "                    <td style=\"text-align: left;\">\n",
       "                        <strong>Total threads:</strong> 0\n",
       "                    </td>\n",
       "                </tr>\n",
       "                <tr>\n",
       "                    <td style=\"text-align: left;\">\n",
       "                        <strong>Started:</strong> Just now\n",
       "                    </td>\n",
       "                    <td style=\"text-align: left;\">\n",
       "                        <strong>Total memory:</strong> 0 B\n",
       "                    </td>\n",
       "                </tr>\n",
       "            </table>\n",
       "        </div>\n",
       "    </div>\n",
       "\n",
       "    <details style=\"margin-left: 48px;\">\n",
       "        <summary style=\"margin-bottom: 20px;\">\n",
       "            <h3 style=\"display: inline;\">Workers</h3>\n",
       "        </summary>\n",
       "\n",
       "        \n",
       "\n",
       "    </details>\n",
       "</div>\n",
       "\n",
       "        </details>\n",
       "    </div>\n",
       "</div>\n",
       "            </details>\n",
       "        \n",
       "\n",
       "    </div>\n",
       "</div>"
      ],
      "text/plain": [
       "<Client: 'tcp://10.141.3.75:44993' processes=0 threads=0, memory=0 B>"
      ]
     },
     "execution_count": 14,
     "metadata": {},
     "output_type": "execute_result"
    }
   ],
   "source": [
    "client = Client(cluster)\n",
    "client"
   ]
  },
  {
   "cell_type": "code",
   "execution_count": 47,
   "id": "20f3a192-cbcf-4929-b3a2-8cf0eb76ba18",
   "metadata": {},
   "outputs": [],
   "source": [
    "import xarray as xr\n",
    "import numpy as np\n",
    "import dask\n",
    "\n",
    "import os\n",
    "\n",
    "import matplotlib.pyplot as plt"
   ]
  },
  {
   "cell_type": "code",
   "execution_count": 17,
   "id": "62cf0ebd-c5ee-434f-b834-9b1106a23ef4",
   "metadata": {},
   "outputs": [],
   "source": [
    "jra_path = '/scratch1/projects/dcfp/data/csiro-dcfp-jra55/'\n",
    "my_scratch_path = '/scratch1/ric368/projects/fire/data/'"
   ]
  },
  {
   "cell_type": "code",
   "execution_count": 18,
   "id": "8451017d-7e51-49d7-8882-cfba1297ad14",
   "metadata": {},
   "outputs": [],
   "source": [
    "font_size = 12"
   ]
  },
  {
   "cell_type": "code",
   "execution_count": 19,
   "id": "ceb55578-4e76-490a-8289-df7af9f40055",
   "metadata": {},
   "outputs": [],
   "source": [
    "def write_and_read(ds, filename):\n",
    "    \"\"\" Write to zarr and read back in.\n",
    "        If filepath exists, just read.\"\"\"\n",
    "    if isinstance(ds, xr.DataArray):\n",
    "        is_DataArray = True\n",
    "        name = ds.name\n",
    "        ds = ds.to_dataset(name=name)\n",
    "    else:\n",
    "        is_DataArray = False\n",
    "            \n",
    "#     if not os.path.exists(filename):\n",
    "#         ds.to_zarr(filename, consolidated=True, mode='w')\n",
    "    ds.to_zarr(filename, consolidated=True, mode='w')\n",
    "    ds = xr.open_zarr(filename, consolidated=True)\n",
    "    \n",
    "    return ds[name] if is_DataArray else ds"
   ]
  },
  {
   "cell_type": "markdown",
   "id": "d85c250e-ac5a-4282-9204-dc3227369c1b",
   "metadata": {},
   "source": [
    "# Calculate FFDI"
   ]
  },
  {
   "cell_type": "code",
   "execution_count": 20,
   "id": "78e1a9b4-4cd5-4ae9-979b-f0934e90e2a7",
   "metadata": {},
   "outputs": [],
   "source": [
    "jra_sfc = xr.open_zarr(jra_path+'surface_daily.zarr', consolidated=True)\n",
    "jra_sfc = jra_sfc.rename({'initial_time0_hours': 'time'})"
   ]
  },
  {
   "cell_type": "markdown",
   "id": "c1fb6943-6f51-4861-b6d8-656da926e565",
   "metadata": {},
   "source": [
    "### Drought factor"
   ]
  },
  {
   "cell_type": "code",
   "execution_count": 23,
   "id": "9d2f6cf9-5883-4f2a-b487-08e104445ffe",
   "metadata": {},
   "outputs": [
    {
     "name": "stdout",
     "output_type": "stream",
     "text": [
      "CPU times: user 143 ms, sys: 14.4 ms, total: 158 ms\n",
      "Wall time: 1.57 s\n"
     ]
    }
   ],
   "source": [
    "%%time\n",
    "jra_tprat = jra_sfc['TPRAT_GDS0_SFC']\n",
    "jra_tprat = jra_tprat.rename({'g0_lat_2': 'lat',\n",
    "                              'g0_lon_3': 'lon'})\n",
    "jra_tprat = write_and_read(jra_tprat, '/scratch1/ric368/projects/fire/data/jra_daily_tprat_global_19580101_20201231.zarr')"
   ]
  },
  {
   "cell_type": "code",
   "execution_count": 24,
   "id": "14a5f855-662e-49e2-aecf-ca2b896fbcf2",
   "metadata": {},
   "outputs": [
    {
     "name": "stdout",
     "output_type": "stream",
     "text": [
      "CPU times: user 1.23 s, sys: 98.3 ms, total: 1.32 s\n",
      "Wall time: 6.04 s\n"
     ]
    }
   ],
   "source": [
    "%%time\n",
    "# This step benefits from one worker only (I used 10 cores, 60GB)\n",
    "jra_tprat = jra_tprat.chunk({'time': -1, 'lat': 25, 'lon': 50})\n",
    "jra_tprat = jra_tprat.rolling(time=20).sum()\n",
    "jra_tprat = write_and_read(jra_tprat, '/scratch1/ric368/projects/fire/data/jra_daily_tprat20d_global_19580101_20201231.zarr')"
   ]
  },
  {
   "cell_type": "code",
   "execution_count": 25,
   "id": "c709257d-ef6e-49f4-a0f8-0ab57bf0b345",
   "metadata": {},
   "outputs": [
    {
     "name": "stdout",
     "output_type": "stream",
     "text": [
      "CPU times: user 460 ms, sys: 49.3 ms, total: 509 ms\n",
      "Wall time: 3.08 s\n"
     ]
    }
   ],
   "source": [
    "%%time\n",
    "jra_df = -10 * ((jra_tprat - jra_tprat.min('time')) / (jra_tprat.max('time') - jra_tprat.min('time'))) + 10\n",
    "jra_df = write_and_read(jra_df, '/scratch1/ric368/projects/fire/data/jra_daily_drought_factor_global_19580101_20201231.zarr')"
   ]
  },
  {
   "cell_type": "markdown",
   "id": "d1389506-e87b-4257-9743-6c1d08abdf02",
   "metadata": {},
   "source": [
    "### Relative humidity, maximum temperature and maximum wind speed"
   ]
  },
  {
   "cell_type": "code",
   "execution_count": 26,
   "id": "3615268b-754d-4576-870b-8fbe62ff8850",
   "metadata": {},
   "outputs": [
    {
     "name": "stdout",
     "output_type": "stream",
     "text": [
      "CPU times: user 213 ms, sys: 26.5 ms, total: 240 ms\n",
      "Wall time: 2.13 s\n"
     ]
    }
   ],
   "source": [
    "%%time\n",
    "jra_rh = jra_sfc['RH_GDS0_HTGL']\n",
    "jra_rh = jra_rh.rename({'g0_lat_1': 'lat',\n",
    "                        'g0_lon_2': 'lon'})\n",
    "jra_rh = write_and_read(jra_rh, '/scratch1/ric368/projects/fire/data/jra_daily_rh_global_19580101_20201231.zarr')"
   ]
  },
  {
   "cell_type": "code",
   "execution_count": 27,
   "id": "64939b77-59cf-477c-be20-cbbfe8fc6a58",
   "metadata": {},
   "outputs": [
    {
     "name": "stdout",
     "output_type": "stream",
     "text": [
      "CPU times: user 198 ms, sys: 30 ms, total: 228 ms\n",
      "Wall time: 2.43 s\n"
     ]
    }
   ],
   "source": [
    "%%time\n",
    "jra_tmax = jra_sfc['TMAX_GDS4_HTGL']\n",
    "jra_tmax = jra_tmax.rename({'g0_lat_1': 'lat',\n",
    "                            'g0_lon_2': 'lon'})\n",
    "jra_tmax = jra_tmax - 273.15 # K to C\n",
    "jra_tmax = write_and_read(jra_tmax, '/scratch1/ric368/projects/fire/data/jra_daily_tmax_global_19580101_20201231.zarr')"
   ]
  },
  {
   "cell_type": "code",
   "execution_count": 28,
   "id": "d14202fe-0aec-4a9a-be71-018dd909fe19",
   "metadata": {},
   "outputs": [
    {
     "name": "stdout",
     "output_type": "stream",
     "text": [
      "CPU times: user 206 ms, sys: 24.7 ms, total: 231 ms\n",
      "Wall time: 2.53 s\n"
     ]
    }
   ],
   "source": [
    "%%time\n",
    "jra_wmax = jra_sfc['WSMX_GDS4_HTGL']\n",
    "jra_wmax = jra_wmax.rename({'g0_lat_1': 'lat',\n",
    "                            'g0_lon_2': 'lon'})\n",
    "jra_wmax = jra_wmax * 3.6 # m/s to km/h\n",
    "jra_wmax = write_and_read(jra_wmax, '/scratch1/ric368/projects/fire/data/jra_daily_wmax_global_19580101_20201231.zarr')"
   ]
  },
  {
   "cell_type": "code",
   "execution_count": 29,
   "id": "0f2ccb08-572f-4cb2-be7a-f6a33aa58933",
   "metadata": {},
   "outputs": [],
   "source": [
    "ffdi_ds = jra_df.chunk(jra_tmax.chunks).to_dataset(name='DF')\n",
    "ffdi_ds['Tmax'] = jra_tmax\n",
    "ffdi_ds['Wmax'] = jra_wmax\n",
    "ffdi_ds['RH'] = jra_rh"
   ]
  },
  {
   "cell_type": "code",
   "execution_count": 30,
   "id": "69264070-9950-4542-84fe-d42659d76180",
   "metadata": {},
   "outputs": [],
   "source": [
    "ffdi_ds['FFDI'] = ffdi_ds['DF']**0.987 * np.exp(0.0338*ffdi_ds['Tmax'] - 0.0345*ffdi_ds['RH'] + 0.0234*ffdi_ds['Wmax'] + 0.243147)"
   ]
  },
  {
   "cell_type": "code",
   "execution_count": 31,
   "id": "cd5bfc96-9bcf-42bc-a0a7-3cf17a8673ae",
   "metadata": {},
   "outputs": [],
   "source": [
    "# empty attribute encoding\n",
    "for var in ffdi_ds.variables:\n",
    "    ffdi_ds[var].encoding = {}"
   ]
  },
  {
   "cell_type": "code",
   "execution_count": 32,
   "id": "70833194-e554-4dcd-9c5e-b0b642cc7b93",
   "metadata": {},
   "outputs": [
    {
     "name": "stdout",
     "output_type": "stream",
     "text": [
      "CPU times: user 1.37 s, sys: 96.1 ms, total: 1.47 s\n",
      "Wall time: 15.7 s\n"
     ]
    },
    {
     "data": {
      "text/plain": [
       "<xarray.backends.zarr.ZarrStore at 0x2aaae2d6c9e0>"
      ]
     },
     "execution_count": 32,
     "metadata": {},
     "output_type": "execute_result"
    }
   ],
   "source": [
    "%%time\n",
    "# 15 cores, 90GB\n",
    "ffdi_ds.to_zarr('/scratch1/ric368/projects/fire/data/jra_daily_ffdi_global_19580101_20201231_test.zarr', consolidated=True, mode='w')"
   ]
  },
  {
   "cell_type": "markdown",
   "id": "ec3812c0-96ed-47cb-8f2b-54d8d8d8d328",
   "metadata": {},
   "source": [
    "# Close cluster"
   ]
  },
  {
   "cell_type": "code",
   "execution_count": 65,
   "id": "99e57cad-18f7-4229-b187-1a30cd231c62",
   "metadata": {},
   "outputs": [],
   "source": [
    "client.close()\n",
    "cluster.close()"
   ]
  },
  {
   "cell_type": "code",
   "execution_count": null,
   "id": "f22c8cdb-b7af-45de-b0f7-aa12537a8808",
   "metadata": {},
   "outputs": [],
   "source": []
  }
 ],
 "metadata": {
  "kernelspec": {
   "display_name": "Python 3",
   "language": "python",
   "name": "python3"
  },
  "language_info": {
   "codemirror_mode": {
    "name": "ipython",
    "version": 3
   },
   "file_extension": ".py",
   "mimetype": "text/x-python",
   "name": "python",
   "nbconvert_exporter": "python",
   "pygments_lexer": "ipython3",
   "version": "3.9.4"
  }
 },
 "nbformat": 4,
 "nbformat_minor": 5
}
