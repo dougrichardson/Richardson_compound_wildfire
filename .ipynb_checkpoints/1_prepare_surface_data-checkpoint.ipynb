{
 "cells": [
  {
   "cell_type": "markdown",
   "id": "9f7b3b3c-1e9f-40ad-b37c-8df252469ff9",
   "metadata": {},
   "source": [
    "# Prepare masks and some derived FFDI, burned area and precipitation quantities"
   ]
  },
  {
   "cell_type": "code",
   "execution_count": 1,
   "id": "8490b39f-8bd7-4e87-9a65-2efc3315568e",
   "metadata": {},
   "outputs": [],
   "source": [
    "from dask_jobqueue import SLURMCluster\n",
    "from dask.distributed import Client"
   ]
  },
  {
   "cell_type": "markdown",
   "id": "f076282e-f7c5-4fd4-a3d6-3130db3d3ef1",
   "metadata": {},
   "source": [
    "On Pearcey, nodes have 20 cores, each with 6GB. More than 20 cores, need more than one worker. `processes` ensures the number of workers."
   ]
  },
  {
   "cell_type": "code",
   "execution_count": 2,
   "id": "85b8c06a-4c81-401c-a4d2-1dbf22a89ccd",
   "metadata": {},
   "outputs": [
    {
     "name": "stderr",
     "output_type": "stream",
     "text": [
      "/scratch1/ric368/.conda/envs/pangeo/lib/python3.9/site-packages/distributed/node.py:160: UserWarning: Port 8787 is already in use.\n",
      "Perhaps you already have a cluster running?\n",
      "Hosting the HTTP server on port 46339 instead\n",
      "  warnings.warn(\n"
     ]
    }
   ],
   "source": [
    "cluster = SLURMCluster(processes=1,\n",
    "                       walltime='00:30:00',\n",
    "                       cores=6,\n",
    "                       memory='36GB',\n",
    "                       job_extra=['--qos=\"express\"'])"
   ]
  },
  {
   "cell_type": "code",
   "execution_count": 3,
   "id": "5d83e6e6-e062-4837-9080-8d76edc845a1",
   "metadata": {},
   "outputs": [],
   "source": [
    "cluster.scale(jobs=1)"
   ]
  },
  {
   "cell_type": "code",
   "execution_count": 4,
   "id": "dd06ffa9-889d-4712-b8fa-83ea508232f9",
   "metadata": {},
   "outputs": [
    {
     "data": {
      "text/html": [
       "<div>\n",
       "    <div style=\"width: 24px; height: 24px; background-color: #e1e1e1; border: 3px solid #9D9D9D; border-radius: 5px; position: absolute;\"> </div>\n",
       "    <div style=\"margin-left: 48px;\">\n",
       "        <h3 style=\"margin-bottom: 0px;\">Client</h3>\n",
       "        <p style=\"color: #9D9D9D; margin-bottom: 0px;\">Client-30e777a2-2593-11ec-8dee-9840bb65b33e</p>\n",
       "        <table style=\"width: 100%; text-align: left;\">\n",
       "\n",
       "        <tr>\n",
       "        \n",
       "            <td style=\"text-align: left;\"><strong>Connection method:</strong> Cluster object</td>\n",
       "            <td style=\"text-align: left;\"><strong>Cluster type:</strong> dask_jobqueue.SLURMCluster</td>\n",
       "        \n",
       "        </tr>\n",
       "\n",
       "        \n",
       "            <tr>\n",
       "                <td style=\"text-align: left;\">\n",
       "                    <strong>Dashboard: </strong> <a href=\"http://10.141.1.23:46339/status\" target=\"_blank\">http://10.141.1.23:46339/status</a>\n",
       "                </td>\n",
       "                <td style=\"text-align: left;\"></td>\n",
       "            </tr>\n",
       "        \n",
       "\n",
       "        </table>\n",
       "\n",
       "        \n",
       "            <details>\n",
       "            <summary style=\"margin-bottom: 20px;\"><h3 style=\"display: inline;\">Cluster Info</h3></summary>\n",
       "            <div class=\"jp-RenderedHTMLCommon jp-RenderedHTML jp-mod-trusted jp-OutputArea-output\">\n",
       "    <div style=\"width: 24px; height: 24px; background-color: #e1e1e1; border: 3px solid #9D9D9D; border-radius: 5px; position: absolute;\">\n",
       "    </div>\n",
       "    <div style=\"margin-left: 48px;\">\n",
       "        <h3 style=\"margin-bottom: 0px; margin-top: 0px;\">SLURMCluster</h3>\n",
       "        <p style=\"color: #9D9D9D; margin-bottom: 0px;\">9753ccdb</p>\n",
       "        <table style=\"width: 100%; text-align: left;\">\n",
       "            <tr>\n",
       "                <td style=\"text-align: left;\">\n",
       "                    <strong>Dashboard:</strong> <a href=\"http://10.141.1.23:46339/status\" target=\"_blank\">http://10.141.1.23:46339/status</a>\n",
       "                </td>\n",
       "                <td style=\"text-align: left;\">\n",
       "                    <strong>Workers:</strong> 0\n",
       "                </td>\n",
       "            </tr>\n",
       "            <tr>\n",
       "                <td style=\"text-align: left;\">\n",
       "                    <strong>Total threads:</strong> 0\n",
       "                </td>\n",
       "                <td style=\"text-align: left;\">\n",
       "                    <strong>Total memory:</strong> 0 B\n",
       "                </td>\n",
       "            </tr>\n",
       "            \n",
       "        </table>\n",
       "\n",
       "        <details>\n",
       "            <summary style=\"margin-bottom: 20px;\">\n",
       "                <h3 style=\"display: inline;\">Scheduler Info</h3>\n",
       "            </summary>\n",
       "\n",
       "            <div style=\"\">\n",
       "    <div>\n",
       "        <div style=\"width: 24px; height: 24px; background-color: #FFF7E5; border: 3px solid #FF6132; border-radius: 5px; position: absolute;\"> </div>\n",
       "        <div style=\"margin-left: 48px;\">\n",
       "            <h3 style=\"margin-bottom: 0px;\">Scheduler</h3>\n",
       "            <p style=\"color: #9D9D9D; margin-bottom: 0px;\">Scheduler-f0982933-71da-43f2-b482-90b2953fe232</p>\n",
       "            <table style=\"width: 100%; text-align: left;\">\n",
       "                <tr>\n",
       "                    <td style=\"text-align: left;\">\n",
       "                        <strong>Comm:</strong> tcp://10.141.1.23:45705\n",
       "                    </td>\n",
       "                    <td style=\"text-align: left;\">\n",
       "                        <strong>Workers:</strong> 0\n",
       "                    </td>\n",
       "                </tr>\n",
       "                <tr>\n",
       "                    <td style=\"text-align: left;\">\n",
       "                        <strong>Dashboard:</strong> <a href=\"http://10.141.1.23:46339/status\" target=\"_blank\">http://10.141.1.23:46339/status</a>\n",
       "                    </td>\n",
       "                    <td style=\"text-align: left;\">\n",
       "                        <strong>Total threads:</strong> 0\n",
       "                    </td>\n",
       "                </tr>\n",
       "                <tr>\n",
       "                    <td style=\"text-align: left;\">\n",
       "                        <strong>Started:</strong> Just now\n",
       "                    </td>\n",
       "                    <td style=\"text-align: left;\">\n",
       "                        <strong>Total memory:</strong> 0 B\n",
       "                    </td>\n",
       "                </tr>\n",
       "            </table>\n",
       "        </div>\n",
       "    </div>\n",
       "\n",
       "    <details style=\"margin-left: 48px;\">\n",
       "        <summary style=\"margin-bottom: 20px;\">\n",
       "            <h3 style=\"display: inline;\">Workers</h3>\n",
       "        </summary>\n",
       "\n",
       "        \n",
       "\n",
       "    </details>\n",
       "</div>\n",
       "\n",
       "        </details>\n",
       "    </div>\n",
       "</div>\n",
       "            </details>\n",
       "        \n",
       "\n",
       "    </div>\n",
       "</div>"
      ],
      "text/plain": [
       "<Client: 'tcp://10.141.1.23:45705' processes=0 threads=0, memory=0 B>"
      ]
     },
     "execution_count": 4,
     "metadata": {},
     "output_type": "execute_result"
    }
   ],
   "source": [
    "client = Client(cluster)\n",
    "client"
   ]
  },
  {
   "cell_type": "markdown",
   "id": "49ae0605-3e81-4126-8ec3-e38cc1ac8893",
   "metadata": {},
   "source": [
    "# Load packages"
   ]
  },
  {
   "cell_type": "code",
   "execution_count": 5,
   "id": "4d68b2a4-0021-43e7-9317-6f5449bba23c",
   "metadata": {},
   "outputs": [],
   "source": [
    "import xarray as xr\n",
    "import numpy as np\n",
    "import pandas as pd\n",
    "import geopandas\n",
    "import dask\n",
    "\n",
    "import matplotlib.pyplot as plt"
   ]
  },
  {
   "cell_type": "code",
   "execution_count": 6,
   "id": "0ab0ab23-b4d1-49a9-ae00-da3b54b6cfd0",
   "metadata": {},
   "outputs": [],
   "source": [
    "import functions as fn"
   ]
  },
  {
   "cell_type": "markdown",
   "id": "50d2bf5f-b908-48f3-9126-1005e167f441",
   "metadata": {},
   "source": [
    "# JRA land mask\n",
    "Use the Soil Wetness variable"
   ]
  },
  {
   "cell_type": "code",
   "execution_count": 151,
   "id": "b750735c-ac06-4670-8246-abff614ae517",
   "metadata": {},
   "outputs": [],
   "source": [
    "jra_sfc = xr.open_zarr('/scratch1/projects/dcfp/data/csiro-dcfp-jra55/surface_daily.zarr',\n",
    "                       consolidated=True)\n",
    "jra_mask = jra_sfc['SoilW_GDS0_ULN'].isel(initial_time0_hours=0, lv_ULN1=0)\n",
    "jra_mask = jra_mask.rename({'g0_lat_2': 'lat',\n",
    "                        'g0_lon_3': 'lon'})\n",
    "jra_mask = jra_mask.drop(['initial_time0_hours', 'lv_ULN1'])\n",
    "jra_mask = fn.switch_lons(jra_mask)\n",
    "jra_mask = xr.where(jra_mask.notnull(), 1, np.nan)\n",
    "jra_mask = jra_mask.to_dataset(name='land')\n",
    "jra_mask.to_zarr('/scratch1/ric368/projects/fire/data/masks/jra_land_mask.zarr',\n",
    "                mode='w', consolidated=True)\n",
    "jra_mask = jra_mask.land"
   ]
  },
  {
   "cell_type": "code",
   "execution_count": 124,
   "id": "7cf3bd2c-3d26-4732-a7cc-777d86d0b898",
   "metadata": {},
   "outputs": [
    {
     "data": {
      "text/plain": [
       "<matplotlib.collections.QuadMesh at 0x2aab07498820>"
      ]
     },
     "execution_count": 124,
     "metadata": {},
     "output_type": "execute_result"
    },
    {
     "data": {
      "image/png": "[encoded data removed]",
      "text/plain": [
       "<Figure size 432x288 with 2 Axes>"
      ]
     },
     "metadata": {
      "needs_background": "light"
     },
     "output_type": "display_data"
    }
   ],
   "source": [
    "jra_mask.plot()"
   ]
  },
  {
   "cell_type": "markdown",
   "id": "f52b84c1-fa46-4280-b6a2-fa33afa45ad8",
   "metadata": {},
   "source": [
    "# JRA area of grid cells\n",
    "Calculated using CDO: `cdo gridarea infile outfile`"
   ]
  },
  {
   "cell_type": "code",
   "execution_count": 152,
   "id": "ae711e02-30da-48b5-a1ea-22f11f2043b0",
   "metadata": {},
   "outputs": [
    {
     "data": {
      "text/plain": [
       "<xarray.backends.zarr.ZarrStore at 0x2aab4a964890>"
      ]
     },
     "execution_count": 152,
     "metadata": {},
     "output_type": "execute_result"
    }
   ],
   "source": [
    "jra_grid_area = xr.open_dataset('/OSM/CBR/OA_DCFP/work/ric368/data/jra_grid_area.nc')\n",
    "jra_grid_area = fn.switch_lons(jra_grid_area)\n",
    "jra_grid_area.to_zarr('/scratch1/ric368/projects/fire/data/masks/jra_grid_area.zarr',\n",
    "                mode='w', consolidated=True)"
   ]
  },
  {
   "cell_type": "code",
   "execution_count": 81,
   "id": "35afd787-cc84-42ae-8427-5f94dbb4cbbe",
   "metadata": {},
   "outputs": [
    {
     "data": {
      "text/plain": [
       "<matplotlib.collections.QuadMesh at 0x2aab22554160>"
      ]
     },
     "execution_count": 81,
     "metadata": {},
     "output_type": "execute_result"
    },
    {
     "data": {
      "image/png": "[encoded data removed]",
      "text/plain": [
       "<Figure size 432x288 with 2 Axes>"
      ]
     },
     "metadata": {
      "needs_background": "light"
     },
     "output_type": "display_data"
    }
   ],
   "source": [
    "jra_grid_area.cell_area.plot()"
   ]
  },
  {
   "cell_type": "markdown",
   "id": "29a6dd89-eebe-4f10-94ad-83c64fa054e3",
   "metadata": {},
   "source": [
    "# FFDI derived quantities"
   ]
  },
  {
   "cell_type": "code",
   "execution_count": 7,
   "id": "fe135550-f9cd-48e1-b318-aedec22f5a14",
   "metadata": {},
   "outputs": [],
   "source": [
    "ffdi_ds = xr.open_zarr('/scratch1/ric368/projects/fire/data/jra_daily_ffdi_global_19580101_20201231_test.zarr',\n",
    "                       consolidated=True)\n",
    "ffdi = ffdi_ds.FFDI"
   ]
  },
  {
   "cell_type": "code",
   "execution_count": 8,
   "id": "6534cc7a-aae9-4a31-92ef-4bb57c45590a",
   "metadata": {},
   "outputs": [],
   "source": [
    "# Change lons to -180-180\n",
    "ffdi = fn.switch_lons(ffdi)"
   ]
  },
  {
   "cell_type": "markdown",
   "id": "95bb39d1-5912-4eae-a473-bac0f93dfd0d",
   "metadata": {},
   "source": [
    "#### Remove data in tropics before 1970"
   ]
  },
  {
   "cell_type": "code",
   "execution_count": 9,
   "id": "454ce21a-e86b-4b0e-9791-8479eed7729d",
   "metadata": {},
   "outputs": [],
   "source": [
    "ffdi = fn.remove_data(ffdi, nh_lim=23.44, sh_lim=-23.44, time_max='1970-01-01')"
   ]
  },
  {
   "cell_type": "markdown",
   "id": "b76938fc-de50-484c-a604-d34ad2c412f1",
   "metadata": {
    "tags": []
   },
   "source": [
    "### Monthly FFDI"
   ]
  },
  {
   "cell_type": "code",
   "execution_count": 10,
   "id": "5c40cd7e-aae9-472c-a09a-0c34ffa527c5",
   "metadata": {},
   "outputs": [],
   "source": [
    "ffdi_monthly = ffdi.resample(time='MS').mean()\n",
    "ffdi_monthly = ffdi_monthly.chunk({'time': -1, 'lat': -1, 'lon': -1})\n",
    "ffdi_monthly = ffdi_monthly.to_dataset(name='FFDI')"
   ]
  },
  {
   "cell_type": "code",
   "execution_count": 41,
   "id": "6a53f8cc-b49d-4fef-b072-8658071bf486",
   "metadata": {},
   "outputs": [
    {
     "name": "stdout",
     "output_type": "stream",
     "text": [
      "CPU times: user 28.7 s, sys: 792 ms, total: 29.5 s\n",
      "Wall time: 1min 17s\n"
     ]
    },
    {
     "data": {
      "text/plain": [
       "<xarray.backends.zarr.ZarrStore at 0x2aaaf79ed890>"
      ]
     },
     "execution_count": 41,
     "metadata": {},
     "output_type": "execute_result"
    }
   ],
   "source": [
    "%%time\n",
    "ffdi_monthly.to_zarr('/scratch1/ric368/projects/fire/data/derived/jra_monthly_ffdi_global_195801_202012.zarr',\n",
    "                     mode='w', consolidated=True)"
   ]
  },
  {
   "cell_type": "markdown",
   "id": "7991c786-3170-4477-a4bb-61d5d30dea9c",
   "metadata": {
    "tags": []
   },
   "source": [
    "#### Get the month that corresponds to the \"fire (weather) season\" for each grid box."
   ]
  },
  {
   "cell_type": "code",
   "execution_count": 15,
   "id": "975a7227-31f4-481a-808e-621138ae33d1",
   "metadata": {},
   "outputs": [
    {
     "name": "stdout",
     "output_type": "stream",
     "text": [
      "CPU times: user 55.5 s, sys: 1.54 s, total: 57.1 s\n",
      "Wall time: 4min 14s\n"
     ]
    }
   ],
   "source": [
    "%%time\n",
    "ffdi_max_month = fn.get_max_month(ffdi_monthly.FFDI.sel(time=slice('1970', '2020'))).compute()"
   ]
  },
  {
   "cell_type": "markdown",
   "id": "c36f3f5a-7304-4f81-b833-16fae0c6e246",
   "metadata": {},
   "source": [
    "#### Define extreme FFDI days"
   ]
  },
  {
   "cell_type": "code",
   "execution_count": 43,
   "id": "bcd1e9f2-faee-480a-9959-79fe478624d1",
   "metadata": {},
   "outputs": [
    {
     "name": "stdout",
     "output_type": "stream",
     "text": [
      "CPU times: user 2min 15s, sys: 4.66 s, total: 2min 20s\n",
      "Wall time: 3min 38s\n"
     ]
    }
   ],
   "source": [
    "%%time\n",
    "thresh = fn.get_quantile_thresholds(ffdi, 0.95, ['time'], lat_chunk=30, lon_chunk=50).compute()"
   ]
  },
  {
   "cell_type": "code",
   "execution_count": 44,
   "id": "cbc419cf-a2fc-41f0-868e-021a07d9debf",
   "metadata": {},
   "outputs": [],
   "source": [
    "ffdi_extreme = ffdi > thresh"
   ]
  },
  {
   "cell_type": "code",
   "execution_count": 16,
   "id": "8716e41b-d02a-47ba-9bc2-bfccf805c243",
   "metadata": {},
   "outputs": [],
   "source": [
    "# End month of fire year\n",
    "grid_year_end = fn.get_year_end(ffdi_max_month, shift=5)"
   ]
  },
  {
   "cell_type": "code",
   "execution_count": 18,
   "id": "42d28a10-cccd-41a6-b60d-2a2544a46801",
   "metadata": {},
   "outputs": [
    {
     "data": {
      "text/plain": [
       "<xarray.backends.zarr.ZarrStore at 0x2aab09c8d270>"
      ]
     },
     "execution_count": 18,
     "metadata": {},
     "output_type": "execute_result"
    }
   ],
   "source": [
    "grid_year_end_ds = grid_year_end.to_dataset(name='month')\n",
    "grid_year_end_ds.to_zarr('/scratch1/ric368/projects/fire/data/derived/jra_ffdi_fire_year_end_month.zarr',\n",
    "                         mode='w', consolidated=True)"
   ]
  },
  {
   "cell_type": "markdown",
   "id": "d1c5fad4-46a9-42e6-a110-d8c7353a3b22",
   "metadata": {},
   "source": [
    "#### Number of extreme days per fire year"
   ]
  },
  {
   "cell_type": "code",
   "execution_count": 96,
   "id": "c59a5d84-0073-4377-9a03-aae91daaf934",
   "metadata": {},
   "outputs": [
    {
     "name": "stdout",
     "output_type": "stream",
     "text": [
      "CPU times: user 3.82 s, sys: 33.1 ms, total: 3.85 s\n",
      "Wall time: 3.82 s\n"
     ]
    }
   ],
   "source": [
    "%%time\n",
    "grid_ex_dpy = fn.calculate_extreme_days_per_fire_year(ffdi_extreme, grid_year_end, compute_monthly=False)#.compute()"
   ]
  },
  {
   "cell_type": "code",
   "execution_count": 97,
   "id": "0741361f-ca9e-41ec-a14a-ccb12e4162d7",
   "metadata": {},
   "outputs": [],
   "source": [
    "grid_ex_dpy = grid_ex_dpy.sel(time=slice('1959', '2021')) # remove 1958 as not many grid cells have data"
   ]
  },
  {
   "cell_type": "markdown",
   "id": "ff52a905-0e3c-4f5d-b353-3a313b11eae4",
   "metadata": {},
   "source": [
    "#### Remove tropics pre 1970 again (previous operations have inserted zeros here)"
   ]
  },
  {
   "cell_type": "code",
   "execution_count": 98,
   "id": "7c39e9af-1a99-498a-8c82-8782e5654c6d",
   "metadata": {},
   "outputs": [],
   "source": [
    "grid_ex_dpy = fn.remove_data(grid_ex_dpy, nh_lim=23.44, sh_lim=-23.44, time_max='1970-01-01')"
   ]
  },
  {
   "cell_type": "code",
   "execution_count": 104,
   "id": "a49cab18-3f01-4d38-814b-7aab6179c6b2",
   "metadata": {},
   "outputs": [
    {
     "name": "stdout",
     "output_type": "stream",
     "text": [
      "CPU times: user 2min 3s, sys: 3.3 s, total: 2min 7s\n",
      "Wall time: 3min 12s\n"
     ]
    },
    {
     "data": {
      "text/plain": [
       "<xarray.backends.zarr.ZarrStore at 0x2aaaed60a580>"
      ]
     },
     "execution_count": 104,
     "metadata": {},
     "output_type": "execute_result"
    }
   ],
   "source": [
    "%%time\n",
    "grid_ex_dpy = grid_ex_dpy.chunk({'time':-1, 'lat':-1, 'lon':-1})\n",
    "grid_ex_dpy = grid_ex_dpy.to_dataset(name='ffdi_dpy')\n",
    "grid_ex_dpy.to_zarr('/scratch1/ric368/projects/fire/data/derived/jra_extreme_ffdi_dpy_global_1959_2020.zarr',\n",
    "                     mode='w', consolidated=True)"
   ]
  },
  {
   "cell_type": "markdown",
   "id": "67299377-9964-448d-b610-1bfb580f0e12",
   "metadata": {
    "tags": []
   },
   "source": [
    "# GPCC precipitation"
   ]
  },
  {
   "cell_type": "code",
   "execution_count": 118,
   "id": "c9a64b9d-1c05-4a9d-9165-b159f6bd4e62",
   "metadata": {},
   "outputs": [],
   "source": [
    "gpcc = xr.open_mfdataset('/OSM/CBR/OA_DCFP/work/ric368/data/GPCC/precip.full.data.monthly.v2020.1891-2019.concat.monitoring.v6.202001-202012.1deg.nc')"
   ]
  },
  {
   "cell_type": "markdown",
   "id": "21a428cf-db8b-48fa-909b-cc4d57922265",
   "metadata": {},
   "source": [
    "#### Precip in lead up to fire season, on JRA grid"
   ]
  },
  {
   "cell_type": "code",
   "execution_count": 119,
   "id": "c23ece07-333e-421a-ab28-acae35492412",
   "metadata": {},
   "outputs": [],
   "source": [
    "# interpolate GPCC onto JRA grid\n",
    "jra_grid = xr.DataArray(np.zeros((len(range(1953, 2021))*12,\n",
    "                                  len(ffdi_monthly['lat']),\n",
    "                                  len(ffdi_monthly['lon']))),\n",
    "                        coords={'time': pd.date_range('1953-01-01', '2020-12-01', freq='1MS'),\n",
    "                                'lat': ffdi_monthly['lat'],\n",
    "                                'lon': ffdi_monthly['lon']},\n",
    "                        dims=['time', 'lat', 'lon'])\n",
    "gpcc_jra_grid = gpcc['precip'].interp_like(jra_grid)"
   ]
  },
  {
   "cell_type": "code",
   "execution_count": 125,
   "id": "79179f56-efc1-4fc2-bf65-d74d378bd9a1",
   "metadata": {},
   "outputs": [],
   "source": [
    "grid_ypr = fn.accumulate_to_year_end(gpcc_jra_grid, grid_year_end, jra_mask)\n",
    "grid_ypr = grid_ypr.sel(time=slice('1959', '2020'))"
   ]
  },
  {
   "cell_type": "code",
   "execution_count": 128,
   "id": "0856c73e-e63c-4d34-a2c0-3ec70577a4d9",
   "metadata": {},
   "outputs": [
    {
     "name": "stdout",
     "output_type": "stream",
     "text": [
      "CPU times: user 34.1 s, sys: 757 ms, total: 34.9 s\n",
      "Wall time: 1min 1s\n"
     ]
    },
    {
     "data": {
      "text/plain": [
       "<xarray.backends.zarr.ZarrStore at 0x2aaaffab7f20>"
      ]
     },
     "execution_count": 128,
     "metadata": {},
     "output_type": "execute_result"
    }
   ],
   "source": [
    "%%time\n",
    "grid_ypr = grid_ypr.chunk({'time':-1, 'lat':-1, 'lon':-1})\n",
    "grid_ypr = grid_ypr.to_dataset(name='precip')\n",
    "grid_ypr.to_zarr('/scratch1/ric368/projects/fire/data/derived/gpcc_fire_year_precip_jra_grid_global_1959_2020.zarr',\n",
    "                     mode='w', consolidated=True)"
   ]
  },
  {
   "cell_type": "markdown",
   "id": "e03d6a4f-ecac-464e-bb05-930e95d3e4fd",
   "metadata": {},
   "source": [
    "# Burned area data"
   ]
  },
  {
   "cell_type": "code",
   "execution_count": 7,
   "id": "cccdd7af-2424-435e-bda7-4323bb451a67",
   "metadata": {},
   "outputs": [],
   "source": [
    "cci_fire_modis = xr.open_mfdataset('/scratch1/ric368/projects/fire/data/cci_fire/*cds.nc')\n",
    "cci_fire_2020 = xr.open_mfdataset('/scratch1/ric368/projects/fire/data/cci_fire/*fv1.0.nc')\n",
    "\n",
    "fire = xr.concat([cci_fire_modis.burned_area, cci_fire_2020.burned_area], dim='time') \\\n",
    "       / 1e6 # divide by 1e6 to convert from m^2 to km^2"
   ]
  },
  {
   "cell_type": "markdown",
   "id": "bae0a61c-fd19-4ffc-9ec6-1e892f5ba3d1",
   "metadata": {},
   "source": [
    "#### Ensure times are start of each month"
   ]
  },
  {
   "cell_type": "code",
   "execution_count": 8,
   "id": "c3b9e7c9-6cec-4b3c-9881-a86c4afb8b91",
   "metadata": {},
   "outputs": [],
   "source": [
    "fy = fire.time[0].dt.year.values\n",
    "fm = fire.time[0].dt.month.values\n",
    "\n",
    "ly = fire.time[-1].dt.year.values\n",
    "lm = fire.time[-1].dt.month.values\n",
    "\n",
    "new_time = pd.date_range(str(fy)+'-'+str(fm), str(ly)+'-'+str(lm), freq='MS')\n",
    "fire['time'] = new_time"
   ]
  },
  {
   "cell_type": "code",
   "execution_count": 9,
   "id": "22d385fe-5cbb-4156-97ff-99fed678686d",
   "metadata": {},
   "outputs": [],
   "source": [
    "fire = fire.compute()"
   ]
  },
  {
   "cell_type": "code",
   "execution_count": 10,
   "id": "f55ef703-e628-41fd-b45c-103fa96fc783",
   "metadata": {},
   "outputs": [
    {
     "data": {
      "text/plain": [
       "<xarray.backends.zarr.ZarrStore at 0x2aaaf2da46d0>"
      ]
     },
     "execution_count": 10,
     "metadata": {},
     "output_type": "execute_result"
    }
   ],
   "source": [
    "fire_ds = fire.to_dataset(name='burned_area')\n",
    "fire_ds.to_zarr('/scratch1/ric368/projects/fire/data/derived/cci_burned_area_monthly_global_200101_202004.zarr',\n",
    "                     mode='w', consolidated=True)"
   ]
  },
  {
   "cell_type": "markdown",
   "id": "7e518603-c33c-4a57-af90-e74acbf1ce15",
   "metadata": {},
   "source": [
    "#### Mask of burned area"
   ]
  },
  {
   "cell_type": "code",
   "execution_count": 14,
   "id": "73c225ff-cb19-4d06-897d-0f80c7ca035f",
   "metadata": {},
   "outputs": [],
   "source": [
    "fire_sum = fire.sum('time')\n",
    "fire_mask = fire_sum.where(fire_sum == 0, 1) # mask to exlude grid cells that never burned 2001-2020"
   ]
  },
  {
   "cell_type": "code",
   "execution_count": 17,
   "id": "1b5a5d97-4ce8-42e5-a8af-97ff241b81c4",
   "metadata": {},
   "outputs": [
    {
     "data": {
      "text/plain": [
       "<xarray.backends.zarr.ZarrStore at 0x2aaaf3145120>"
      ]
     },
     "execution_count": 17,
     "metadata": {},
     "output_type": "execute_result"
    }
   ],
   "source": [
    "fire_mask_ds = fire_mask.to_dataset(name='burned_cells')\n",
    "fire_mask_ds.to_zarr('/scratch1/ric368/projects/fire/data/masks/cci_burned_area.zarr',\n",
    "                    mode='w', consolidated=True)"
   ]
  },
  {
   "cell_type": "markdown",
   "id": "54da4103-b5ef-4cf2-a6c3-8e0f0eb0acc7",
   "metadata": {},
   "source": [
    "#### Month of maximum average burned area"
   ]
  },
  {
   "cell_type": "code",
   "execution_count": 135,
   "id": "30adec75-061c-40a8-807c-c2b943a468ca",
   "metadata": {},
   "outputs": [],
   "source": [
    "fire_max_month = fn.get_max_month(fire.sel(time=slice('2001', '2019')))"
   ]
  },
  {
   "cell_type": "markdown",
   "id": "aa8bd1eb-93b7-447d-8067-bb369d6fab9d",
   "metadata": {},
   "source": [
    "#### Create mask on JRA grid for burned cells"
   ]
  },
  {
   "cell_type": "code",
   "execution_count": 19,
   "id": "8e531a21-f7e6-47af-bdc9-cb7cc517cb50",
   "metadata": {},
   "outputs": [],
   "source": [
    "def aggregate_grid(ds, lat_des, lon_des, lat_name='lat', lon_name='lon'):\n",
    "    \n",
    "    with dask.config.set(**{'array.slicing.split_large_chunks': True}):\n",
    "    \n",
    "        def _get_bin_edges(bins):\n",
    "            dbin = np.diff(bins)/2\n",
    "            bin_edges = np.concatenate(([bins[0]-dbin[0]], \n",
    "                                         bins[:-1]+dbin, \n",
    "                                         [bins[-1]+dbin[-1]]))\n",
    "            return bin_edges\n",
    "\n",
    "        ds = ds.copy().sortby('lat')\n",
    "\n",
    "        lat_edges = _get_bin_edges(lat_des)\n",
    "        lon_edges = _get_bin_edges(lon_des)\n",
    "\n",
    "        ds_cpy = ds.copy()\n",
    "        ds_cpy['N'] = (0*ds_cpy[list(ds_cpy.data_vars)[0]]+1)\n",
    "\n",
    "        ds_sum = ds_cpy.groupby_bins(lon_name, lon_edges, labels=lon_des).sum(lon_name, skipna=False) \\\n",
    "                       .groupby_bins(lat_name, lat_edges, labels=lat_des).sum(lat_name, skipna=False)\n",
    "\n",
    "        return ds_sum.drop('N').rename({lon_name+'_bins': lon_name,\n",
    "                                        lat_name+'_bins': lat_name})"
   ]
  },
  {
   "cell_type": "code",
   "execution_count": 32,
   "id": "f731382b-5f04-48aa-bfd6-d055ee035c0e",
   "metadata": {},
   "outputs": [
    {
     "name": "stderr",
     "output_type": "stream",
     "text": [
      "/scratch1/ric368/.conda/envs/pangeo/lib/python3.9/site-packages/xarray/core/indexing.py:1226: PerformanceWarning: Slicing is producing a large chunk. To accept the large\n",
      "chunk and silence this warning, set the option\n",
      "    >>> with dask.config.set(**{'array.slicing.split_large_chunks': False}):\n",
      "    ...     array[indexer]\n",
      "\n",
      "To avoid creating the large chunks, set the option\n",
      "    >>> with dask.config.set(**{'array.slicing.split_large_chunks': True}):\n",
      "    ...     array[indexer]\n",
      "  return self.array[key]\n"
     ]
    }
   ],
   "source": [
    "ba_jra_grid = aggregate_grid(fire.to_dataset(name='burned_area'),\n",
    "                             ffdi.sortby('lat')['lat'].values,\n",
    "                             ffdi['lon'].values).burned_area\n",
    "ba_jra_grid = ba_jra_grid.sortby('lat', ascending=False)"
   ]
  },
  {
   "cell_type": "markdown",
   "id": "d851cc13-f2d0-40a1-8e06-67caafae1ace",
   "metadata": {},
   "source": [
    "### Burned area for fire year"
   ]
  },
  {
   "cell_type": "code",
   "execution_count": 15,
   "id": "f8a10976-70cb-4dd4-bf09-4d30409dc4da",
   "metadata": {},
   "outputs": [],
   "source": [
    "# Extend to end of 2020\n",
    "extend_time = pd.date_range('2001-01', '2020-12', freq='1MS')\n",
    "fire_extend = fire.reindex({'time': extend_time})"
   ]
  },
  {
   "cell_type": "code",
   "execution_count": 49,
   "id": "be9921db-07de-4e9f-8dc9-96eb7dc5e319",
   "metadata": {},
   "outputs": [
    {
     "name": "stdout",
     "output_type": "stream",
     "text": [
      "CPU times: user 30.1 s, sys: 744 ms, total: 30.8 s\n",
      "Wall time: 58.6 s\n"
     ]
    },
    {
     "data": {
      "text/plain": [
       "<xarray.backends.zarr.ZarrStore at 0x2aab63cc7eb0>"
      ]
     },
     "execution_count": 49,
     "metadata": {},
     "output_type": "execute_result"
    }
   ],
   "source": [
    "%%time\n",
    "ba_jra_fw_season = fn.accumulate_to_year_end(ba_jra_grid.reindex({'time': extend_time}).fillna(0), # Apr 2020 last data point - fill with zeros to enable FW year end selection\n",
    "                                             shift=0,\n",
    "                                             year_ends=grid_year_end)\n",
    "ba_jra_fw_season_ds = ba_jra_fw_season.to_dataset(name='burned_area')\n",
    "ba_jra_fw_season_ds.to_zarr('/scratch1/ric368/projects/fire/data/derived/cci_fire_year_burned_area_jra_grid_global_2001_2020.zarr',\n",
    "                     mode='w', consolidated=True)"
   ]
  },
  {
   "cell_type": "code",
   "execution_count": 33,
   "id": "2050a092-6003-4626-a7f7-6f7d466f34a5",
   "metadata": {},
   "outputs": [],
   "source": [
    "jra_ba_mask = xr.where(ba_jra_grid.sum('time') > 0, 1, np.nan)\n",
    "jra_ba_mask = jra_ba_mask.to_dataset(name='burned_cells')\n",
    "jra_ba_mask.to_zarr('/scratch1/ric368/projects/fire/data/masks/jra_burned_area_mask.zarr',\n",
    "                mode='w', consolidated=True)\n",
    "jra_ba_mask = jra_ba_mask.burned_cells"
   ]
  },
  {
   "cell_type": "code",
   "execution_count": 35,
   "id": "d6b97c10-6e6d-4adb-8ff1-1a0edf9d5eef",
   "metadata": {},
   "outputs": [
    {
     "data": {
      "text/plain": [
       "<matplotlib.collections.QuadMesh at 0x2aaaf6dc1f70>"
      ]
     },
     "execution_count": 35,
     "metadata": {},
     "output_type": "execute_result"
    },
    {
     "data": {
      "image/png": "[encoded data removed]",
      "text/plain": [
       "<Figure size 432x288 with 2 Axes>"
      ]
     },
     "metadata": {
      "needs_background": "light"
     },
     "output_type": "display_data"
    }
   ],
   "source": [
    "jra_ba_mask.plot()"
   ]
  },
  {
   "cell_type": "markdown",
   "id": "29ff0b99-1fb7-4e47-8972-ae86f5430edc",
   "metadata": {},
   "source": [
    "#### Create mask on GPCC grid for burned cells"
   ]
  },
  {
   "cell_type": "code",
   "execution_count": 144,
   "id": "4d505d17-9b29-401b-837b-d9224b97520b",
   "metadata": {},
   "outputs": [],
   "source": [
    "ba_gpcc_grid = aggregate_grid(fire.to_dataset(name='burned_area'),\n",
    "                              gpcc.sortby('lat')['lat'].values,\n",
    "                              gpcc['lon'].values).burned_area\n",
    "ba_gpcc_grid = ba_gpcc_grid.sortby('lat', ascending=False)"
   ]
  },
  {
   "cell_type": "code",
   "execution_count": 220,
   "id": "d86cb719-d36b-4507-9173-ed5667516382",
   "metadata": {},
   "outputs": [],
   "source": [
    "gpcc_ba_mask = xr.where(gpcc_jra_grid.sum('time') > 0, 1, np.nan)\n",
    "gpcc_ba_mask = gpcc_ba_mask.to_dataset(name='burned_cells')\n",
    "gpcc_ba_mask.to_zarr('/scratch1/ric368/projects/fire/data/masks/gpcc_burned_area_mask.zarr',\n",
    "                mode='w', consolidated=True)\n",
    "gpcc_ba_mask = gpcc_ba_mask.burned_cells.compute()"
   ]
  },
  {
   "cell_type": "code",
   "execution_count": 222,
   "id": "d8912845-33ba-4081-ba0d-5fa84ed349b6",
   "metadata": {},
   "outputs": [
    {
     "data": {
      "text/plain": [
       "<matplotlib.collections.QuadMesh at 0x2aab0a5001f0>"
      ]
     },
     "execution_count": 222,
     "metadata": {},
     "output_type": "execute_result"
    },
    {
     "data": {
      "image/png": "[encoded data removed]",
      "text/plain": [
       "<Figure size 432x288 with 2 Axes>"
      ]
     },
     "metadata": {
      "needs_background": "light"
     },
     "output_type": "display_data"
    }
   ],
   "source": [
    "gpcc_ba_mask.plot()"
   ]
  },
  {
   "cell_type": "markdown",
   "id": "7192abca-f6ef-4cf7-bcf0-1cc76753ed6b",
   "metadata": {},
   "source": [
    "# Data for IPCC AR6 regions\n",
    "\n",
    "- From Iturbide et al. (2020): https://essd.copernicus.org/articles/12/2959/2020/essd-12-2959-2020.html"
   ]
  },
  {
   "attachments": {
    "af671d10-188a-4afd-9fde-cbb5126bcebb.png": {
     "image/png": "[encoded data removed]"
    }
   },
   "cell_type": "markdown",
   "id": "95285359-f167-4de9-b823-9ab3d96e01c6",
   "metadata": {},
   "source": [
    "![plotting_ar6_all.png](attachment:af671d10-188a-4afd-9fde-cbb5126bcebb.png)"
   ]
  },
  {
   "cell_type": "code",
   "execution_count": 11,
   "id": "8d20958e-dc5c-4308-b1bd-6f3ba6ac2508",
   "metadata": {},
   "outputs": [],
   "source": [
    "ar6_regions = geopandas.read_file(\"/scratch1/ric368/data/ar6_regions/IPCC-WGI-reference-regions-v4_shapefile/IPCC-WGI-reference-regions-v4.shp\")"
   ]
  },
  {
   "cell_type": "code",
   "execution_count": 12,
   "id": "86a3b613-4ce1-4028-9dda-8957a5075861",
   "metadata": {},
   "outputs": [],
   "source": [
    "NH_region_codes = [1, 2, 3, 4, 5, 6, 16, 17, 18, 19, 20, 28, 29, 30, 31, 32, 33, 34, 35, 36]\n",
    "SH_region_codes = [13, 14, 15, 25, 26, 27, 40, 41, 42, 43]\n",
    "tropics_region_codes = [7, 8, 9, 10, 11, 12, 21, 22, 23, 24, 37, 38, 39]\n",
    "\n",
    "region_codes = NH_region_codes + SH_region_codes + tropics_region_codes\n",
    "regions = {number: name for number, name in zip(region_codes, list(ar6_regions.iloc[region_codes].Acronym))}"
   ]
  },
  {
   "cell_type": "markdown",
   "id": "d144cf14-b3eb-4f8d-85cb-ebc5b652aded",
   "metadata": {},
   "source": [
    "## AR6 FFDI"
   ]
  },
  {
   "cell_type": "code",
   "execution_count": 13,
   "id": "7be7f0ad-d43c-4e2b-bfec-151304f52c5f",
   "metadata": {},
   "outputs": [],
   "source": [
    "def regional_mean(da, regions, mask):\n",
    "    region_mask = fn.get_ar6_region_mask(da)\n",
    "    da_list = []\n",
    "    for r_code, r_name in zip(regions.keys(), regions.values()):\n",
    "        r_mask = region_mask.where(region_mask == r_code, 0) / r_code\n",
    "        da_list.append(da.where((r_mask == True) & (mask == True), drop=True) \\\n",
    "                               .mean(['lat', 'lon'], skipna=True) \\\n",
    "                               .assign_coords({'region': r_name}))\n",
    "    return xr.concat(da_list, dim='region')"
   ]
  },
  {
   "cell_type": "code",
   "execution_count": 202,
   "id": "a07974c1-6a5f-403c-9fae-cee24268ac8b",
   "metadata": {},
   "outputs": [
    {
     "name": "stderr",
     "output_type": "stream",
     "text": [
      "<ipython-input-200-6dc3bfdde721>:2: FutureWarning: Using 'Regions_cls' is deprecated, please use 'Regions' instead. Please note that the call signature is different.\n",
      "  region_mask = fn.get_ar6_region_mask(da)\n"
     ]
    },
    {
     "name": "stdout",
     "output_type": "stream",
     "text": [
      "CPU times: user 10.7 s, sys: 292 ms, total: 11 s\n",
      "Wall time: 19.8 s\n"
     ]
    }
   ],
   "source": [
    "%%time\n",
    "ar6_ffdi = regional_mean(ffdi, regions, jra_ba_mask)\n",
    "ar6_ffdi = ar6_ffdi.compute()"
   ]
  },
  {
   "cell_type": "markdown",
   "id": "9d178a46-72b5-44d1-bb4e-00c301d15a09",
   "metadata": {},
   "source": [
    "#### Define extreme days"
   ]
  },
  {
   "cell_type": "code",
   "execution_count": 203,
   "id": "f81eb13a-52d0-4431-a24f-d3c9f5d976a4",
   "metadata": {},
   "outputs": [],
   "source": [
    "q = 0.95"
   ]
  },
  {
   "cell_type": "code",
   "execution_count": 204,
   "id": "1daf7709-8749-41f0-a9a2-39a9d4057e92",
   "metadata": {},
   "outputs": [],
   "source": [
    "thresh = ar6_ffdi.reduce(np.nanpercentile, q=q*100, dim='time')"
   ]
  },
  {
   "cell_type": "code",
   "execution_count": 205,
   "id": "325e70a5-9e71-4611-9322-02cd54ea1c96",
   "metadata": {},
   "outputs": [],
   "source": [
    "ar6_ffdi = ar6_ffdi.to_dataset(name='FFDI')"
   ]
  },
  {
   "cell_type": "code",
   "execution_count": 206,
   "id": "6b6a497c-5c0f-40f0-82d6-297e045d2bfc",
   "metadata": {},
   "outputs": [],
   "source": [
    "ar6_ffdi['extreme'] = ar6_ffdi['FFDI'] > thresh"
   ]
  },
  {
   "cell_type": "markdown",
   "id": "722847fc-882c-4023-8880-37e799b6424c",
   "metadata": {},
   "source": [
    "#### Monthly counts of extreme FFDI days"
   ]
  },
  {
   "cell_type": "code",
   "execution_count": 207,
   "id": "3d3d3b9a-c1ab-48e8-a0c3-a66b119a4abc",
   "metadata": {},
   "outputs": [],
   "source": [
    "ar6_ffdi_m = ar6_ffdi['extreme'].resample(time='1MS').sum()"
   ]
  },
  {
   "cell_type": "code",
   "execution_count": 208,
   "id": "76998fd7-9156-4ef4-98f3-bb754c479152",
   "metadata": {},
   "outputs": [
    {
     "data": {
      "text/plain": [
       "<xarray.backends.zarr.ZarrStore at 0x2aab34777b30>"
      ]
     },
     "execution_count": 208,
     "metadata": {},
     "output_type": "execute_result"
    }
   ],
   "source": [
    "ar6_ffdi_m = ar6_ffdi_m.to_dataset(name='ffdi_dpm')\n",
    "ar6_ffdi_m.to_zarr('/scratch1/ric368/projects/fire/data/derived/jra_ar6_extreme_ffdi_dpm_global_195801_202012.zarr',\n",
    "                 consolidated=True, mode='w')"
   ]
  },
  {
   "cell_type": "markdown",
   "id": "ddae20d3-c1b3-48f8-a5cc-70b6f9def567",
   "metadata": {},
   "source": [
    "#### Extreme days per fire year\n",
    "- Fire year runs from -6 to +5 months from the month of the highest average FFDI"
   ]
  },
  {
   "cell_type": "code",
   "execution_count": 209,
   "id": "ee3e0803-379d-4c0a-a18b-6771986e5ef4",
   "metadata": {},
   "outputs": [],
   "source": [
    "region_ffdi_max_month = fn.get_max_month(ar6_ffdi['FFDI'])"
   ]
  },
  {
   "cell_type": "code",
   "execution_count": 210,
   "id": "b131373e-2bd7-4ab1-8e46-56f788b6d36b",
   "metadata": {},
   "outputs": [],
   "source": [
    "region_year_end = fn.get_year_end(region_ffdi_max_month, shift=5)"
   ]
  },
  {
   "cell_type": "code",
   "execution_count": 211,
   "id": "86339927-4fce-4c2c-be7a-66b219d008c2",
   "metadata": {},
   "outputs": [],
   "source": [
    "region_ex_dpy = fn.calculate_extreme_days_per_fire_year(ar6_ffdi['extreme'], region_year_end)"
   ]
  },
  {
   "cell_type": "markdown",
   "id": "a831a158-03fa-4d91-b0a8-c78c7e5a1a13",
   "metadata": {},
   "source": [
    "#### Exclude 1958 as not valid for many regions"
   ]
  },
  {
   "cell_type": "code",
   "execution_count": 212,
   "id": "d5453b35-2129-49a9-a75f-8e061d683879",
   "metadata": {},
   "outputs": [],
   "source": [
    "region_ex_dpy = region_ex_dpy.sel(time=slice('1959', '2020'))"
   ]
  },
  {
   "cell_type": "code",
   "execution_count": 213,
   "id": "eb279115-d9cf-448c-912c-e3ff4415fc55",
   "metadata": {},
   "outputs": [
    {
     "data": {
      "text/plain": [
       "<xarray.backends.zarr.ZarrStore at 0x2aab4c1b46d0>"
      ]
     },
     "execution_count": 213,
     "metadata": {},
     "output_type": "execute_result"
    }
   ],
   "source": [
    "region_ex_dpy = region_ex_dpy.to_dataset(name='ffdi_dpy')\n",
    "region_ex_dpy.to_zarr('/scratch1/ric368/projects/fire/data/derived/jra_ar6_extreme_ffdi_dpy_global_1959_2020.zarr',\n",
    "                     mode='w', consolidated=True)"
   ]
  },
  {
   "cell_type": "markdown",
   "id": "619c3cd7-0a67-478a-8af8-cfaf0b269cea",
   "metadata": {},
   "source": [
    "## AR6 GPCC precip"
   ]
  },
  {
   "cell_type": "code",
   "execution_count": 242,
   "id": "43c24ea8-8e0f-421d-9724-6717e83d8ecb",
   "metadata": {},
   "outputs": [
    {
     "name": "stderr",
     "output_type": "stream",
     "text": [
      "<ipython-input-200-6dc3bfdde721>:2: FutureWarning: Using 'Regions_cls' is deprecated, please use 'Regions' instead. Please note that the call signature is different.\n",
      "  region_mask = fn.get_ar6_region_mask(da)\n"
     ]
    }
   ],
   "source": [
    "ar6_pr = regional_mean(gpcc.precip, regions, gpcc_ba_mask)\n",
    "ar6_pr = ar6_pr.sel(time=slice('1950', '2020'))\n",
    "ar6_pr = ar6_pr.compute()"
   ]
  },
  {
   "cell_type": "code",
   "execution_count": 244,
   "id": "ce1cc05e-fe48-4c53-b14d-778016d0862b",
   "metadata": {},
   "outputs": [
    {
     "data": {
      "text/plain": [
       "<xarray.backends.zarr.ZarrStore at 0x2aab36c282e0>"
      ]
     },
     "execution_count": 244,
     "metadata": {},
     "output_type": "execute_result"
    }
   ],
   "source": [
    "ar6_pr = ar6_pr.to_dataset(name='precip')\n",
    "ar6_pr.to_zarr('/scratch1/ric368/projects/fire/data/derived/gpcc_ar6_precip_monthly_global_1950_2020.zarr',\n",
    "                     mode='w', consolidated=True)"
   ]
  },
  {
   "cell_type": "markdown",
   "id": "0e04569e-b409-4418-ac69-72fa30a1860f",
   "metadata": {},
   "source": [
    "#### Annual precip up to peak of fire season\n",
    "- Accumulated precip up to month of max FFDI."
   ]
  },
  {
   "cell_type": "markdown",
   "id": "e855b6a4-14f8-4f80-b42a-6b28dfa9da33",
   "metadata": {},
   "source": [
    "First shift precip forward in time 5 months. This means the end month of a precip year is the same as the end month of a fire weather year.\n",
    "\n",
    "For example, for a region with peak FFDI in Dec, we want the fire year to run from Jun-May, and the precip year to run from Jan-Dec. So for\n",
    "1958/59 fire year, we want to align the FFDI summed up to May 1959 and precip up to Dec 1958. These are different years, but shifting precip\n",
    "forward by 5 months will ensure they align."
   ]
  },
  {
   "cell_type": "code",
   "execution_count": 245,
   "id": "c1138d6c-b774-4089-972d-eb6d8827e783",
   "metadata": {},
   "outputs": [],
   "source": [
    "region_ypr = fn.accumulate_to_year_end(ar6_pr.precip, region_year_end, mask=None)\n",
    "region_ypr = region_ypr.sel(time=slice('1957', '2020'))"
   ]
  },
  {
   "cell_type": "code",
   "execution_count": 246,
   "id": "3e32ec84-ddcb-471b-9f41-56b2517dcdf8",
   "metadata": {},
   "outputs": [
    {
     "data": {
      "text/plain": [
       "<xarray.backends.zarr.ZarrStore at 0x2aaaf018bf20>"
      ]
     },
     "execution_count": 246,
     "metadata": {},
     "output_type": "execute_result"
    }
   ],
   "source": [
    "region_ypr = region_ypr.to_dataset(name='precip_fire_year')\n",
    "region_ypr.to_zarr('/scratch1/ric368/projects/fire/data/derived/gpcc_ar6_precip_fire_year_global_1957_2020.zarr',\n",
    "                     mode='w', consolidated=True)"
   ]
  },
  {
   "cell_type": "markdown",
   "id": "c2353c5d-3d83-4487-8b4f-025e8a44ecc5",
   "metadata": {},
   "source": [
    "## AR6 BA"
   ]
  },
  {
   "cell_type": "code",
   "execution_count": 16,
   "id": "77ec5f42-d110-4108-ba0c-a18eb1d4e015",
   "metadata": {},
   "outputs": [
    {
     "name": "stderr",
     "output_type": "stream",
     "text": [
      "<ipython-input-16-15d878d17261>:3: FutureWarning: Using 'Regions_cls' is deprecated, please use 'Regions' instead. Please note that the call signature is different.\n",
      "  ar6_regions_mask = fn.get_ar6_region_mask(fire)\n"
     ]
    }
   ],
   "source": [
    "# Total burned area, not mean as with FFDI and precip.\n",
    "ar6_ba = []\n",
    "ar6_regions_mask = fn.get_ar6_region_mask(fire)\n",
    "for r_code, r_ac in zip(regions.keys(), regions.values()):\n",
    "    r_mask = ar6_regions_mask.where(ar6_regions_mask == r_code, 0) / r_code\n",
    "    ar6_ba.append(fire_extend.where(r_mask == True, drop=True) \\\n",
    "                             .sum(['lat', 'lon'], skipna=True) \\\n",
    "                             .assign_coords({'region': r_ac}))\n",
    "ar6_ba = xr.concat(ar6_ba, dim='region')"
   ]
  },
  {
   "cell_type": "code",
   "execution_count": 17,
   "id": "39fe70bd-3bc2-43ff-a73a-205cc548ee25",
   "metadata": {},
   "outputs": [
    {
     "data": {
      "text/plain": [
       "<xarray.backends.zarr.ZarrStore at 0x2aaaf30f7580>"
      ]
     },
     "execution_count": 17,
     "metadata": {},
     "output_type": "execute_result"
    }
   ],
   "source": [
    "ar6_ba = ar6_ba.to_dataset(name='burned_area')\n",
    "ar6_ba.to_zarr('/scratch1/ric368/projects/fire/data/derived/cci_ar6_burned_area_monthly_global_200101_202012.zarr',\n",
    "                     mode='w', consolidated=True)"
   ]
  },
  {
   "cell_type": "markdown",
   "id": "280c2440-ddd8-4446-8ce5-1b8805808e71",
   "metadata": {},
   "source": [
    "# Close cluster"
   ]
  },
  {
   "cell_type": "code",
   "execution_count": 18,
   "id": "1362af0c-ee4b-4873-b267-1cd67f028498",
   "metadata": {},
   "outputs": [],
   "source": [
    "client.close()\n",
    "cluster.close()"
   ]
  },
  {
   "cell_type": "code",
   "execution_count": null,
   "id": "ef72cece-ae72-457b-b9e7-2589e7865d9c",
   "metadata": {},
   "outputs": [],
   "source": []
  }
 ],
 "metadata": {
  "kernelspec": {
   "display_name": "Python 3",
   "language": "python",
   "name": "python3"
  },
  "language_info": {
   "codemirror_mode": {
    "name": "ipython",
    "version": 3
   },
   "file_extension": ".py",
   "mimetype": "text/x-python",
   "name": "python",
   "nbconvert_exporter": "python",
   "pygments_lexer": "ipython3",
   "version": "3.9.4"
  }
 },
 "nbformat": 4,
 "nbformat_minor": 5
}
